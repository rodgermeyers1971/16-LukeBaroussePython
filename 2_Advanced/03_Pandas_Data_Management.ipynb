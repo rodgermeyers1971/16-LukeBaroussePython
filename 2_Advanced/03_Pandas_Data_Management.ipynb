{
 "cells": [
  {
   "cell_type": "markdown",
   "id": "e01e7761",
   "metadata": {},
   "source": [
    "<a target=\"_blank\" href=\"https://colab.research.google.com/github/lukebarousse/Python_Data_Analytics_Course/blob/main/2_Advanced/03_Pandas_Data_Management.ipynb\">\n",
    "  <img src=\"https://colab.research.google.com/assets/colab-badge.svg\" alt=\"Open In Colab\"/>\n",
    "</a>"
   ]
  },
  {
   "cell_type": "markdown",
   "metadata": {
    "id": "Ah78BBuvJN8N"
   },
   "source": [
    "# Pandas Data Management"
   ]
  },
  {
   "cell_type": "markdown",
   "metadata": {},
   "source": [
    "Load data."
   ]
  },
  {
   "cell_type": "code",
   "execution_count": 1,
   "metadata": {},
   "outputs": [],
   "source": [
    "# Importing Libraries\n",
    "import pandas as pd\n",
    "from datasets import load_dataset\n",
    "import matplotlib.pyplot as plt  \n",
    "\n",
    "# Loading Data\n",
    "dataset = load_dataset('lukebarousse/data_jobs')\n",
    "df = dataset['train'].to_pandas()\n",
    "\n",
    "# Data Cleanup\n",
    "df['job_posted_date'] = pd.to_datetime(df['job_posted_date'])\n",
    "\n",
    "# DataFrame Copy\n",
    "df_original = df.copy()"
   ]
  },
  {
   "cell_type": "markdown",
   "metadata": {},
   "source": [
    "## Copy"
   ]
  },
  {
   "cell_type": "markdown",
   "metadata": {},
   "source": [
    "Recall from the last lesson, when we filled in missing values for median salary.\n",
    "\n",
    "Here let's make a new dataframe `df_altered` and only make changes to it."
   ]
  },
  {
   "cell_type": "code",
   "execution_count": 2,
   "metadata": {},
   "outputs": [
    {
     "data": {
      "text/plain": [
       "0   NaN\n",
       "1   NaN\n",
       "2   NaN\n",
       "3   NaN\n",
       "4   NaN\n",
       "5   NaN\n",
       "Name: salary_year_avg, dtype: float64"
      ]
     },
     "execution_count": 2,
     "metadata": {},
     "output_type": "execute_result"
    }
   ],
   "source": [
    "# Create new dataframe\n",
    "df_altered = df_original\n",
    "\n",
    "df_altered.loc[:5,'salary_year_avg']"
   ]
  },
  {
   "cell_type": "markdown",
   "metadata": {},
   "source": [
    "Let's fill in missing values with the median value."
   ]
  },
  {
   "cell_type": "code",
   "execution_count": 3,
   "metadata": {},
   "outputs": [],
   "source": [
    "# Calculating the median salary\n",
    "median_salary = df_altered['salary_year_avg'].median()\n",
    "\n",
    "# Filling the missing values with the median salary\n",
    "df_altered['salary_year_avg'] = df_altered.loc[:,'salary_year_avg'].fillna(median_salary)"
   ]
  },
  {
   "cell_type": "code",
   "execution_count": 4,
   "metadata": {},
   "outputs": [],
   "source": [
    "df_altered['salary_year_avg'] = df_altered['salary_year_avg'].fillna(median_salary)"
   ]
  },
  {
   "cell_type": "markdown",
   "metadata": {},
   "source": [
    "Now let's inspect the altered DataFrame."
   ]
  },
  {
   "cell_type": "code",
   "execution_count": 5,
   "metadata": {},
   "outputs": [
    {
     "data": {
      "text/plain": [
       "0    115000.0\n",
       "1    115000.0\n",
       "2    115000.0\n",
       "3    115000.0\n",
       "4    115000.0\n",
       "5    115000.0\n",
       "Name: salary_year_avg, dtype: float64"
      ]
     },
     "execution_count": 5,
     "metadata": {},
     "output_type": "execute_result"
    }
   ],
   "source": [
    "df_altered.loc[:5,'salary_year_avg']"
   ]
  },
  {
   "cell_type": "markdown",
   "metadata": {},
   "source": [
    "That was good...\n",
    "\n",
    "But what about the original..."
   ]
  },
  {
   "cell_type": "code",
   "execution_count": 6,
   "metadata": {},
   "outputs": [
    {
     "data": {
      "text/plain": [
       "0    115000.0\n",
       "1    115000.0\n",
       "2    115000.0\n",
       "3    115000.0\n",
       "4    115000.0\n",
       "5    115000.0\n",
       "Name: salary_year_avg, dtype: float64"
      ]
     },
     "execution_count": 6,
     "metadata": {},
     "output_type": "execute_result"
    }
   ],
   "source": [
    "df_original.loc[:5,'salary_year_avg']"
   ]
  },
  {
   "cell_type": "markdown",
   "metadata": {},
   "source": [
    "Holdup!! How the heck did `df_original` get altered!?!"
   ]
  },
  {
   "cell_type": "markdown",
   "metadata": {},
   "source": [
    "Well both the variables of `df_original` and `df_altered` are referencing the same DataFrame."
   ]
  },
  {
   "cell_type": "code",
   "execution_count": 7,
   "metadata": {},
   "outputs": [
    {
     "name": "stdout",
     "output_type": "stream",
     "text": [
      "ID of df_original:                6578811792\n",
      "ID of df_altered:                 6578811792\n",
      "Are the two dataframes the same?  True\n"
     ]
    }
   ],
   "source": [
    "print('ID of df_original:               ', id(df_original))\n",
    "print('ID of df_altered:                ', id(df_altered))\n",
    "print('Are the two dataframes the same? ', id(df_original) == id(df_altered))"
   ]
  },
  {
   "cell_type": "markdown",
   "metadata": {},
   "source": [
    "Instead we can use the .copy() method\n",
    "\n",
    "- `copy()`: Copy a DataFrame."
   ]
  },
  {
   "cell_type": "code",
   "execution_count": 8,
   "metadata": {},
   "outputs": [
    {
     "name": "stdout",
     "output_type": "stream",
     "text": [
      "ID of df_original:                6974615312\n",
      "ID of df_altered:                 6974615440\n",
      "Are the two dataframes the same?  False\n"
     ]
    }
   ],
   "source": [
    "df_original = df.copy()\n",
    "df_altered = df_original.copy()\n",
    "\n",
    "print('ID of df_original:               ', id(df_original))\n",
    "print('ID of df_altered:                ', id(df_altered))\n",
    "print('Are the two dataframes the same? ', id(df_original) == id(df_altered))"
   ]
  },
  {
   "cell_type": "markdown",
   "metadata": {},
   "source": [
    "Now when we do this same operation:"
   ]
  },
  {
   "cell_type": "code",
   "execution_count": 9,
   "metadata": {},
   "outputs": [
    {
     "data": {
      "text/plain": [
       "0    115000.0\n",
       "1    115000.0\n",
       "2    115000.0\n",
       "3    115000.0\n",
       "4    115000.0\n",
       "5    115000.0\n",
       "Name: salary_year_avg, dtype: float64"
      ]
     },
     "execution_count": 9,
     "metadata": {},
     "output_type": "execute_result"
    }
   ],
   "source": [
    "# Calculating the median salary\n",
    "median_salary = df_altered['salary_year_avg'].median()\n",
    "\n",
    "# Filling the missing values with the median salary\n",
    "df_altered['salary_year_avg'] = df_altered['salary_year_avg'].fillna(median_salary)\n",
    "\n",
    "df_altered.loc[:5,'salary_year_avg']"
   ]
  },
  {
   "cell_type": "markdown",
   "metadata": {},
   "source": [
    "The original dataframe doesn't get altered!"
   ]
  },
  {
   "cell_type": "code",
   "execution_count": 10,
   "metadata": {},
   "outputs": [
    {
     "data": {
      "text/plain": [
       "0   NaN\n",
       "1   NaN\n",
       "2   NaN\n",
       "3   NaN\n",
       "4   NaN\n",
       "5   NaN\n",
       "Name: salary_year_avg, dtype: float64"
      ]
     },
     "execution_count": 10,
     "metadata": {},
     "output_type": "execute_result"
    }
   ],
   "source": [
    "df_original.loc[:5,'salary_year_avg']"
   ]
  },
  {
   "cell_type": "markdown",
   "metadata": {},
   "source": [
    "Now that we've created a copy of our data, we want to start our analysis. But if we have a large set of data we only want to take a subset of data to make it more manageable. We can use `sample()` to get a random sample of the data."
   ]
  },
  {
   "cell_type": "markdown",
   "metadata": {},
   "source": [
    "## Sample\n",
    "\n",
    "### Notes\n",
    "\n",
    "* `sample()`: Random sample of items.\n",
    "\n",
    "### Examples\n",
    "\n",
    "Let's get a random sample of the data. You could get a sample with a fixed row number."
   ]
  },
  {
   "cell_type": "code",
   "execution_count": 11,
   "metadata": {},
   "outputs": [
    {
     "data": {
      "text/html": [
       "<div>\n",
       "<style scoped>\n",
       "    .dataframe tbody tr th:only-of-type {\n",
       "        vertical-align: middle;\n",
       "    }\n",
       "\n",
       "    .dataframe tbody tr th {\n",
       "        vertical-align: top;\n",
       "    }\n",
       "\n",
       "    .dataframe thead th {\n",
       "        text-align: right;\n",
       "    }\n",
       "</style>\n",
       "<table border=\"1\" class=\"dataframe\">\n",
       "  <thead>\n",
       "    <tr style=\"text-align: right;\">\n",
       "      <th></th>\n",
       "      <th>job_title_short</th>\n",
       "      <th>job_title</th>\n",
       "      <th>job_location</th>\n",
       "      <th>job_via</th>\n",
       "      <th>job_schedule_type</th>\n",
       "      <th>job_work_from_home</th>\n",
       "      <th>search_location</th>\n",
       "      <th>job_posted_date</th>\n",
       "      <th>job_no_degree_mention</th>\n",
       "      <th>job_health_insurance</th>\n",
       "      <th>job_country</th>\n",
       "      <th>salary_rate</th>\n",
       "      <th>salary_year_avg</th>\n",
       "      <th>salary_hour_avg</th>\n",
       "      <th>company_name</th>\n",
       "      <th>job_skills</th>\n",
       "      <th>job_type_skills</th>\n",
       "    </tr>\n",
       "  </thead>\n",
       "  <tbody>\n",
       "    <tr>\n",
       "      <th>187522</th>\n",
       "      <td>Data Engineer</td>\n",
       "      <td>Data Engineer Junior - Python / SQL (H/F)</td>\n",
       "      <td>Paris, France</td>\n",
       "      <td>via Indeed</td>\n",
       "      <td>Full-time</td>\n",
       "      <td>False</td>\n",
       "      <td>France</td>\n",
       "      <td>2023-01-25 18:49:43</td>\n",
       "      <td>False</td>\n",
       "      <td>False</td>\n",
       "      <td>France</td>\n",
       "      <td>None</td>\n",
       "      <td>NaN</td>\n",
       "      <td>NaN</td>\n",
       "      <td>pasteque.io</td>\n",
       "      <td>['python', 'sql']</td>\n",
       "      <td>{'programming': ['python', 'sql']}</td>\n",
       "    </tr>\n",
       "    <tr>\n",
       "      <th>344210</th>\n",
       "      <td>Data Analyst</td>\n",
       "      <td>Analyst Customer Data Management</td>\n",
       "      <td>Makati, Metro Manila, Philippines</td>\n",
       "      <td>via Talentify</td>\n",
       "      <td>Full-time</td>\n",
       "      <td>False</td>\n",
       "      <td>Philippines</td>\n",
       "      <td>2023-09-01 08:33:33</td>\n",
       "      <td>False</td>\n",
       "      <td>False</td>\n",
       "      <td>Philippines</td>\n",
       "      <td>None</td>\n",
       "      <td>NaN</td>\n",
       "      <td>NaN</td>\n",
       "      <td>Philip Morris International</td>\n",
       "      <td>['sap', 'excel']</td>\n",
       "      <td>{'analyst_tools': ['sap', 'excel']}</td>\n",
       "    </tr>\n",
       "    <tr>\n",
       "      <th>454597</th>\n",
       "      <td>Data Analyst</td>\n",
       "      <td>eStore Specialist(Data Analysis)_TC220077</td>\n",
       "      <td>Bade District, Taoyuan City, Taiwan</td>\n",
       "      <td>via 104人力銀行</td>\n",
       "      <td>None</td>\n",
       "      <td>False</td>\n",
       "      <td>Taiwan</td>\n",
       "      <td>2023-09-11 00:24:07</td>\n",
       "      <td>False</td>\n",
       "      <td>False</td>\n",
       "      <td>Taiwan</td>\n",
       "      <td>None</td>\n",
       "      <td>NaN</td>\n",
       "      <td>NaN</td>\n",
       "      <td>Super Micro Computer, Inc._美超微電腦股份有限公司</td>\n",
       "      <td>None</td>\n",
       "      <td>None</td>\n",
       "    </tr>\n",
       "    <tr>\n",
       "      <th>652282</th>\n",
       "      <td>Data Scientist</td>\n",
       "      <td>Data scientist (Deep learning) F/H</td>\n",
       "      <td>Paris, France</td>\n",
       "      <td>via Cadremploi</td>\n",
       "      <td>Full-time</td>\n",
       "      <td>False</td>\n",
       "      <td>France</td>\n",
       "      <td>2023-03-11 12:29:55</td>\n",
       "      <td>False</td>\n",
       "      <td>False</td>\n",
       "      <td>France</td>\n",
       "      <td>None</td>\n",
       "      <td>NaN</td>\n",
       "      <td>NaN</td>\n",
       "      <td>Malakoff Humanis</td>\n",
       "      <td>['python', 'sql', 'r', 'tensorflow', 'keras', ...</td>\n",
       "      <td>{'libraries': ['tensorflow', 'keras', 'pytorch...</td>\n",
       "    </tr>\n",
       "    <tr>\n",
       "      <th>85117</th>\n",
       "      <td>Senior Data Scientist</td>\n",
       "      <td>Senior Data Scientist</td>\n",
       "      <td>Quezon City, Metro Manila, Philippines</td>\n",
       "      <td>via GrabJobs</td>\n",
       "      <td>Full-time</td>\n",
       "      <td>False</td>\n",
       "      <td>Philippines</td>\n",
       "      <td>2023-11-10 20:29:05</td>\n",
       "      <td>False</td>\n",
       "      <td>False</td>\n",
       "      <td>Philippines</td>\n",
       "      <td>None</td>\n",
       "      <td>NaN</td>\n",
       "      <td>NaN</td>\n",
       "      <td>Avaloq</td>\n",
       "      <td>['python', 'sql', 'sql server', 'power bi', 'g...</td>\n",
       "      <td>{'analyst_tools': ['power bi'], 'databases': [...</td>\n",
       "    </tr>\n",
       "  </tbody>\n",
       "</table>\n",
       "</div>"
      ],
      "text/plain": [
       "              job_title_short                                  job_title  \\\n",
       "187522          Data Engineer  Data Engineer Junior - Python / SQL (H/F)   \n",
       "344210           Data Analyst           Analyst Customer Data Management   \n",
       "454597           Data Analyst  eStore Specialist(Data Analysis)_TC220077   \n",
       "652282         Data Scientist         Data scientist (Deep learning) F/H   \n",
       "85117   Senior Data Scientist                      Senior Data Scientist   \n",
       "\n",
       "                                  job_location         job_via  \\\n",
       "187522                           Paris, France      via Indeed   \n",
       "344210       Makati, Metro Manila, Philippines   via Talentify   \n",
       "454597     Bade District, Taoyuan City, Taiwan     via 104人力銀行   \n",
       "652282                           Paris, France  via Cadremploi   \n",
       "85117   Quezon City, Metro Manila, Philippines    via GrabJobs   \n",
       "\n",
       "       job_schedule_type  job_work_from_home search_location  \\\n",
       "187522         Full-time               False          France   \n",
       "344210         Full-time               False     Philippines   \n",
       "454597              None               False          Taiwan   \n",
       "652282         Full-time               False          France   \n",
       "85117          Full-time               False     Philippines   \n",
       "\n",
       "           job_posted_date  job_no_degree_mention  job_health_insurance  \\\n",
       "187522 2023-01-25 18:49:43                  False                 False   \n",
       "344210 2023-09-01 08:33:33                  False                 False   \n",
       "454597 2023-09-11 00:24:07                  False                 False   \n",
       "652282 2023-03-11 12:29:55                  False                 False   \n",
       "85117  2023-11-10 20:29:05                  False                 False   \n",
       "\n",
       "        job_country salary_rate  salary_year_avg  salary_hour_avg  \\\n",
       "187522       France        None              NaN              NaN   \n",
       "344210  Philippines        None              NaN              NaN   \n",
       "454597       Taiwan        None              NaN              NaN   \n",
       "652282       France        None              NaN              NaN   \n",
       "85117   Philippines        None              NaN              NaN   \n",
       "\n",
       "                                  company_name  \\\n",
       "187522                             pasteque.io   \n",
       "344210             Philip Morris International   \n",
       "454597  Super Micro Computer, Inc._美超微電腦股份有限公司   \n",
       "652282                        Malakoff Humanis   \n",
       "85117                                   Avaloq   \n",
       "\n",
       "                                               job_skills  \\\n",
       "187522                                  ['python', 'sql']   \n",
       "344210                                   ['sap', 'excel']   \n",
       "454597                                               None   \n",
       "652282  ['python', 'sql', 'r', 'tensorflow', 'keras', ...   \n",
       "85117   ['python', 'sql', 'sql server', 'power bi', 'g...   \n",
       "\n",
       "                                          job_type_skills  \n",
       "187522                 {'programming': ['python', 'sql']}  \n",
       "344210                {'analyst_tools': ['sap', 'excel']}  \n",
       "454597                                               None  \n",
       "652282  {'libraries': ['tensorflow', 'keras', 'pytorch...  \n",
       "85117   {'analyst_tools': ['power bi'], 'databases': [...  "
      ]
     },
     "execution_count": 11,
     "metadata": {},
     "output_type": "execute_result"
    }
   ],
   "source": [
    "df.sample(n=5)"
   ]
  },
  {
   "cell_type": "markdown",
   "metadata": {},
   "source": [
    "Or you can randomly select a fraction of the data (e.g., 10% of the rows), with or without replacement."
   ]
  },
  {
   "cell_type": "code",
   "execution_count": 12,
   "metadata": {},
   "outputs": [
    {
     "data": {
      "text/html": [
       "<div>\n",
       "<style scoped>\n",
       "    .dataframe tbody tr th:only-of-type {\n",
       "        vertical-align: middle;\n",
       "    }\n",
       "\n",
       "    .dataframe tbody tr th {\n",
       "        vertical-align: top;\n",
       "    }\n",
       "\n",
       "    .dataframe thead th {\n",
       "        text-align: right;\n",
       "    }\n",
       "</style>\n",
       "<table border=\"1\" class=\"dataframe\">\n",
       "  <thead>\n",
       "    <tr style=\"text-align: right;\">\n",
       "      <th></th>\n",
       "      <th>job_title_short</th>\n",
       "      <th>job_title</th>\n",
       "      <th>job_location</th>\n",
       "      <th>job_via</th>\n",
       "      <th>job_schedule_type</th>\n",
       "      <th>job_work_from_home</th>\n",
       "      <th>search_location</th>\n",
       "      <th>job_posted_date</th>\n",
       "      <th>job_no_degree_mention</th>\n",
       "      <th>job_health_insurance</th>\n",
       "      <th>job_country</th>\n",
       "      <th>salary_rate</th>\n",
       "      <th>salary_year_avg</th>\n",
       "      <th>salary_hour_avg</th>\n",
       "      <th>company_name</th>\n",
       "      <th>job_skills</th>\n",
       "      <th>job_type_skills</th>\n",
       "    </tr>\n",
       "  </thead>\n",
       "  <tbody>\n",
       "    <tr>\n",
       "      <th>31569</th>\n",
       "      <td>Data Engineer</td>\n",
       "      <td>Data Engineer</td>\n",
       "      <td>Spain</td>\n",
       "      <td>via BeBee</td>\n",
       "      <td>Full-time</td>\n",
       "      <td>False</td>\n",
       "      <td>Spain</td>\n",
       "      <td>2023-08-22 07:20:37</td>\n",
       "      <td>True</td>\n",
       "      <td>False</td>\n",
       "      <td>Spain</td>\n",
       "      <td>None</td>\n",
       "      <td>NaN</td>\n",
       "      <td>NaN</td>\n",
       "      <td>VISEO - Spain</td>\n",
       "      <td>['python', 'sql', 'sql server', 'aws', 'tablea...</td>\n",
       "      <td>{'analyst_tools': ['tableau'], 'cloud': ['aws'...</td>\n",
       "    </tr>\n",
       "    <tr>\n",
       "      <th>234493</th>\n",
       "      <td>Software Engineer</td>\n",
       "      <td>Senior Python Engineer</td>\n",
       "      <td>Colombia, Huila, Colombia</td>\n",
       "      <td>via BeBee</td>\n",
       "      <td>Full-time</td>\n",
       "      <td>False</td>\n",
       "      <td>Colombia</td>\n",
       "      <td>2023-12-05 17:26:46</td>\n",
       "      <td>True</td>\n",
       "      <td>False</td>\n",
       "      <td>Colombia</td>\n",
       "      <td>None</td>\n",
       "      <td>NaN</td>\n",
       "      <td>NaN</td>\n",
       "      <td>Thaloz</td>\n",
       "      <td>['python', 'dynamodb', 'cassandra', 'redis', '...</td>\n",
       "      <td>{'cloud': ['aws', 'snowflake'], 'databases': [...</td>\n",
       "    </tr>\n",
       "    <tr>\n",
       "      <th>196628</th>\n",
       "      <td>Data Engineer</td>\n",
       "      <td>Data Engineer – R01520362</td>\n",
       "      <td>Bengaluru, Karnataka, India</td>\n",
       "      <td>via Indeed</td>\n",
       "      <td>Full-time</td>\n",
       "      <td>False</td>\n",
       "      <td>India</td>\n",
       "      <td>2023-01-13 18:14:08</td>\n",
       "      <td>True</td>\n",
       "      <td>False</td>\n",
       "      <td>India</td>\n",
       "      <td>None</td>\n",
       "      <td>NaN</td>\n",
       "      <td>NaN</td>\n",
       "      <td>Brillio</td>\n",
       "      <td>None</td>\n",
       "      <td>None</td>\n",
       "    </tr>\n",
       "    <tr>\n",
       "      <th>207860</th>\n",
       "      <td>Data Analyst</td>\n",
       "      <td>Business Intelligence Engineer</td>\n",
       "      <td>United Kingdom</td>\n",
       "      <td>via Ai-Jobs.net</td>\n",
       "      <td>Full-time</td>\n",
       "      <td>False</td>\n",
       "      <td>United Kingdom</td>\n",
       "      <td>2023-11-10 17:33:00</td>\n",
       "      <td>False</td>\n",
       "      <td>False</td>\n",
       "      <td>United Kingdom</td>\n",
       "      <td>None</td>\n",
       "      <td>NaN</td>\n",
       "      <td>NaN</td>\n",
       "      <td>Aviva</td>\n",
       "      <td>['sql', 'go', 'tableau', 'power bi']</td>\n",
       "      <td>{'analyst_tools': ['tableau', 'power bi'], 'pr...</td>\n",
       "    </tr>\n",
       "    <tr>\n",
       "      <th>516812</th>\n",
       "      <td>Machine Learning Engineer</td>\n",
       "      <td>Machine Learning Engineer for Artificial Intel...</td>\n",
       "      <td>Petah Tikva, Israel</td>\n",
       "      <td>via Karkidi</td>\n",
       "      <td>Full-time</td>\n",
       "      <td>False</td>\n",
       "      <td>Israel</td>\n",
       "      <td>2023-01-08 23:38:34</td>\n",
       "      <td>False</td>\n",
       "      <td>False</td>\n",
       "      <td>Israel</td>\n",
       "      <td>None</td>\n",
       "      <td>NaN</td>\n",
       "      <td>NaN</td>\n",
       "      <td>Intel Corporation</td>\n",
       "      <td>['sql', 'python', 'kafka', 'hadoop', 'airflow'...</td>\n",
       "      <td>{'libraries': ['kafka', 'hadoop', 'airflow'], ...</td>\n",
       "    </tr>\n",
       "    <tr>\n",
       "      <th>...</th>\n",
       "      <td>...</td>\n",
       "      <td>...</td>\n",
       "      <td>...</td>\n",
       "      <td>...</td>\n",
       "      <td>...</td>\n",
       "      <td>...</td>\n",
       "      <td>...</td>\n",
       "      <td>...</td>\n",
       "      <td>...</td>\n",
       "      <td>...</td>\n",
       "      <td>...</td>\n",
       "      <td>...</td>\n",
       "      <td>...</td>\n",
       "      <td>...</td>\n",
       "      <td>...</td>\n",
       "      <td>...</td>\n",
       "      <td>...</td>\n",
       "    </tr>\n",
       "    <tr>\n",
       "      <th>579629</th>\n",
       "      <td>Data Scientist</td>\n",
       "      <td>Sr Data Scientist</td>\n",
       "      <td>Baltimore, MD</td>\n",
       "      <td>via BeBee</td>\n",
       "      <td>Full-time</td>\n",
       "      <td>False</td>\n",
       "      <td>Georgia</td>\n",
       "      <td>2023-08-18 10:43:55</td>\n",
       "      <td>False</td>\n",
       "      <td>False</td>\n",
       "      <td>United States</td>\n",
       "      <td>None</td>\n",
       "      <td>NaN</td>\n",
       "      <td>NaN</td>\n",
       "      <td>Exelon</td>\n",
       "      <td>['python', 'r', 'scala', 'sql', 'spark', 'hado...</td>\n",
       "      <td>{'libraries': ['spark', 'hadoop', 'pyspark'], ...</td>\n",
       "    </tr>\n",
       "    <tr>\n",
       "      <th>340346</th>\n",
       "      <td>Data Scientist</td>\n",
       "      <td>Data scientist</td>\n",
       "      <td>Anywhere</td>\n",
       "      <td>via LinkedIn تونس</td>\n",
       "      <td>Full-time</td>\n",
       "      <td>True</td>\n",
       "      <td>Tunisia</td>\n",
       "      <td>2023-03-07 09:17:07</td>\n",
       "      <td>False</td>\n",
       "      <td>False</td>\n",
       "      <td>Tunisia</td>\n",
       "      <td>None</td>\n",
       "      <td>NaN</td>\n",
       "      <td>NaN</td>\n",
       "      <td>TOP TECH</td>\n",
       "      <td>['python', 'java', 'sql', 'cassandra', 'databr...</td>\n",
       "      <td>{'analyst_tools': ['datarobot', 'tableau'], 'c...</td>\n",
       "    </tr>\n",
       "    <tr>\n",
       "      <th>239448</th>\n",
       "      <td>Data Engineer</td>\n",
       "      <td>Data Engineers</td>\n",
       "      <td>Chennai, Tamil Nadu, India</td>\n",
       "      <td>via Indeed</td>\n",
       "      <td>Full-time</td>\n",
       "      <td>False</td>\n",
       "      <td>India</td>\n",
       "      <td>2023-06-24 17:17:44</td>\n",
       "      <td>True</td>\n",
       "      <td>False</td>\n",
       "      <td>India</td>\n",
       "      <td>None</td>\n",
       "      <td>NaN</td>\n",
       "      <td>NaN</td>\n",
       "      <td>Fipsar</td>\n",
       "      <td>['sql', 'aws', 'snowflake']</td>\n",
       "      <td>{'cloud': ['aws', 'snowflake'], 'programming':...</td>\n",
       "    </tr>\n",
       "    <tr>\n",
       "      <th>769032</th>\n",
       "      <td>Business Analyst</td>\n",
       "      <td>Senior Business Analyst/Business Analyst</td>\n",
       "      <td>Hong Kong</td>\n",
       "      <td>via BeBee 香港</td>\n",
       "      <td>Full-time</td>\n",
       "      <td>False</td>\n",
       "      <td>Hong Kong</td>\n",
       "      <td>2023-11-28 02:07:31</td>\n",
       "      <td>False</td>\n",
       "      <td>False</td>\n",
       "      <td>Hong Kong</td>\n",
       "      <td>None</td>\n",
       "      <td>NaN</td>\n",
       "      <td>NaN</td>\n",
       "      <td>Inavitas</td>\n",
       "      <td>['mysql', 'oracle', 'hadoop', 'tableau', 'powe...</td>\n",
       "      <td>{'analyst_tools': ['tableau', 'power bi'], 'cl...</td>\n",
       "    </tr>\n",
       "    <tr>\n",
       "      <th>686492</th>\n",
       "      <td>Senior Data Scientist</td>\n",
       "      <td>Senior data science manager</td>\n",
       "      <td>Madison, AL</td>\n",
       "      <td>via BeBee</td>\n",
       "      <td>Full-time</td>\n",
       "      <td>False</td>\n",
       "      <td>Florida, United States</td>\n",
       "      <td>2023-07-31 16:06:13</td>\n",
       "      <td>False</td>\n",
       "      <td>True</td>\n",
       "      <td>United States</td>\n",
       "      <td>None</td>\n",
       "      <td>NaN</td>\n",
       "      <td>NaN</td>\n",
       "      <td>Dovel Technologies, LLC</td>\n",
       "      <td>['scala', 'python', 'r', 'sql', 'matlab', 'spa...</td>\n",
       "      <td>{'analyst_tools': ['outlook'], 'libraries': ['...</td>\n",
       "    </tr>\n",
       "  </tbody>\n",
       "</table>\n",
       "<p>78769 rows × 17 columns</p>\n",
       "</div>"
      ],
      "text/plain": [
       "                  job_title_short  \\\n",
       "31569               Data Engineer   \n",
       "234493          Software Engineer   \n",
       "196628              Data Engineer   \n",
       "207860               Data Analyst   \n",
       "516812  Machine Learning Engineer   \n",
       "...                           ...   \n",
       "579629             Data Scientist   \n",
       "340346             Data Scientist   \n",
       "239448              Data Engineer   \n",
       "769032           Business Analyst   \n",
       "686492      Senior Data Scientist   \n",
       "\n",
       "                                                job_title  \\\n",
       "31569                                       Data Engineer   \n",
       "234493                             Senior Python Engineer   \n",
       "196628                          Data Engineer – R01520362   \n",
       "207860                     Business Intelligence Engineer   \n",
       "516812  Machine Learning Engineer for Artificial Intel...   \n",
       "...                                                   ...   \n",
       "579629                                  Sr Data Scientist   \n",
       "340346                                     Data scientist   \n",
       "239448                                     Data Engineers   \n",
       "769032           Senior Business Analyst/Business Analyst   \n",
       "686492                        Senior data science manager   \n",
       "\n",
       "                       job_location            job_via job_schedule_type  \\\n",
       "31569                         Spain          via BeBee         Full-time   \n",
       "234493    Colombia, Huila, Colombia          via BeBee         Full-time   \n",
       "196628  Bengaluru, Karnataka, India         via Indeed         Full-time   \n",
       "207860               United Kingdom    via Ai-Jobs.net         Full-time   \n",
       "516812          Petah Tikva, Israel        via Karkidi         Full-time   \n",
       "...                             ...                ...               ...   \n",
       "579629                Baltimore, MD          via BeBee         Full-time   \n",
       "340346                     Anywhere  via LinkedIn تونس         Full-time   \n",
       "239448   Chennai, Tamil Nadu, India         via Indeed         Full-time   \n",
       "769032                    Hong Kong       via BeBee 香港         Full-time   \n",
       "686492                  Madison, AL          via BeBee         Full-time   \n",
       "\n",
       "        job_work_from_home         search_location     job_posted_date  \\\n",
       "31569                False                   Spain 2023-08-22 07:20:37   \n",
       "234493               False                Colombia 2023-12-05 17:26:46   \n",
       "196628               False                   India 2023-01-13 18:14:08   \n",
       "207860               False          United Kingdom 2023-11-10 17:33:00   \n",
       "516812               False                  Israel 2023-01-08 23:38:34   \n",
       "...                    ...                     ...                 ...   \n",
       "579629               False                 Georgia 2023-08-18 10:43:55   \n",
       "340346                True                 Tunisia 2023-03-07 09:17:07   \n",
       "239448               False                   India 2023-06-24 17:17:44   \n",
       "769032               False               Hong Kong 2023-11-28 02:07:31   \n",
       "686492               False  Florida, United States 2023-07-31 16:06:13   \n",
       "\n",
       "        job_no_degree_mention  job_health_insurance     job_country  \\\n",
       "31569                    True                 False           Spain   \n",
       "234493                   True                 False        Colombia   \n",
       "196628                   True                 False           India   \n",
       "207860                  False                 False  United Kingdom   \n",
       "516812                  False                 False          Israel   \n",
       "...                       ...                   ...             ...   \n",
       "579629                  False                 False   United States   \n",
       "340346                  False                 False         Tunisia   \n",
       "239448                   True                 False           India   \n",
       "769032                  False                 False       Hong Kong   \n",
       "686492                  False                  True   United States   \n",
       "\n",
       "       salary_rate  salary_year_avg  salary_hour_avg             company_name  \\\n",
       "31569         None              NaN              NaN            VISEO - Spain   \n",
       "234493        None              NaN              NaN                   Thaloz   \n",
       "196628        None              NaN              NaN                  Brillio   \n",
       "207860        None              NaN              NaN                    Aviva   \n",
       "516812        None              NaN              NaN        Intel Corporation   \n",
       "...            ...              ...              ...                      ...   \n",
       "579629        None              NaN              NaN                   Exelon   \n",
       "340346        None              NaN              NaN                 TOP TECH   \n",
       "239448        None              NaN              NaN                   Fipsar   \n",
       "769032        None              NaN              NaN                 Inavitas   \n",
       "686492        None              NaN              NaN  Dovel Technologies, LLC   \n",
       "\n",
       "                                               job_skills  \\\n",
       "31569   ['python', 'sql', 'sql server', 'aws', 'tablea...   \n",
       "234493  ['python', 'dynamodb', 'cassandra', 'redis', '...   \n",
       "196628                                               None   \n",
       "207860               ['sql', 'go', 'tableau', 'power bi']   \n",
       "516812  ['sql', 'python', 'kafka', 'hadoop', 'airflow'...   \n",
       "...                                                   ...   \n",
       "579629  ['python', 'r', 'scala', 'sql', 'spark', 'hado...   \n",
       "340346  ['python', 'java', 'sql', 'cassandra', 'databr...   \n",
       "239448                        ['sql', 'aws', 'snowflake']   \n",
       "769032  ['mysql', 'oracle', 'hadoop', 'tableau', 'powe...   \n",
       "686492  ['scala', 'python', 'r', 'sql', 'matlab', 'spa...   \n",
       "\n",
       "                                          job_type_skills  \n",
       "31569   {'analyst_tools': ['tableau'], 'cloud': ['aws'...  \n",
       "234493  {'cloud': ['aws', 'snowflake'], 'databases': [...  \n",
       "196628                                               None  \n",
       "207860  {'analyst_tools': ['tableau', 'power bi'], 'pr...  \n",
       "516812  {'libraries': ['kafka', 'hadoop', 'airflow'], ...  \n",
       "...                                                   ...  \n",
       "579629  {'libraries': ['spark', 'hadoop', 'pyspark'], ...  \n",
       "340346  {'analyst_tools': ['datarobot', 'tableau'], 'c...  \n",
       "239448  {'cloud': ['aws', 'snowflake'], 'programming':...  \n",
       "769032  {'analyst_tools': ['tableau', 'power bi'], 'cl...  \n",
       "686492  {'analyst_tools': ['outlook'], 'libraries': ['...  \n",
       "\n",
       "[78769 rows x 17 columns]"
      ]
     },
     "execution_count": 12,
     "metadata": {},
     "output_type": "execute_result"
    }
   ],
   "source": [
    "df.sample(frac=0.1, replace=False)"
   ]
  },
  {
   "cell_type": "markdown",
   "metadata": {},
   "source": [
    "Now you can analyze these subsets of data. "
   ]
  }
 ],
 "metadata": {
  "colab": {
   "authorship_tag": "ABX9TyO7QGE4EmxtJp+NvT7AZdbk",
   "provenance": []
  },
  "kernelspec": {
   "display_name": "Python 3",
   "name": "python3"
  },
  "language_info": {
   "codemirror_mode": {
    "name": "ipython",
    "version": 3
   },
   "file_extension": ".py",
   "mimetype": "text/x-python",
   "name": "python",
   "nbconvert_exporter": "python",
   "pygments_lexer": "ipython3",
   "version": "3.11.9"
  }
 },
 "nbformat": 4,
 "nbformat_minor": 0
}
