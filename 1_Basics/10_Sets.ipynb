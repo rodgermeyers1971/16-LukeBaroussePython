{
 "cells": [
  {
   "cell_type": "markdown",
   "id": "7058165f",
   "metadata": {},
   "source": [
    "<a target=\"_blank\" href=\"https://colab.research.google.com/github/lukebarousse/Python_Data_Analytics_Course/blob/main/1_Basics/10_Sets.ipynb\">\n",
    "  <img src=\"https://colab.research.google.com/assets/colab-badge.svg\" alt=\"Open In Colab\"/>\n",
    "</a>"
   ]
  },
  {
   "cell_type": "markdown",
   "metadata": {
    "id": "jMyH89VS5H7L"
   },
   "source": [
    "# Sets"
   ]
  },
  {
   "cell_type": "markdown",
   "metadata": {},
   "source": [
    "Here's a quick comparison between these 4 container data types:\n",
    "\n",
    "| Feature          | List                                  | Dictionary                           | Set                                | Tuple                             |\n",
    "|------------------|---------------------------------------|--------------------------------------|------------------------------------|-----------------------------------|\n",
    "| Syntax           | `[item1, item2, ...]`                 | `{'key1': value1, 'key2': value2}`   | `{item1, item2, ...}`              | `(item1, item2, ...)` or `item,`  |\n",
    "| Order            | Ordered                               | Unordered                            | Unordered                          | Ordered                           |\n",
    "| Indexing         | Yes (by index)                        | Yes (by key)                         | No                                 | Yes (by index)                    |\n",
    "| Duplicate Values | Allowed                               | Values can be duplicated, keys cannot| Not allowed                        | Allowed                           |\n",
    "| Mutability       | Mutable                               | Mutable                              | Mutable                            | Immutable                         |\n",
    "| Usage            | For a collection of ordered items     | For key-value pairs                  | For unique items                   | For fixed data                    |"
   ]
  },
  {
   "cell_type": "markdown",
   "metadata": {
    "id": "tjdTcwImxaUJ"
   },
   "source": [
    "## Notes\n",
    "\n",
    "* For unique items\n",
    "* Used to store multiple items in a single variable\n",
    "* It is:\n",
    "  * unorderd\n",
    "  * Unchangeable\n",
    "  * Unindexed\n",
    "* Set *items* are unchangeable but you can still remove items and add new items\n",
    "\n",
    "## Importance\n",
    "\n",
    "Employed for removing duplicates and for set operations, aiding in data cleaning and preparation.\n",
    "\n",
    "## Examples\n",
    "\n",
    "First let's create a set of data science skills."
   ]
  },
  {
   "cell_type": "code",
   "execution_count": 12,
   "metadata": {
    "colab": {
     "base_uri": "https://localhost:8080/"
    },
    "executionInfo": {
     "elapsed": 307,
     "status": "ok",
     "timestamp": 1711344984900,
     "user": {
      "displayName": "Kelly Adams",
      "userId": "09437392635559217735"
     },
     "user_tz": 420
    },
    "id": "iWcYVKZCEy8c",
    "outputId": "1f4eb053-8b8a-4e84-946e-07cec0b3d111"
   },
   "outputs": [
    {
     "data": {
      "text/plain": [
       "{'python', 'sql', 'statistics', 'tableau'}"
      ]
     },
     "execution_count": 12,
     "metadata": {},
     "output_type": "execute_result"
    }
   ],
   "source": [
    "# Define a set of data science skills\n",
    "job_skills = {'tableau', 'sql', 'python', 'statistics'}\n",
    "\n",
    "job_skills"
   ]
  },
  {
   "cell_type": "markdown",
   "metadata": {},
   "source": [
    "### Unordered and No Index\n",
    "\n",
    "Sets are unorderd and have no index so don't behave completely like lists.\n",
    "\n",
    "Therefore, we can't use an index to access items."
   ]
  },
  {
   "cell_type": "code",
   "execution_count": 13,
   "metadata": {},
   "outputs": [
    {
     "ename": "TypeError",
     "evalue": "'set' object is not subscriptable",
     "output_type": "error",
     "traceback": [
      "\u001b[0;31m---------------------------------------------------------------------------\u001b[0m",
      "\u001b[0;31mTypeError\u001b[0m                                 Traceback (most recent call last)",
      "Cell \u001b[0;32mIn[13], line 1\u001b[0m\n\u001b[0;32m----> 1\u001b[0m \u001b[43mjob_skills\u001b[49m\u001b[43m[\u001b[49m\u001b[38;5;241;43m1\u001b[39;49m\u001b[43m]\u001b[49m\n",
      "\u001b[0;31mTypeError\u001b[0m: 'set' object is not subscriptable"
     ]
    }
   ],
   "source": [
    "job_skills[1]"
   ]
  },
  {
   "cell_type": "markdown",
   "metadata": {
    "id": "J4Dl4cneGZ1q"
   },
   "source": [
    "### Add()\n",
    "\n",
    "Add an item using `add()`. Now we're going to add a skill to the list, 'looker'.  "
   ]
  },
  {
   "cell_type": "code",
   "execution_count": 14,
   "metadata": {
    "colab": {
     "base_uri": "https://localhost:8080/"
    },
    "executionInfo": {
     "elapsed": 6,
     "status": "ok",
     "timestamp": 1711601154030,
     "user": {
      "displayName": "Kelly Adams",
      "userId": "09437392635559217735"
     },
     "user_tz": 420
    },
    "id": "Cd615DzNG1qg",
    "outputId": "46396b16-86f8-48d4-f48b-fd94bef3822b"
   },
   "outputs": [
    {
     "data": {
      "text/plain": [
       "{'looker', 'python', 'sql', 'statistics', 'tableau'}"
      ]
     },
     "execution_count": 14,
     "metadata": {},
     "output_type": "execute_result"
    }
   ],
   "source": [
    "# Adding a skill \n",
    "job_skills.add('looker')\n",
    "\n",
    "job_skills"
   ]
  },
  {
   "cell_type": "markdown",
   "metadata": {},
   "source": [
    "What if we add a skill that's already in the list like `sql`? It won't duplicate so the skill won't be added. The set is the exact same as before."
   ]
  },
  {
   "cell_type": "code",
   "execution_count": 15,
   "metadata": {},
   "outputs": [
    {
     "data": {
      "text/plain": [
       "{'looker', 'python', 'sql', 'statistics', 'tableau'}"
      ]
     },
     "execution_count": 15,
     "metadata": {},
     "output_type": "execute_result"
    }
   ],
   "source": [
    "# Adding a skill that already exists doesn't duplicate\n",
    "job_skills.add('sql')\n",
    "\n",
    "job_skills"
   ]
  },
  {
   "cell_type": "markdown",
   "metadata": {
    "id": "F1X9p3TzGa-z"
   },
   "source": [
    "### Remove()\n",
    "\n",
    "Remove an item in the set using `remove()`. Let's remove the 'statistics' item from this set."
   ]
  },
  {
   "cell_type": "markdown",
   "metadata": {},
   "source": [
    "🪲 **Debugging**\n",
    "\n",
    "**This is an intentional mistake**\n",
    "\n",
    "This is used to demonstrate debugging.\n",
    "\n",
    "Error: Tried to remove a skill that does not exist in this set.\n",
    "\n",
    "```python\n",
    "job_skills.remove('r')\n",
    "```\n",
    "\n",
    "Steps to Debug:\n",
    "\n",
    "1. Look at the actual error, can you tell what the problem is?\n",
    "2. If not, then look it up:\n",
    "  1. Use a chatbot like ChatGPT or Claude\n",
    "  2. Look it up using Google"
   ]
  },
  {
   "cell_type": "code",
   "execution_count": 16,
   "metadata": {},
   "outputs": [
    {
     "ename": "KeyError",
     "evalue": "'r'",
     "output_type": "error",
     "traceback": [
      "\u001b[0;31m---------------------------------------------------------------------------\u001b[0m",
      "\u001b[0;31mKeyError\u001b[0m                                  Traceback (most recent call last)",
      "Cell \u001b[0;32mIn[16], line 2\u001b[0m\n\u001b[1;32m      1\u001b[0m \u001b[38;5;66;03m# Removing a skill\u001b[39;00m\n\u001b[0;32m----> 2\u001b[0m \u001b[43mjob_skills\u001b[49m\u001b[38;5;241;43m.\u001b[39;49m\u001b[43mremove\u001b[49m\u001b[43m(\u001b[49m\u001b[38;5;124;43m'\u001b[39;49m\u001b[38;5;124;43mr\u001b[39;49m\u001b[38;5;124;43m'\u001b[39;49m\u001b[43m)\u001b[49m\n\u001b[1;32m      4\u001b[0m job_skills\n",
      "\u001b[0;31mKeyError\u001b[0m: 'r'"
     ]
    }
   ],
   "source": [
    "# Removing a skill\n",
    "job_skills.remove('r')\n",
    "\n",
    "job_skills"
   ]
  },
  {
   "cell_type": "markdown",
   "metadata": {},
   "source": [
    "This is the correct code ✅."
   ]
  },
  {
   "cell_type": "code",
   "execution_count": 17,
   "metadata": {
    "colab": {
     "base_uri": "https://localhost:8080/"
    },
    "executionInfo": {
     "elapsed": 257,
     "status": "ok",
     "timestamp": 1711601100202,
     "user": {
      "displayName": "Kelly Adams",
      "userId": "09437392635559217735"
     },
     "user_tz": 420
    },
    "id": "pMZJ0enXG6Sd",
    "outputId": "2bb6fb61-7ce4-44ee-be70-af8f4272fea4"
   },
   "outputs": [
    {
     "data": {
      "text/plain": [
       "{'looker', 'python', 'sql', 'tableau'}"
      ]
     },
     "execution_count": 17,
     "metadata": {},
     "output_type": "execute_result"
    }
   ],
   "source": [
    "# Removing a skill\n",
    "job_skills.remove('statistics')\n",
    "\n",
    "job_skills"
   ]
  },
  {
   "cell_type": "markdown",
   "metadata": {},
   "source": [
    "### Set()\n",
    "\n",
    "Sets are great for removing repetitive values. Let's create a list of skills called `skill_list` but these will have repeating skills. If we use `set()` on this new `skill_list`. It will show the list as a set (aka remove repeated values)."
   ]
  },
  {
   "cell_type": "code",
   "execution_count": 18,
   "metadata": {},
   "outputs": [
    {
     "data": {
      "text/plain": [
       "{'python', 'sql', 'statistics', 'tableau'}"
      ]
     },
     "execution_count": 18,
     "metadata": {},
     "output_type": "execute_result"
    }
   ],
   "source": [
    "# make a list of skills but some repeated values\n",
    "skill_list = ['python', 'sql', 'statistics', 'tableau', 'python', 'sql', 'statistics', 'tableau']\n",
    "\n",
    "set(skill_list)"
   ]
  },
  {
   "cell_type": "markdown",
   "metadata": {},
   "source": [
    "### List()\n",
    "\n",
    "We can even convert this set back to a list. This will still have the duplicates removed, it will have the unique skills."
   ]
  },
  {
   "cell_type": "code",
   "execution_count": 19,
   "metadata": {},
   "outputs": [
    {
     "data": {
      "text/plain": [
       "['python', 'statistics', 'tableau', 'sql']"
      ]
     },
     "execution_count": 19,
     "metadata": {},
     "output_type": "execute_result"
    }
   ],
   "source": [
    "skill_list = list(set(skill_list))\n",
    "\n",
    "skill_list"
   ]
  }
 ],
 "metadata": {
  "colab": {
   "provenance": []
  },
  "kernelspec": {
   "display_name": "Python 3",
   "name": "python3"
  },
  "language_info": {
   "codemirror_mode": {
    "name": "ipython",
    "version": 3
   },
   "file_extension": ".py",
   "mimetype": "text/x-python",
   "name": "python",
   "nbconvert_exporter": "python",
   "pygments_lexer": "ipython3",
   "version": "3.9.19"
  }
 },
 "nbformat": 4,
 "nbformat_minor": 0
}
