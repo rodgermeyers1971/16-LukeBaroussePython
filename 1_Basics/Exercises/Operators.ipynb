{
 "cells": [
  {
   "cell_type": "markdown",
   "metadata": {},
   "source": [
    "# Calculate Annual Salary (1.6.1) - Problem\n",
    "## Problem Statement:\n",
    "Calculate the total annual salary for a data scientist given the monthly salary. The variable monthly_salary is set to 8000.\n",
    "\n",
    "## Code Needed:\n",
    "monthly_salary = 8000\n",
    "## Hint:\n",
    "Use the multiplication operator * to calculate the annual salary."
   ]
  },
  {
   "cell_type": "code",
   "execution_count": 1,
   "metadata": {},
   "outputs": [
    {
     "name": "stdout",
     "output_type": "stream",
     "text": [
      "96000\n"
     ]
    }
   ],
   "source": [
    "monthly_salary = 8000\n",
    "annual_salary = monthly_salary * 12\n",
    "print(annual_salary)"
   ]
  },
  {
   "cell_type": "markdown",
   "metadata": {},
   "source": [
    "# Compare Salaries (1.6.2) - Problem\n",
    "## Problem Statement:\n",
    "Determine if the average salary of a data analyst is greater than that of a data scientist. The variables avg_salary_analyst and avg_salary_scientist are set to 70000 and 85000 respectively.\n",
    "\n",
    "## Code Needed:\n",
    "avg_salary_analyst = 70000\n",
    "avg_salary_scientist = 85000\n",
    "## Hint:\n",
    "Use the greater than operator > to compare the two salaries."
   ]
  },
  {
   "cell_type": "code",
   "execution_count": 2,
   "metadata": {},
   "outputs": [
    {
     "name": "stdout",
     "output_type": "stream",
     "text": [
      "False\n"
     ]
    }
   ],
   "source": [
    "avg_salary_analyst = 70000\n",
    "avg_salary_scientist = 85000\n",
    "\n",
    "result = avg_salary_analyst > avg_salary_scientist\n",
    "print(result)"
   ]
  },
  {
   "cell_type": "markdown",
   "metadata": {},
   "source": [
    "# Calculate Remainder (1.6.3) - Problem\n",
    "### Problem Statement:\n",
    "Calculate the remainder when the total number of job applications (variable total_appliations is set to 123) is divided by the number of job openings (variable job_openings is set to 67).\n",
    "\n",
    "### Code Needed:\n",
    "total_applications = 123\n",
    "job_openings = 67\n",
    "### Hint:\n",
    "Use the modulus operator % to find the remainder."
   ]
  },
  {
   "cell_type": "code",
   "execution_count": 3,
   "metadata": {},
   "outputs": [
    {
     "name": "stdout",
     "output_type": "stream",
     "text": [
      "56\n"
     ]
    }
   ],
   "source": [
    "total_applications = 123\n",
    "job_openings = 67\n",
    "\n",
    "result = total_applications % job_openings\n",
    "print(result)"
   ]
  },
  {
   "cell_type": "markdown",
   "metadata": {},
   "source": [
    "# Increment Job Postings (1.6.4) - Problem\n",
    "### Problem Statement:\n",
    "Increment (or increase) the variable job_postings by 5. The variable job_postings is intially set to 20.\n",
    "\n",
    "### Code Needed:\n",
    "job_postings = 20\n",
    "### Hint:\n",
    "Use the addition assignment operator += to increment the value."
   ]
  },
  {
   "cell_type": "code",
   "execution_count": 6,
   "metadata": {},
   "outputs": [
    {
     "name": "stdout",
     "output_type": "stream",
     "text": [
      "25\n"
     ]
    }
   ],
   "source": [
    "job_postings = 20\n",
    "job_postings += 5\n",
    "print(job_postings)"
   ]
  },
  {
   "cell_type": "markdown",
   "metadata": {},
   "source": [
    "# Calculate Average Salary (1.6.5) - Problem\n",
    "### Problem Statement:\n",
    "Calculate the average salary from the minimum and maximum salaries. The variables min_salary and max_salary are set to 50000 and 120000 respectively.\n",
    "\n",
    "### Code Needed:\n",
    "min_salary = 50000\n",
    "max_salary = 120000\n",
    "### Hint:\n",
    "Use the addition and division operators to calculate the average."
   ]
  },
  {
   "cell_type": "code",
   "execution_count": 7,
   "metadata": {},
   "outputs": [
    {
     "name": "stdout",
     "output_type": "stream",
     "text": [
      "85000.0\n"
     ]
    }
   ],
   "source": [
    "min_salary = 50000\n",
    "max_salary = 120000\n",
    "\n",
    "avg_salary = (min_salary + max_salary) / 2\n",
    "print(avg_salary)"
   ]
  }
 ],
 "metadata": {
  "kernelspec": {
   "display_name": "base",
   "language": "python",
   "name": "python3"
  },
  "language_info": {
   "codemirror_mode": {
    "name": "ipython",
    "version": 3
   },
   "file_extension": ".py",
   "mimetype": "text/x-python",
   "name": "python",
   "nbconvert_exporter": "python",
   "pygments_lexer": "ipython3",
   "version": "3.11.7"
  }
 },
 "nbformat": 4,
 "nbformat_minor": 2
}
