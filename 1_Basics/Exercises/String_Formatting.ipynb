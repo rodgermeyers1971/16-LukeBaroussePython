{
 "cells": [
  {
   "cell_type": "markdown",
   "metadata": {},
   "source": [
    "# Concatenate Strings (1.5.1) - Problem\n",
    "## Problem Statement:\n",
    "Concatenate the string 'Job Title: ' with the variable job_title which is set to 'Data Scientist'.\n",
    "\n",
    "## Code Needed:\n",
    "job_title = 'Data Scientist'\n",
    "## Hint:\n",
    "Use the + operator to concatenate strings."
   ]
  },
  {
   "cell_type": "code",
   "execution_count": 2,
   "metadata": {},
   "outputs": [
    {
     "name": "stdout",
     "output_type": "stream",
     "text": [
      "Job Title:  Data Scientist\n"
     ]
    }
   ],
   "source": [
    "job_title = 'Data Scientist'\n",
    "print('Job Title: ', job_title)"
   ]
  },
  {
   "cell_type": "markdown",
   "metadata": {},
   "source": [
    "# Format with f-strings (1.5.2) - Problem\n",
    "## Problem Statement:\n",
    "Format a string to include the variables position and company using f-strings. The variables are set to 'Data Scientist' and 'DataWiz Inc.' respectively. The final string should state: 'Data Scientist at DataWiz'.\n",
    "\n",
    "## Code Needed:\n",
    "position = 'Data Scientist'\n",
    "company = 'DataWiz Inc.'\n",
    "## Hint:\n",
    "Use an f-string to format the string with variables."
   ]
  },
  {
   "cell_type": "code",
   "execution_count": 8,
   "metadata": {},
   "outputs": [
    {
     "name": "stdout",
     "output_type": "stream",
     "text": [
      "Data Scientist at DataWiz Inc.\n"
     ]
    }
   ],
   "source": [
    "position = 'Data Scientist'\n",
    "company = 'DataWiz Inc.'\n",
    "result = f'{position} at {company}'\n",
    "print(result)"
   ]
  },
  {
   "cell_type": "markdown",
   "metadata": {},
   "source": [
    "# Format with str.format() (1.5.3) - Problem\n",
    "## Problem Statement:\n",
    "Use the str.format() method to format the string to include the variables role and skill. The variables are set to 'Data Analyst' and 'Python' respectively. The final string should state: 'Role: Data Analyst, Skill: Python'\n",
    "\n",
    "## Code Needed:\n",
    "role = 'Data Analyst'\n",
    "skill = 'Python'\n",
    "## Hint:\n",
    "Use the str.format() method to format the string with variables."
   ]
  },
  {
   "cell_type": "code",
   "execution_count": 12,
   "metadata": {},
   "outputs": [
    {
     "name": "stdout",
     "output_type": "stream",
     "text": [
      "Role: Data Analyst, Skill required: Python\n"
     ]
    }
   ],
   "source": [
    "role = 'Data Analyst'\n",
    "skill = 'Python'\n",
    "\n",
    "result = 'Role: {}, Skill required: {}'.format(role, skill)\n",
    "print(result)\n"
   ]
  },
  {
   "cell_type": "markdown",
   "metadata": {},
   "source": [
    "# Format with %-formatting (1.5.4) - Problem\n",
    "## Problem Statement:\n",
    "Use %-formatting to format the string to include the variables role and skill. The variables are set to 'Data Engineer' and 'SQL' respectively. The final string should state: 'Role: Data Engineer, Skill: SQL'\n",
    "\n",
    "## Code Needed:\n",
    "role = 'Data Engineer'\n",
    "skill = 'SQL'\n",
    "## Hint:\n",
    "Use %-formatting to format the string with variables."
   ]
  },
  {
   "cell_type": "code",
   "execution_count": 13,
   "metadata": {},
   "outputs": [
    {
     "name": "stdout",
     "output_type": "stream",
     "text": [
      "Role: Data Engineer, Skill: SQL\n"
     ]
    }
   ],
   "source": [
    "role = 'Data Engineer'\n",
    "skill = 'SQL'\n",
    "\n",
    "result = 'Role: %s, Skill: %s' % (role, skill)\n",
    "print(result)"
   ]
  }
 ],
 "metadata": {
  "kernelspec": {
   "display_name": "base",
   "language": "python",
   "name": "python3"
  },
  "language_info": {
   "codemirror_mode": {
    "name": "ipython",
    "version": 3
   },
   "file_extension": ".py",
   "mimetype": "text/x-python",
   "name": "python",
   "nbconvert_exporter": "python",
   "pygments_lexer": "ipython3",
   "version": "3.11.7"
  }
 },
 "nbformat": 4,
 "nbformat_minor": 2
}
