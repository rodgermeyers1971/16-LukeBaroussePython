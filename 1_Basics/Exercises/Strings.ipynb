{
 "cells": [
  {
   "cell_type": "markdown",
   "metadata": {},
   "source": [
    "# Convert to Uppercase (1.4.1) - Problem\n",
    "## Problem Statement:\n",
    "Convert the string job_title to uppercase. The variable is set to 'data scientist'.\n",
    "\n",
    "## Code Needed:\n",
    "job_title = 'data scientist'\n",
    "## Hint:\n",
    "Use the upper() method to convert a string to uppercase."
   ]
  },
  {
   "cell_type": "code",
   "execution_count": 2,
   "metadata": {},
   "outputs": [
    {
     "name": "stdout",
     "output_type": "stream",
     "text": [
      "DATA SCIENTIST\n"
     ]
    }
   ],
   "source": [
    "job_title = 'data scientist'\n",
    "job_title = job_title.upper()\n",
    "print(job_title)"
   ]
  },
  {
   "cell_type": "markdown",
   "metadata": {},
   "source": [
    "# Replace Substring (1.4.2) - Problem\n",
    "## Problem Statement:\n",
    "Replace the word 'Analyst' with 'Engineer' in the string job_title. The variable is set to 'Data Analyst'.\n",
    "\n",
    "## Code Needed:\n",
    "job_title = 'Data Analyst'\n",
    "## Hint:\n",
    "Use the replace() method to replace a substring within a string."
   ]
  },
  {
   "cell_type": "code",
   "execution_count": 3,
   "metadata": {},
   "outputs": [
    {
     "name": "stdout",
     "output_type": "stream",
     "text": [
      "Data Engineer\n"
     ]
    }
   ],
   "source": [
    "job_title = 'Data Analyst'\n",
    "job_title = job_title.replace('Analyst', 'Engineer')\n",
    "print(job_title)"
   ]
  },
  {
   "cell_type": "markdown",
   "metadata": {},
   "source": [
    "# Concatenate Strings (1.4.3) - Problem\n",
    "## Problem Statement:\n",
    "Concatenate the strings seniority_level and job_title with a space in between. The variables are set to 'Senior' and 'Data Analyst' respectively.\n",
    "\n",
    "## Code Needed:\n",
    "seniority_level = 'Senior'\n",
    "job_title = 'Data Analyst'\n",
    "## Hint:\n",
    "Use the + operator to concatenate strings and include a space between them."
   ]
  },
  {
   "cell_type": "code",
   "execution_count": 4,
   "metadata": {},
   "outputs": [
    {
     "name": "stdout",
     "output_type": "stream",
     "text": [
      "Senior Data Analyst\n"
     ]
    }
   ],
   "source": [
    "seniority_level = 'Senior'\n",
    "job_title = 'Data Analyst'\n",
    "\n",
    "concat_string = seniority_level + ' ' + job_title\n",
    "print(concat_string)"
   ]
  },
  {
   "cell_type": "markdown",
   "metadata": {},
   "source": [
    "# Check String Length (1.4.4) - Problem\n",
    "## Problem Statement:\n",
    "Check the length of a string job_title. The variable is set to 'Data Scientist'.\n",
    "\n",
    "## Code Needed:\n",
    "job_title = 'Data Scientist'\n",
    "## Hint:\n",
    "Use the len() function to check the strings length."
   ]
  },
  {
   "cell_type": "code",
   "execution_count": 6,
   "metadata": {},
   "outputs": [
    {
     "name": "stdout",
     "output_type": "stream",
     "text": [
      "14\n"
     ]
    }
   ],
   "source": [
    "job_title = 'Data Scientist'\n",
    "print(len(job_title))   "
   ]
  },
  {
   "cell_type": "markdown",
   "metadata": {},
   "source": [
    "# Convert to Lowercase (1.4.5) - Problem\n",
    "## Problem Statement:\n",
    "Convert the string job_title to lowercase. The variable is set to 'DATA ENGINEER'.\n",
    "\n",
    "## Code Needed:\n",
    "job_title = 'DATA ENGINEER'\n",
    "## Hint:\n",
    "Use the lower() method to convert a string to uppercase."
   ]
  },
  {
   "cell_type": "code",
   "execution_count": 7,
   "metadata": {},
   "outputs": [
    {
     "name": "stdout",
     "output_type": "stream",
     "text": [
      "data engineer\n"
     ]
    }
   ],
   "source": [
    "job_title = 'DATA ENGINEER'\n",
    "job_title = job_title.lower()\n",
    "print(job_title)"
   ]
  }
 ],
 "metadata": {
  "kernelspec": {
   "display_name": "base",
   "language": "python",
   "name": "python3"
  },
  "language_info": {
   "codemirror_mode": {
    "name": "ipython",
    "version": 3
   },
   "file_extension": ".py",
   "mimetype": "text/x-python",
   "name": "python",
   "nbconvert_exporter": "python",
   "pygments_lexer": "ipython3",
   "version": "3.11.7"
  }
 },
 "nbformat": 4,
 "nbformat_minor": 2
}
