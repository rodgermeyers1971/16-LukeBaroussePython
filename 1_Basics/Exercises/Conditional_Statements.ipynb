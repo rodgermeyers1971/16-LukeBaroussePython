{
 "cells": [
  {
   "cell_type": "markdown",
   "metadata": {},
   "source": [
    "# Determine Python Experience (1.7.1) - Problem\n",
    "### Problem Statement:\n",
    "Output someone's skill level based on the number of years someone has been using Python. Use the following criteria:\n",
    "\n",
    "<li>Less than 2 years is 'Beginner'</li>\n",
    "<li>2 or more years is 'Intermediate'</li>\n",
    "\n",
    "Set the variable python_experience to 3 and test this variable in the if statement.\n",
    "\n",
    "### Code Needed:\n",
    "python_experience = 3\n",
    "### Hint:\n",
    "Use if and else statements to check the conditions."
   ]
  },
  {
   "cell_type": "code",
   "execution_count": 2,
   "metadata": {},
   "outputs": [
    {
     "name": "stdout",
     "output_type": "stream",
     "text": [
      "Intermediate\n"
     ]
    }
   ],
   "source": [
    "python_experience = 3\n",
    "\n",
    "if python_experience < 2:\n",
    "    skill_level = \"Beginner\"\n",
    "else:\n",
    "    skill_level = \"Intermediate\"\n",
    "print(skill_level)"
   ]
  },
  {
   "cell_type": "markdown",
   "metadata": {},
   "source": [
    "# Determine Job Skill Level (1.7.2) - Problem\n",
    "### Problem Statement:\n",
    "Output someone's skill level based on the number of data science tools they know. Use the following criteria:\n",
    "\n",
    "<li>0-1 tools is 'Beginner'</li>\n",
    "<li>2-4 tools is 'Intermediate'</li>\n",
    "<li>More than 4 tools is 'Advanced'</li>\n",
    "\n",
    "The variable tools_known is set to 3 to test with the if statement.\n",
    "\n",
    "### Code Needed:\n",
    "tools_known = 3\n",
    "### Hint:\n",
    "Use if, elif, and else statements to check the conditions."
   ]
  },
  {
   "cell_type": "code",
   "execution_count": 3,
   "metadata": {},
   "outputs": [
    {
     "name": "stdout",
     "output_type": "stream",
     "text": [
      "Intermediate\n"
     ]
    }
   ],
   "source": [
    "tools_known = 3\n",
    "if tools_known < 2:\n",
    "    tools_level = \"Beginner\"\n",
    "elif tools_known < 5:\n",
    "    tools_level = \"Intermediate\"\n",
    "else:\n",
    "    tools_level = \"Advanced\"\n",
    "print(tools_level)"
   ]
  },
  {
   "cell_type": "markdown",
   "metadata": {},
   "source": [
    "# Determine Job Title (1.7.3) - Problem\n",
    "### Problem Statement:\n",
    "Determine the job title based on years of job experience and years of SQL experience. The variable job_experience is set to 4 and sql_experience is set to 2. Use the following criteria:\n",
    "\n",
    "<li>Less than 2 years of job experience is 'Junior Analyst'.</li>\n",
    "<li>2 to 5 years of job experience and 1 year of SQL experience is 'Intermediate Analyst'.</li>\n",
    "<li>2 to 5 years of job experience and 2 or more years of SQL experience is 'Senior Analyst'.</li>\n",
    "<li>More than 5 years of job experience and 3 or more years of SQL experience is 'Lead Analyst'.</li>\n",
    "<li>More than 5 years of job experience and less than 3 years of SQL experience is 'Data Analyst'.</li>\n",
    "\n",
    "### Code Needed:\n",
    "job_experience = 4<br>\n",
    "sql_experience = 2\n",
    "### Hint:\n",
    "Use if, elif, and else statements to check the conditions.\n",
    "\n"
   ]
  },
  {
   "cell_type": "code",
   "execution_count": 5,
   "metadata": {},
   "outputs": [
    {
     "name": "stdout",
     "output_type": "stream",
     "text": [
      "Senior Analyst\n"
     ]
    }
   ],
   "source": [
    "job_experience = 4\n",
    "sql_experience = 2\n",
    "\n",
    "if job_experience < 2:\n",
    "    job_title = \"Junior Analyst\"\n",
    "elif job_experience <= 5 and sql_experience == 1:\n",
    "    job_title = \"Intermediate Analyst\"\n",
    "elif job_experience <= 5 and sql_experience >= 2: \n",
    "    job_title = \"Senior Analyst\"\n",
    "elif job_experience > 5 and sql_experience >= 3:\n",
    "    job_title = \"Lead Analyst\"\n",
    "else:\n",
    "    job_title = 'Data Analyst'\n",
    "print(job_title)"
   ]
  }
 ],
 "metadata": {
  "kernelspec": {
   "display_name": "base",
   "language": "python",
   "name": "python3"
  },
  "language_info": {
   "codemirror_mode": {
    "name": "ipython",
    "version": 3
   },
   "file_extension": ".py",
   "mimetype": "text/x-python",
   "name": "python",
   "nbconvert_exporter": "python",
   "pygments_lexer": "ipython3",
   "version": "3.11.7"
  }
 },
 "nbformat": 4,
 "nbformat_minor": 2
}
