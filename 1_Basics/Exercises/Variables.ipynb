{
 "cells": [
  {
   "cell_type": "markdown",
   "metadata": {},
   "source": [
    "# Job Postings Count (1.2.1) - Problem\n",
    "## Problem Statement:\n",
    "Create a variable, called job_count to store the number 42. Print job_count once calculated.\n",
    "\n",
    "## Hint:\n",
    "Use the assignment operator = to assign the value to the variable."
   ]
  },
  {
   "cell_type": "code",
   "execution_count": 1,
   "metadata": {},
   "outputs": [
    {
     "name": "stdout",
     "output_type": "stream",
     "text": [
      "42\n"
     ]
    }
   ],
   "source": [
    "job_count = 42\n",
    "print(job_count)"
   ]
  },
  {
   "cell_type": "markdown",
   "metadata": {},
   "source": [
    "# Store Job Information (1.2.2) - Problem\n",
    "## Problem Statement:\n",
    "Create variables to store the job title, company name, and whether the job is remote for a Data Engineer position. Set the job title to 'Data Engineer', the company name to 'DataWorks', and the remote status to True. Print all the variables.\n",
    "\n",
    "## Hint:\n",
    "Use the assignment operator = to assign values to the variables."
   ]
  },
  {
   "cell_type": "code",
   "execution_count": 3,
   "metadata": {},
   "outputs": [
    {
     "name": "stdout",
     "output_type": "stream",
     "text": [
      "Data Engineer DataWorks True\n"
     ]
    }
   ],
   "source": [
    "job_title = 'Data Engineer'\n",
    "company_name = 'DataWorks'\n",
    "remote_status = True\n",
    "\n",
    "print(job_title, company_name, remote_status)"
   ]
  },
  {
   "cell_type": "markdown",
   "metadata": {},
   "source": [
    "# Calculate Total Compensation (1.2.3) - Problem\n",
    "## Problem Statement:\n",
    "Calculate the total compensation for a Data Scientist by adding two variables of base_slary and bonus. The base salary is 120000 and the bonus is 20000. Store the result in a variable named total_compensation. Print total_compensation once calculated.\n",
    "\n",
    "## Hint:\n",
    "Use the + operator to add the base salary and bonus."
   ]
  },
  {
   "cell_type": "code",
   "execution_count": 4,
   "metadata": {},
   "outputs": [
    {
     "name": "stdout",
     "output_type": "stream",
     "text": [
      "140000\n"
     ]
    }
   ],
   "source": [
    "base_salary = 120000\n",
    "bonus = 20000\n",
    "total_compensation = base_salary + bonus\n",
    "print(total_compensation)"
   ]
  },
  {
   "cell_type": "markdown",
   "metadata": {},
   "source": [
    "# Calculate Monthly Salary (1.2.4) - Problem\n",
    "## Problem Statement:\n",
    "Calculate the monthly salary of a Data Analyst job by dividing the annual salary of $72K by 12 and then printing the monthly salary. Assign appropriate variable names for each.\n",
    "\n",
    "## Hint:\n",
    "Use the / operator to divide the annual salary by 12."
   ]
  },
  {
   "cell_type": "code",
   "execution_count": 6,
   "metadata": {},
   "outputs": [
    {
     "data": {
      "text/plain": [
       "6000.0"
      ]
     },
     "execution_count": 6,
     "metadata": {},
     "output_type": "execute_result"
    }
   ],
   "source": [
    "annual_salary = 72_000\n",
    "monthly_salary = annual_salary / 12\n",
    "monthly_salary"
   ]
  },
  {
   "cell_type": "markdown",
   "metadata": {},
   "source": [
    "# Calculate Total Compensation with Bonus (1.2.5) - Problem\n",
    "## Problem Statement:\n",
    "Create variables to store the job title, company name, and salary for a Data Scientist position at AI Solutions for $110K. Then, calculate the total compensation by adding a 10% bonus to the salary and print the total compensation, along with the job and company name.\n",
    "\n",
    "## Hint:\n",
    "Use the * operator to calculate the 10% bonus and the + operator to add it to the salary."
   ]
  },
  {
   "cell_type": "code",
   "execution_count": 7,
   "metadata": {},
   "outputs": [
    {
     "name": "stdout",
     "output_type": "stream",
     "text": [
      "Data Scientist AI Solutions 121000.0\n"
     ]
    }
   ],
   "source": [
    "job_title = 'Data Scientist'\n",
    "company_name = 'AI Solutions'\n",
    "salary = 110_000\n",
    "bonus = .10\n",
    "total_compensation = salary + (salary * bonus)\n",
    "print(job_title, company_name, total_compensation)"
   ]
  },
  {
   "cell_type": "code",
   "execution_count": null,
   "metadata": {},
   "outputs": [],
   "source": []
  }
 ],
 "metadata": {
  "kernelspec": {
   "display_name": "base",
   "language": "python",
   "name": "python3"
  },
  "language_info": {
   "codemirror_mode": {
    "name": "ipython",
    "version": 3
   },
   "file_extension": ".py",
   "mimetype": "text/x-python",
   "name": "python",
   "nbconvert_exporter": "python",
   "pygments_lexer": "ipython3",
   "version": "3.11.7"
  }
 },
 "nbformat": 4,
 "nbformat_minor": 2
}
