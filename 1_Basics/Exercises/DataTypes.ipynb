{
 "cells": [
  {
   "cell_type": "markdown",
   "metadata": {},
   "source": [
    "# Check Data Type (1.3.1) - Problem\n",
    "## Problem Statement:\n",
    "Check the data type of the variable job_title which is set to 'Data Scientist' (Note: 'Data Scientist' is in quotes).\n",
    "\n",
    "## Code Needed:\n",
    "job_title = 'Data Scientist'\n",
    "## Hint:\n",
    "Use the type() function to check the data type of a variable."
   ]
  },
  {
   "cell_type": "code",
   "execution_count": 2,
   "metadata": {},
   "outputs": [
    {
     "name": "stdout",
     "output_type": "stream",
     "text": [
      "<class 'str'>\n"
     ]
    }
   ],
   "source": [
    "job_title = 'Data Scientist'\n",
    "print(type(job_title))"
   ]
  },
  {
   "cell_type": "markdown",
   "metadata": {},
   "source": [
    "# Check Float Type (1.3.2) - Problem\n",
    "## Problem Statement:\n",
    "Create a variable salary with the value 85000.50 and check its data type.\n",
    "\n",
    "## Code Needed:\n",
    "salary = 85000.50\n",
    "## Hint:\n",
    "Use the type() function to check the data type of a variable."
   ]
  },
  {
   "cell_type": "code",
   "execution_count": 3,
   "metadata": {},
   "outputs": [
    {
     "name": "stdout",
     "output_type": "stream",
     "text": [
      "<class 'float'>\n"
     ]
    }
   ],
   "source": [
    "salary = 85000.50\n",
    "print(type(salary))"
   ]
  },
  {
   "cell_type": "markdown",
   "metadata": {},
   "source": [
    "# Convert to Integer (1.3.3) - Problem\n",
    "## Problem Statement:\n",
    "Convert the float of 120000.75, assigned to the variable salary_rate, to an integer; Print its type after conversion to verify it is an integer.\n",
    "\n",
    "## Code Needed:\n",
    "salary_rate = 120000.75\n",
    "## Hint:\n",
    "Use the int() function to convert a float to an integer."
   ]
  },
  {
   "cell_type": "code",
   "execution_count": 6,
   "metadata": {},
   "outputs": [
    {
     "name": "stdout",
     "output_type": "stream",
     "text": [
      "<class 'int'>\n"
     ]
    }
   ],
   "source": [
    "salary_rate = 120000.75\n",
    "salary_rate = int(salary_rate)\n",
    "print(type(salary_rate))\n"
   ]
  },
  {
   "cell_type": "markdown",
   "metadata": {},
   "source": [
    "# Check String Type (1.3.4) - Problem\n",
    "## Problem Statement:\n",
    "Check if the variable company_name is of the type str. company_name is set to 'DataWiz Inc.'. \n",
    "\n",
    "## Code Needed:\n",
    "company_name = 'DataWiz Inc.'\n",
    "## Hint:\n",
    "Use the isinstance() function to check if a variable is of a specific type. For the function isinstance(), pass in two arguments within the parenthesis of the function of company_name and then str."
   ]
  },
  {
   "cell_type": "code",
   "execution_count": 10,
   "metadata": {},
   "outputs": [
    {
     "name": "stdout",
     "output_type": "stream",
     "text": [
      "True\n"
     ]
    }
   ],
   "source": [
    "company_name = 'DataWiz Inc.'\n",
    "print(isinstance(company_name, str))"
   ]
  }
 ],
 "metadata": {
  "kernelspec": {
   "display_name": "base",
   "language": "python",
   "name": "python3"
  },
  "language_info": {
   "codemirror_mode": {
    "name": "ipython",
    "version": 3
   },
   "file_extension": ".py",
   "mimetype": "text/x-python",
   "name": "python",
   "nbconvert_exporter": "python",
   "pygments_lexer": "ipython3",
   "version": "3.11.7"
  }
 },
 "nbformat": 4,
 "nbformat_minor": 2
}
