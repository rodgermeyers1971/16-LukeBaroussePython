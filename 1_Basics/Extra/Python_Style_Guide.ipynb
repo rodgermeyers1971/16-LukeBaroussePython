{
 "cells": [
  {
   "cell_type": "markdown",
   "id": "00d49df9",
   "metadata": {},
   "source": [
    "<a target=\"_blank\" href=\"https://colab.research.google.com/github/lukebarousse/Python_Data_Analytics_Course/blob/main/1_Basics/Extra/Python_Style_Guide.ipynb\">\n",
    "  <img src=\"https://colab.research.google.com/assets/colab-badge.svg\" alt=\"Open In Colab\"/>\n",
    "</a>"
   ]
  },
  {
   "cell_type": "markdown",
   "metadata": {
    "id": "1d3mbbbTtzyk"
   },
   "source": [
    "# Style Guide\n",
    "\n"
   ]
  },
  {
   "cell_type": "markdown",
   "metadata": {},
   "source": [
    "- Python has a style guide called PEP 8\n",
    "  - Think of it as a \"Best Practices Guide\" for writing Python\n",
    "- We won't be getting into all the details but will be following it for code formatting\n",
    "- Official documentation 👉 [click here](https://peps.python.org/pep-0008/#block-comments)"
   ]
  },
  {
   "cell_type": "markdown",
   "metadata": {
    "id": "5MXi4cKtE2U1"
   },
   "source": [
    "## Formatting & Syntax\n",
    "\n"
   ]
  },
  {
   "cell_type": "markdown",
   "metadata": {},
   "source": [
    "### Indentation\n",
    "\n",
    "#### Notes\n",
    "\n",
    "* **Indentation** - refers to the spaces at the beginning of a code line.\n",
    "* Indentation is **very** important.\n",
    "* Python uses indentation to indicate a block of code\n",
    "* Needed to run the code properly.\n",
    "\n",
    "#### Example\n",
    "\n",
    "Below this block of code is saying if 5 is greater than 2. Then do the line that's indented, which is print out 'Five is greater than two!'."
   ]
  },
  {
   "cell_type": "code",
   "execution_count": null,
   "metadata": {
    "colab": {
     "base_uri": "https://localhost:8080/"
    },
    "executionInfo": {
     "elapsed": 4,
     "status": "ok",
     "timestamp": 1711342801582,
     "user": {
      "displayName": "Kelly Adams",
      "userId": "09437392635559217735"
     },
     "user_tz": 420
    },
    "id": "la_WqFmsFRxb",
    "outputId": "2fc01a26-d731-42f5-a8cf-84ebc8657d78"
   },
   "outputs": [
    {
     "name": "stdout",
     "output_type": "stream",
     "text": [
      "Five is greater than two!\n"
     ]
    }
   ],
   "source": [
    "if 5 > 2:\n",
    "    print('Five is greater than two!')"
   ]
  },
  {
   "cell_type": "markdown",
   "metadata": {
    "id": "XOXO4slzE2dp"
   },
   "source": [
    "However, if you don't have an indent on the second line. Python doesn't understand that this second `print()` statement is based on the `if` statement. It will run an error."
   ]
  },
  {
   "cell_type": "code",
   "execution_count": null,
   "metadata": {
    "colab": {
     "base_uri": "https://localhost:8080/",
     "height": 106
    },
    "executionInfo": {
     "elapsed": 467,
     "status": "error",
     "timestamp": 1711342810042,
     "user": {
      "displayName": "Kelly Adams",
      "userId": "09437392635559217735"
     },
     "user_tz": 420
    },
    "id": "sSZ66OBGFm-_",
    "outputId": "6ad63603-f1f7-4a2a-fe8a-bcc7dbeede8a"
   },
   "outputs": [
    {
     "ename": "IndentationError",
     "evalue": "expected an indented block after 'if' statement on line 1 (<ipython-input-18-db6d9a3f9498>, line 2)",
     "output_type": "error",
     "traceback": [
      "\u001b[0;36m  File \u001b[0;32m\"<ipython-input-18-db6d9a3f9498>\"\u001b[0;36m, line \u001b[0;32m2\u001b[0m\n\u001b[0;31m    print('Five is greater than two!')\u001b[0m\n\u001b[0m    ^\u001b[0m\n\u001b[0;31mIndentationError\u001b[0m\u001b[0;31m:\u001b[0m expected an indented block after 'if' statement on line 1\n"
     ]
    }
   ],
   "source": [
    "if 5 > 2:\n",
    "print('Five is greater than two!')"
   ]
  },
  {
   "cell_type": "markdown",
   "metadata": {},
   "source": [
    "### Forgetting \":\"\n",
    "\n",
    "#### Notes\n",
    "\n",
    "- Make sure you include a \":\" at the end of Python constructs that require it. \n",
    "- It's needed at the end of the line before starting a block of indented code. \n",
    "- Below is a list of common constructs that you will need to use a colon: \n",
    "    - `elif` statements\n",
    "    - `else` statements\n",
    "    - `try` blocks\n",
    "    - `except` blocks\n",
    "    - `finally` blocks\n",
    "    - `with` statements (for context managers)\n",
    "    - `def` for function definitions (as mentioned)\n",
    "    - `class` definitions (as mentioned)\n",
    "    - Comprehensions with `if` conditions (e.g., `[x for x in range(5) if x % 2 == 0]`)\n",
    "- These colons signify to Python that a new block of code is starting and that the following lines should be treated as a group until the indentation level returns to the level of the statement that introduced the block.\n",
    "\n",
    "#### Examples \n",
    "\n",
    "Here are some examples of what happens if you forget a \":\" in the code (this is **incorrect** code)."
   ]
  },
  {
   "cell_type": "code",
   "execution_count": 12,
   "metadata": {},
   "outputs": [
    {
     "ename": "SyntaxError",
     "evalue": "expected ':' (2867027409.py, line 1)",
     "output_type": "error",
     "traceback": [
      "\u001b[1;36m  Cell \u001b[1;32mIn[12], line 1\u001b[1;36m\u001b[0m\n\u001b[1;33m    if x > 5\u001b[0m\n\u001b[1;37m            ^\u001b[0m\n\u001b[1;31mSyntaxError\u001b[0m\u001b[1;31m:\u001b[0m expected ':'\n"
     ]
    }
   ],
   "source": [
    "if x > 5\n",
    "    print('x is greater than 5')"
   ]
  },
  {
   "cell_type": "code",
   "execution_count": 14,
   "metadata": {},
   "outputs": [
    {
     "ename": "SyntaxError",
     "evalue": "expected ':' (3964378094.py, line 1)",
     "output_type": "error",
     "traceback": [
      "\u001b[1;36m  Cell \u001b[1;32mIn[14], line 1\u001b[1;36m\u001b[0m\n\u001b[1;33m    for i in range(5)\u001b[0m\n\u001b[1;37m                     ^\u001b[0m\n\u001b[1;31mSyntaxError\u001b[0m\u001b[1;31m:\u001b[0m expected ':'\n"
     ]
    }
   ],
   "source": [
    "for i in range(5)\n",
    "    print(i)"
   ]
  },
  {
   "cell_type": "code",
   "execution_count": 15,
   "metadata": {},
   "outputs": [
    {
     "ename": "SyntaxError",
     "evalue": "expected ':' (1558474294.py, line 1)",
     "output_type": "error",
     "traceback": [
      "\u001b[1;36m  Cell \u001b[1;32mIn[15], line 1\u001b[1;36m\u001b[0m\n\u001b[1;33m    def greet(name)\u001b[0m\n\u001b[1;37m                   ^\u001b[0m\n\u001b[1;31mSyntaxError\u001b[0m\u001b[1;31m:\u001b[0m expected ':'\n"
     ]
    }
   ],
   "source": [
    "def greet(name)\n",
    "    print(f'Hello, {name}')"
   ]
  },
  {
   "cell_type": "markdown",
   "metadata": {},
   "source": [
    "Now here's the correct code with the \":\" in the correct location. "
   ]
  },
  {
   "cell_type": "code",
   "execution_count": 17,
   "metadata": {},
   "outputs": [
    {
     "name": "stdout",
     "output_type": "stream",
     "text": [
      "x is greater than 5\n"
     ]
    }
   ],
   "source": [
    "x = 6\n",
    "if x > 5:\n",
    "    print('x is greater than 5')"
   ]
  },
  {
   "cell_type": "code",
   "execution_count": 18,
   "metadata": {},
   "outputs": [
    {
     "name": "stdout",
     "output_type": "stream",
     "text": [
      "0\n",
      "1\n",
      "2\n",
      "3\n",
      "4\n"
     ]
    }
   ],
   "source": [
    "for i in range(5):\n",
    "    print(i)"
   ]
  },
  {
   "cell_type": "code",
   "execution_count": 19,
   "metadata": {},
   "outputs": [],
   "source": [
    "def greet(name):\n",
    "    print(f'Hello, {name}')"
   ]
  },
  {
   "cell_type": "markdown",
   "metadata": {},
   "source": [
    "### ifs\n",
    "\n",
    "#### Notes\n",
    "\n",
    "- Don't capitalize if statements\n",
    "- It should be `if` \n",
    "\n",
    "#### Example\n",
    "\n",
    "Below is the **incorrect** code."
   ]
  },
  {
   "cell_type": "code",
   "execution_count": 1,
   "metadata": {},
   "outputs": [
    {
     "ename": "SyntaxError",
     "evalue": "invalid syntax (3014042796.py, line 1)",
     "output_type": "error",
     "traceback": [
      "\u001b[1;36m  Cell \u001b[1;32mIn[1], line 1\u001b[1;36m\u001b[0m\n\u001b[1;33m    IF x > 5:\u001b[0m\n\u001b[1;37m       ^\u001b[0m\n\u001b[1;31mSyntaxError\u001b[0m\u001b[1;31m:\u001b[0m invalid syntax\n"
     ]
    }
   ],
   "source": [
    "IF x > 5:\n",
    "    print('x is greater than 5')"
   ]
  },
  {
   "cell_type": "markdown",
   "metadata": {},
   "source": [
    "This is the correct code."
   ]
  },
  {
   "cell_type": "code",
   "execution_count": 2,
   "metadata": {},
   "outputs": [
    {
     "ename": "NameError",
     "evalue": "name 'x' is not defined",
     "output_type": "error",
     "traceback": [
      "\u001b[1;31m---------------------------------------------------------------------------\u001b[0m",
      "\u001b[1;31mNameError\u001b[0m                                 Traceback (most recent call last)",
      "Cell \u001b[1;32mIn[2], line 1\u001b[0m\n\u001b[1;32m----> 1\u001b[0m \u001b[38;5;28;01mif\u001b[39;00m x \u001b[38;5;241m>\u001b[39m \u001b[38;5;241m5\u001b[39m:\n\u001b[0;32m      2\u001b[0m     \u001b[38;5;28mprint\u001b[39m(\u001b[38;5;124m'\u001b[39m\u001b[38;5;124mx is greater than 5\u001b[39m\u001b[38;5;124m'\u001b[39m)\n",
      "\u001b[1;31mNameError\u001b[0m: name 'x' is not defined"
     ]
    }
   ],
   "source": [
    "if x > 5:\n",
    "    print('x is greater than 5')"
   ]
  },
  {
   "cell_type": "markdown",
   "metadata": {},
   "source": [
    "### Spaces \n",
    "\n",
    "#### Notes\n",
    "\n",
    "- Be careful of where you put spaces. \n",
    "- A lot of functions don't need more spaces. \n",
    "\n",
    "#### Examples \n",
    "\n",
    "Here are some examples of **incorrect** spacing in code.\n",
    "\n",
    "First example has a space after `print`."
   ]
  },
  {
   "cell_type": "code",
   "execution_count": 5,
   "metadata": {},
   "outputs": [
    {
     "name": "stdout",
     "output_type": "stream",
     "text": [
      "Hello, world!\n"
     ]
    }
   ],
   "source": [
    "print ('Hello, world!')  # Extra space after print"
   ]
  },
  {
   "cell_type": "markdown",
   "metadata": {},
   "source": [
    "This has extra spaces:\n",
    "- Around = for the default parameter value `def greet(name = 'World')`\n",
    "- Space between the function name and parantheses `print ('Hello, ' + name)`\n",
    "- Space inside call parentheses `greet ( 'Bob' )`\n",
    "\n",
    "While this will still run it is bad practice (according to PEP 8). "
   ]
  },
  {
   "cell_type": "code",
   "execution_count": 11,
   "metadata": {},
   "outputs": [
    {
     "name": "stdout",
     "output_type": "stream",
     "text": [
      "Hello, Bob\n"
     ]
    }
   ],
   "source": [
    "def greet(name = 'World'):  \n",
    "    print ('Hello, ' + name)  \n",
    "greet ( 'Bob' ) "
   ]
  },
  {
   "cell_type": "markdown",
   "metadata": {},
   "source": [
    "This is the correct spacing."
   ]
  },
  {
   "cell_type": "code",
   "execution_count": 6,
   "metadata": {},
   "outputs": [
    {
     "name": "stdout",
     "output_type": "stream",
     "text": [
      "Hello, world!\n"
     ]
    }
   ],
   "source": [
    "print('Hello, world!')"
   ]
  },
  {
   "cell_type": "code",
   "execution_count": 10,
   "metadata": {},
   "outputs": [
    {
     "name": "stdout",
     "output_type": "stream",
     "text": [
      "Hello, Bob\n"
     ]
    }
   ],
   "source": [
    "def greet(name='World'):  \n",
    "    print('Hello, ' + name) \n",
    "greet('Bob')  \n"
   ]
  },
  {
   "cell_type": "markdown",
   "metadata": {
    "id": "Ju2bHWafE2jH"
   },
   "source": [
    "## Comments\n",
    "\n",
    "### Notes\n",
    "\n",
    "* Comments are used to explain Python code\n",
    "* Help make it more readable\n",
    "* Can be used to prevent execution when testing code\n",
    "\n",
    "### General Guidelines\n",
    "\n",
    "We are using the PEP 8 standard for our comments.\n",
    "\n",
    "* Comments should be complete sentences, capitalized appropriately.\n",
    "* Block comments are multi-sentence or multi-line comments with each sentence ending in a period.\n",
    "* After a sentence-ending period, use one or two spaces, except after the final sentence.\n",
    "* Comments must be clear and easily understandable.\n",
    "\n",
    "View the official documentation [here](https://peps.python.org/pep-0008/#comments)."
   ]
  },
  {
   "cell_type": "markdown",
   "metadata": {},
   "source": [
    "### Types\n",
    "\n",
    "There are two main types of comments:\n",
    "1. Single line comments\n",
    "2. Inline comments\n",
    "3. Block comments\n",
    "4. Docstrings\n"
   ]
  },
  {
   "cell_type": "markdown",
   "metadata": {},
   "source": [
    "#### Single Line\n",
    "\n",
    "* These start with a `#`.\n",
    "* Doesn't have to have text to explain the code, can also be used to prevent Python from executing the code.\n",
    "\n",
    "Example:\n",
    "\n",
    "```python\n",
    "# This is a single line comment.\n",
    "```"
   ]
  },
  {
   "cell_type": "markdown",
   "metadata": {},
   "source": [
    "#### Inline\n",
    "\n",
    "* Placed on the same line as the code they describe, following the code and at least two spaces away.\n",
    "* Should be used sparingly and only when it significantly aids understanding.\n",
    "\n",
    "Example:  \n",
    "\n",
    "```python\n",
    "x = x + 1  # Increment x\n",
    "```"
   ]
  },
  {
   "cell_type": "markdown",
   "metadata": {},
   "source": [
    "#### Block Codes\n",
    "\n",
    "* Block comments explain the code following the comment and are separated from the code by a blank line above and possibly below the block comment.\n",
    "* They should be written as one or more paragraphs made of complete sentences.\n",
    "* Each line of a block comment starts with a # and a single space.\n",
    "\n",
    "Example:\n",
    "\n",
    "```python\n",
    "# This is a block comment. It can extend over multiple lines.\n",
    "# This paragraph explains the next code block in detail.\n",
    "```"
   ]
  },
  {
   "cell_type": "markdown",
   "metadata": {},
   "source": [
    "#### Docstrings\n",
    "\n",
    "* Document the purpose of a module, class, or function.\n",
    "* Enclosed in triple quotes (\"\"\"Docstring\"\"\") and placed immediately following the function or class definition.\n",
    "* Although not strictly comments, they serve a similar purpose for documentation.\n",
    "\n",
    "Example:\n",
    "\n",
    "```python\n",
    "def add(a, b):\n",
    "    \"\"\"Return the sum of a and b.\"\"\"\n",
    "    return a + b\n",
    "```"
   ]
  }
 ],
 "metadata": {
  "colab": {
   "provenance": []
  },
  "kernelspec": {
   "display_name": "Python 3",
   "name": "python3"
  },
  "language_info": {
   "codemirror_mode": {
    "name": "ipython",
    "version": 3
   },
   "file_extension": ".py",
   "mimetype": "text/x-python",
   "name": "python",
   "nbconvert_exporter": "python",
   "pygments_lexer": "ipython3",
   "version": "3.11.9"
  }
 },
 "nbformat": 4,
 "nbformat_minor": 0
}
