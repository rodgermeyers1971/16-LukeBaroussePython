{
 "cells": [
  {
   "cell_type": "markdown",
   "id": "64926881",
   "metadata": {},
   "source": [
    "<a target=\"_blank\" href=\"https://colab.research.google.com/github/lukebarousse/Python_Data_Analytics_Course/blob/main/1_Basics/Extra/Exercise_Functions_and_Modules.ipynb\">\n",
    "  <img src=\"https://colab.research.google.com/assets/colab-badge.svg\" alt=\"Open In Colab\"/>\n",
    "</a>"
   ]
  },
  {
   "cell_type": "markdown",
   "metadata": {
    "id": "xhlbFqO2G80o"
   },
   "source": [
    "# Exercise - Functions & Modules"
   ]
  },
  {
   "cell_type": "markdown",
   "metadata": {},
   "source": [
    "## Topics Covered\n",
    "\n",
    "This exercise goes over:\n",
    "\n",
    "* Functions\n",
    "* Lambda\n",
    "* Modules\n",
    "\n",
    "## Question\n",
    "\n",
    "Let's update our code from the last exercise but making it more modular, readable, and concise. \n",
    "\n",
    "Here's the question again: \n",
    "\n",
    "Write a Python script to find out what jobs you are qualified based on a set of skills. The script will evaluate a list of job roles, each associated with its own set of required skills, against the skills you have. Determine which roles you're potentially qualified for and print out these roles. If there's no roles that match your skills, print a message saying there are no matching job roles based on the provided skills.\n",
    "\n",
    "We have some pre-defined variables that you will be using:\n",
    "\n",
    "1. `job_roles`: list of dictionaries, where each dictionary represents a different job role within data science. Each dictionary has the key-value pairs:\n",
    "    * `role`: Name of the job role\n",
    "    * `skills`: A list of strings, each representing a skill required for the job\n",
    "2. `my_skills`: A list of strings, representing the skills you have. "
   ]
  },
  {
   "cell_type": "code",
   "execution_count": null,
   "metadata": {},
   "outputs": [],
   "source": [
    "# Define data science job roles and required skills\n",
    "job_roles = [\n",
    "    {'role': 'Data Analyst', 'skills': ['Python', 'SQL', 'Data Visualization']},\n",
    "    {'role': 'Data Engineer', 'skills': ['Python', 'SQL', 'Snowflake']},\n",
    "    {'role': 'Data Scientist', 'skills': ['Python', 'Machine Learning', 'Statistics']}\n",
    "]\n",
    "\n",
    "# My skills\n",
    "my_skills = ['Python', 'SQL', 'Data Visualization', 'Snowflake']"
   ]
  },
  {
   "cell_type": "markdown",
   "metadata": {},
   "source": [
    "### Update For Loop\n",
    "\n",
    "Instead of using the `for` loop like before where we checked each skill to see if it was true. \n",
    "\n",
    "\n",
    "```python\n",
    "for job in job_roles:\n",
    "```\n",
    "\n",
    "#### What We'll Do Instead\n",
    "\n",
    "* Let's create a function called `is_qualified` which will determine whether a person has the necessary skills for a job. \n",
    "* It has two arguments: `job_skills` (the skills required for a job) and `my_skills` (the skills the person has). \n",
    "\n",
    "#### How it Works\n",
    "\n",
    "* It uses the `all()` function to iterate through each skill in job_skills and checks if it is present in `my_skills`. \n",
    "* The `all()` function returns `True` if all conditions evaluated are true, meaning all required skills are in the person's skill set."
   ]
  },
  {
   "cell_type": "code",
   "execution_count": 1,
   "metadata": {
    "id": "xh6bV0OHHAo5"
   },
   "outputs": [
    {
     "name": "stdout",
     "output_type": "stream",
     "text": [
      "The candidate is potentially qualified for the following roles: Data Analyst, Data Engineer\n"
     ]
    }
   ],
   "source": [
    "# Assume job_roles and my_skills are defined as before\n",
    "\n",
    "def is_qualified(job_skills, my_skills):\n",
    "    return all(skill in my_skills for skill in job_skills)"
   ]
  },
  {
   "cell_type": "markdown",
   "metadata": {},
   "source": [
    "### Contents of For Loop\n",
    "\n",
    "Next, we'll change contents within the `for` loop. \n",
    "\n",
    "```python\n",
    "# Initialize qualified flag\n",
    "    qualified = True\n",
    "    # Go through each skill in the skills key\n",
    "    for skill in job['skills']:\n",
    "        if skill not in my_skills:\n",
    "            qualified = False\n",
    "            break\n",
    "```\n",
    "\n",
    "#### What We'll Do Instead\n",
    "\n",
    "* We'll filter the `job_roles` list to include only those jobs where the person is qualified.\n",
    "\n",
    "#### How it Works\n",
    "\n",
    "* The `lambda` takes each job from job_roles and passes job['skills'] and my_skills to the is_qualified function. \n",
    "* The `filter()` function then includes the job in the result if is_qualified returns True."
   ]
  },
  {
   "cell_type": "code",
   "execution_count": null,
   "metadata": {},
   "outputs": [],
   "source": [
    "# Determine which jobs you're qualified for using a filter and lambda\n",
    "qualified_roles = list(filter(lambda job: is_qualified(job['skills'], my_skills), job_roles))"
   ]
  },
  {
   "cell_type": "markdown",
   "metadata": {},
   "source": [
    "### Update Nested `if` Statement\n",
    "\n",
    "Instead of manually initializing an empty list and appending to it in a loop, we'll use list comprehension.\n",
    "\n",
    "```python\n",
    "# Determine which jobs you're qualified for \n",
    "qualified_roles = []\n",
    "\n",
    "# For loop...\n",
    "    if qualified:\n",
    "         # Add the job dictionary to the qualified_jobs list\n",
    "        qualified_roles.append(job['role'])\n",
    "```\n",
    "\n",
    "#### What We'll Do Instead\n",
    "\n",
    "* Now, we'll extract the titles of the jobs where the person is qualified.\n",
    "\n",
    "#### How it Works\n",
    "\n",
    "* It uses a list comprehension to create a new list, `qualified_role_titles`, consisting of the `'role'` value from each dictionary in `qualified_roles`."
   ]
  },
  {
   "cell_type": "code",
   "execution_count": null,
   "metadata": {},
   "outputs": [],
   "source": [
    "# Extract role titles from qualified roles\n",
    "qualified_role_titles = [job['role'] for job in qualified_roles]"
   ]
  },
  {
   "cell_type": "markdown",
   "metadata": {},
   "source": [
    "### Print\n",
    "\n",
    "Finally we'll use (almost) the same code as before which prints out the names of the roles you're potentially qualified for in a `print()` statement.\n",
    "\n",
    "```python\n",
    "# Output qualified job roles\n",
    "if qualified_roles:\n",
    "    output_message = 'I am potentially qualified for the following roles: ' + ', '.join(qualified_roles)\n",
    "    print(output_message)\n",
    "else:\n",
    "    print('There are no matching job roles for my skills.')\n",
    "```\n",
    "\n",
    "#### What We'll Do Instead\n",
    "\n",
    "* The only difference is we're using `qualified_role_titles`.\n",
    "\n",
    "#### How it Works\n",
    "\n",
    "* It checks if qualified_role_titles is not empty. \n",
    "    * If it contains elements, it joins the titles into a single string with commas and prints a message. \n",
    "    * If it's empty, it prints a message saying there are no matching job roles."
   ]
  },
  {
   "cell_type": "code",
   "execution_count": null,
   "metadata": {},
   "outputs": [],
   "source": [
    "# Output qualified job roles\n",
    "if qualified_role_titles:\n",
    "    output_message = 'I am potentially qualified for the following roles: ' + ', '.join(qualified_role_titles)\n",
    "    print(output_message)\n",
    "else:\n",
    "    print('There are no matching job roles for my skills.')"
   ]
  }
 ],
 "metadata": {
  "colab": {
   "provenance": []
  },
  "kernelspec": {
   "display_name": "Python 3",
   "name": "python3"
  },
  "language_info": {
   "codemirror_mode": {
    "name": "ipython",
    "version": 3
   },
   "file_extension": ".py",
   "mimetype": "text/x-python",
   "name": "python",
   "nbconvert_exporter": "python",
   "pygments_lexer": "ipython3",
   "version": "3.11.9"
  }
 },
 "nbformat": 4,
 "nbformat_minor": 0
}
