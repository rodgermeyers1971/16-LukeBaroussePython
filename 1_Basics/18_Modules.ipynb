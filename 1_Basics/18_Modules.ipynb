{
 "cells": [
  {
   "cell_type": "markdown",
   "id": "010fd941",
   "metadata": {},
   "source": [
    "<a target=\"_blank\" href=\"https://colab.research.google.com/github/lukebarousse/Python_Data_Analytics_Course/blob/main/1_Basics/18_Modules.ipynb\">\n",
    "  <img src=\"https://colab.research.google.com/assets/colab-badge.svg\" alt=\"Open In Colab\"/>\n",
    "</a>"
   ]
  },
  {
   "cell_type": "markdown",
   "metadata": {
    "id": "54vpIdtbxDAL"
   },
   "source": [
    "# Modules"
   ]
  },
  {
   "cell_type": "markdown",
   "metadata": {
    "id": "otPXk6HRFg-5"
   },
   "source": [
    "We'll be going over:\n",
    "- Create a module\n",
    "- Using modules"
   ]
  },
  {
   "cell_type": "markdown",
   "metadata": {
    "id": "a5cQsOwgHEjq"
   },
   "source": [
    "## What is a Module\n",
    "\n",
    "* Consider a module to be the same as a code library.\n",
    "* It's a file containing a set of functions you want to include.\n",
    "\n",
    "#### Importance\n",
    "\n",
    "Essential for accessing pandas and Matplotlib functionalities, allowing data analysis and visualization."
   ]
  },
  {
   "cell_type": "code",
   "execution_count": null,
   "metadata": {},
   "outputs": [],
   "source": [
    "%%writefile my_module.py\n",
    "\n",
    "skill_list = ['Python', 'SQL', 'Excel']"
   ]
  },
  {
   "cell_type": "markdown",
   "metadata": {},
   "source": [
    "We can import things like variables (although this is less common and more for demonstration)."
   ]
  },
  {
   "cell_type": "code",
   "execution_count": null,
   "metadata": {},
   "outputs": [],
   "source": [
    "import my_module\n",
    "\n",
    "my_module.skill_list"
   ]
  },
  {
   "cell_type": "markdown",
   "metadata": {},
   "source": [
    "More importantly we can import functions (and classes)."
   ]
  },
  {
   "cell_type": "code",
   "execution_count": 1,
   "metadata": {},
   "outputs": [
    {
     "name": "stdout",
     "output_type": "stream",
     "text": [
      "Overwriting my_module.py\n"
     ]
    }
   ],
   "source": [
    "%%writefile my_module2.py\n",
    "\n",
    "skill_list = ['Python', 'SQL', 'Excel']\n",
    "\n",
    "def skill(skill_name):\n",
    "    return f\"{skill_name} is my favorite skill!\""
   ]
  },
  {
   "cell_type": "code",
   "execution_count": 2,
   "metadata": {},
   "outputs": [
    {
     "name": "stdout",
     "output_type": "stream",
     "text": [
      "Python is my favorite skill!\n"
     ]
    }
   ],
   "source": [
    "import my_module2\n",
    "\n",
    "# Call the functions from the module\n",
    "print(my_module2.skill('Python'))  "
   ]
  },
  {
   "cell_type": "markdown",
   "metadata": {
    "id": "TRfJ02wwLxnc"
   },
   "source": [
    "## Create a Module\n",
    "\n",
    "### Notes\n",
    "\n",
    "* Save the code you want in a file with the file extensions `.py`.\n",
    "* In Jupyter notebooks we are going to be doing something slightly different to save our module.\n",
    "  * This will let us save the contents of a cell as a Python script file with the `.py` extension.\n",
    "  * Why are we doing this? Because python scripts (.py files) are standalone false. But since we're using Jupyter notebooks which are organized into cells. We need to save it differently.\n",
    "  * Here's how: `%%writefile file_name.py`.\n",
    "\n",
    "### Example\n",
    "\n",
    "* We're going to save our function that weused previously. Save it as `my_module` using the following code:\n",
    "  * `%%writefile my_module.py`\n",
    "  * **Note**: Make sure this is the very first line in the Jupyter Notebook cell. You can't even have a comment or any whitespace above it.\n",
    "\n",
    "Let's use the function we created earlier that calculates total salary."
   ]
  },
  {
   "cell_type": "code",
   "execution_count": 3,
   "metadata": {
    "colab": {
     "base_uri": "https://localhost:8080/"
    },
    "executionInfo": {
     "elapsed": 3,
     "status": "ok",
     "timestamp": 1711576544877,
     "user": {
      "displayName": "Luke Barousse",
      "userId": "16369611424765518237"
     },
     "user_tz": 300
    },
    "id": "vrr89kPTLxIk",
    "outputId": "1b560cdb-2f08-4d89-febf-1dca3e66e112"
   },
   "outputs": [
    {
     "name": "stdout",
     "output_type": "stream",
     "text": [
      "Writing job_analyzer.py\n"
     ]
    }
   ],
   "source": [
    "%%writefile job_analyzer.py\n",
    "\n",
    "# Call the function from the module\n",
    "def calculate_salary(base_salary, bonus_rate=.1):\n",
    "  \"\"\"\n",
    "  Calculate the total salary based on the base salary and bonus rate.\n",
    "\n",
    "  Args:\n",
    "    base_salary (float): The base salary.\n",
    "    bonus_rate (float): The bonus rate. Default is .1.\n",
    "  \n",
    "  Returns:\n",
    "    float: The total salary.\n",
    "  \"\"\"\n",
    "  return base_salary * (1 + bonus_rate)\n",
    "\n",
    "def calculate_bonus(total_salary, base_salary):\n",
    "  \"\"\"\n",
    "  Calculate the bonus rate based on the total salary and base salary.\n",
    "\n",
    "  Args:\n",
    "    total_salary (float): The total salary.\n",
    "    base_salary (float): The base salary.\n",
    "\n",
    "  Returns:\n",
    "    float: The bonus rate.\n",
    "  \"\"\" \n",
    "  return (total_salary - base_salary) / base_salary"
   ]
  },
  {
   "cell_type": "markdown",
   "metadata": {
    "id": "Hp_H0rRDaeXg"
   },
   "source": [
    "If you look in the files you can see the module you just created."
   ]
  },
  {
   "cell_type": "markdown",
   "metadata": {
    "id": "zOHN9w-BMMuT"
   },
   "source": [
    "## Accessing a Module\n",
    "\n",
    "We're going to go over two major types\n",
    "\n",
    "1. User Defined\n",
    "2. Imported Modules"
   ]
  },
  {
   "cell_type": "markdown",
   "metadata": {},
   "source": [
    "### Use Your Created Module\n",
    "\n",
    "\n",
    "#### Notes\n",
    "\n",
    "* To use a function from a module, use the syntax: `module_name.function_name`\n",
    "\n",
    "#### Example"
   ]
  },
  {
   "cell_type": "code",
   "execution_count": 4,
   "metadata": {
    "colab": {
     "base_uri": "https://localhost:8080/"
    },
    "executionInfo": {
     "elapsed": 151,
     "status": "ok",
     "timestamp": 1711576587049,
     "user": {
      "displayName": "Luke Barousse",
      "userId": "16369611424765518237"
     },
     "user_tz": 300
    },
    "id": "Vdv2lEMWHHuL",
    "outputId": "50ce2ea0-9e13-4607-a175-19cfb71e6c5d"
   },
   "outputs": [
    {
     "data": {
      "text/plain": [
       "110000.00000000001"
      ]
     },
     "execution_count": 4,
     "metadata": {},
     "output_type": "execute_result"
    }
   ],
   "source": [
    "import job_analyzer\n",
    "\n",
    "job_analyzer.calculate_salary(100000)"
   ]
  },
  {
   "cell_type": "markdown",
   "metadata": {
    "id": "7IpE_04ZLnlx"
   },
   "source": [
    "Modules can contain variables of all types like arrays, dictionaries, etc."
   ]
  },
  {
   "cell_type": "markdown",
   "metadata": {},
   "source": [
    "## Python Standard Library Modules\n",
    "\n",
    "#### Notes\n",
    "\n",
    "* Python has a variety of standard modules. \n",
    "* Here are some common modules:\n",
    "    * **os**: Provides functions for interacting with the operating system, like file operations\n",
    "    * **sys**: Offers access to some variables used or maintained by the Python interpreter and to functions that interact strongly with the interpreter\n",
    "    * **math**: Contains mathematical functions such as trigonometric functions, logarithms, etc.\n",
    "    * **random**: Allows generating random numbers\n",
    "    * **datetime**: Supplies classes for manipulating dates and times\n",
    "    * **json**: Provides functions for encoding and decoding JSON data\n",
    "    * **csv**: Implements classes to read and write tabular data in CSV format\n",
    "    * **re**: Supports regular expressions for pattern matching and manipulation\n",
    "* In this course we'll be going over: `random`, `datetime` and some 3rd party libraries.\n",
    "\n",
    "#### Source code for Libraries\n",
    "\n",
    "[Python Standard Library Source Code](https://github.com/python/cpython/tree/3.12/Lib).\n"
   ]
  },
  {
   "cell_type": "markdown",
   "metadata": {},
   "source": [
    "#### Libraries Available"
   ]
  },
  {
   "cell_type": "code",
   "execution_count": null,
   "metadata": {},
   "outputs": [],
   "source": [
    "# list the python standard libraries installed\n",
    "import sys\n",
    "print(sys.builtin_module_names)"
   ]
  },
  {
   "cell_type": "markdown",
   "metadata": {},
   "source": [
    "#### Example - Statistics Library\n",
    "\n",
    "We'll import the `statistics` module and use it to take the square root of 16.\n",
    "\n",
    "[Here is the source code to see the module](https://github.com/python/cpython/blob/23ba96e2433d17e86f4770a64b94aaf9ad22a25b/Lib/statistics.py#L468) (Link directs to line 468 of `mean()` function)."
   ]
  },
  {
   "cell_type": "code",
   "execution_count": 6,
   "metadata": {},
   "outputs": [
    {
     "name": "stdout",
     "output_type": "stream",
     "text": [
      "Mean: 99400\n",
      "Median: 99000\n",
      "Mode: 98000\n"
     ]
    }
   ],
   "source": [
    "# Importing statistics module\n",
    "import statistics\n",
    "\n",
    "salary_list = [98000, 101000, 102000, 99000, 97000]\n",
    "\n",
    "# Calculate the mean, median, and mode\n",
    "mean = statistics.mean(salary_list)\n",
    "median = statistics.median(salary_list)\n",
    "mode = statistics.mode(salary_list)\n",
    "\n",
    "# Print the mean, median, and mode\n",
    "print(f'Mean: {mean}')\n",
    "print(f'Median: {median}')\n",
    "print(f'Mode: {mode}')"
   ]
  },
  {
   "cell_type": "markdown",
   "metadata": {},
   "source": [
    "## How to Import"
   ]
  },
  {
   "cell_type": "markdown",
   "metadata": {},
   "source": [
    "### `import` statement"
   ]
  },
  {
   "cell_type": "code",
   "execution_count": null,
   "metadata": {},
   "outputs": [],
   "source": [
    "import pandas"
   ]
  },
  {
   "cell_type": "markdown",
   "metadata": {},
   "source": [
    "### `import` with Alias\n",
    "\n",
    "We are importing a Python library called pandas and assigning it to the alias of `pd`. For libraries we assign an alias to make it quicker to type out the code. It's also standard to assign an alias. "
   ]
  },
  {
   "cell_type": "code",
   "execution_count": null,
   "metadata": {},
   "outputs": [],
   "source": [
    "import pandas as pd"
   ]
  },
  {
   "cell_type": "markdown",
   "metadata": {},
   "source": [
    "### `from` and `import` statements\n",
    "\n",
    "`from` Statement:\n",
    "- Typically used to specify the module or library from which you want to import specific functions, classes, or even other modules.\n",
    "- You can also use it to import specific attributes or objects from within a module `import Statement`.\n",
    "- Used to import functions, classes, variables, or entire modules directly into your namespace.\n",
    "- It can be used alone (e.g., import numpy) or in combination with from to pinpoint specific elements (e.g., from numpy import array).\n",
    "\n",
    "#### Examples\n",
    "We are importing the plot function directly from the `pyplot` module, which is part of the `matplotlib` library. The `.notation` means: `matplotlib` is the package, `pyplot` is a module, and `plot` is a function in this module."
   ]
  },
  {
   "cell_type": "code",
   "execution_count": null,
   "metadata": {},
   "outputs": [],
   "source": [
    "# importing from pyplot module the plot function\n",
    "from matplotlib.pyplot import plot"
   ]
  },
  {
   "cell_type": "markdown",
   "metadata": {},
   "source": [
    "We are importing multiple items (functions in this case). We're importing the functions `mean_squared_error` and `r2_score` from the `metrics` module within the `sklearn` (Scikit-learn) package. Scikit-learn is a library for machine learning."
   ]
  },
  {
   "cell_type": "code",
   "execution_count": null,
   "metadata": {},
   "outputs": [],
   "source": [
    "from sklearn.metrics import mean_squared_error, r2_score"
   ]
  }
 ],
 "metadata": {
  "colab": {
   "provenance": []
  },
  "kernelspec": {
   "display_name": "Python 3",
   "name": "python3"
  },
  "language_info": {
   "codemirror_mode": {
    "name": "ipython",
    "version": 3
   },
   "file_extension": ".py",
   "mimetype": "text/x-python",
   "name": "python",
   "nbconvert_exporter": "python",
   "pygments_lexer": "ipython3",
   "version": "3.9.19"
  }
 },
 "nbformat": 4,
 "nbformat_minor": 0
}
