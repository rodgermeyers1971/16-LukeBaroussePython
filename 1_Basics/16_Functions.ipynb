{
 "cells": [
  {
   "cell_type": "markdown",
   "id": "f7dc929b",
   "metadata": {},
   "source": [
    "<a target=\"_blank\" href=\"https://colab.research.google.com/github/lukebarousse/Python_Data_Analytics_Course/blob/main/1_Basics/16_Functions.ipynb\">\n",
    "  <img src=\"https://colab.research.google.com/assets/colab-badge.svg\" alt=\"Open In Colab\"/>\n",
    "</a>"
   ]
  },
  {
   "cell_type": "markdown",
   "metadata": {
    "id": "54vpIdtbxDAL"
   },
   "source": [
    "# Functions"
   ]
  },
  {
   "cell_type": "markdown",
   "metadata": {
    "id": "otPXk6HRFg-5"
   },
   "source": [
    "## What is a Function\n",
    "\n",
    "### Notes\n",
    "\n",
    "* A **function** is a block of code that only runs when it's called.\n",
    "* You can pass data (called **parameters**) into a function.\n",
    "* The function can return data as a result.\n",
    "\n",
    "## Importance\n",
    "\n",
    "Enable us to resuse the code and make it more modular, important for complex data analysis and plotting routines."
   ]
  },
  {
   "cell_type": "code",
   "execution_count": 4,
   "metadata": {},
   "outputs": [
    {
     "name": "stdout",
     "output_type": "stream",
     "text": [
      "Print is a special type of Python function\n"
     ]
    }
   ],
   "source": [
    "print(\"Print is a special type of Python function\")"
   ]
  },
  {
   "cell_type": "code",
   "execution_count": 5,
   "metadata": {},
   "outputs": [],
   "source": [
    "def my_function():\n",
    "    print(\"What's up data nerds?\")"
   ]
  },
  {
   "cell_type": "code",
   "execution_count": 6,
   "metadata": {},
   "outputs": [
    {
     "name": "stdout",
     "output_type": "stream",
     "text": [
      "What's up data nerds?\n"
     ]
    }
   ],
   "source": [
    "my_function()"
   ]
  },
  {
   "cell_type": "markdown",
   "metadata": {},
   "source": [
    "## Types of Functions\n",
    "\n",
    "| Type of Function             | Example Function              | Section            |\n",
    "|------------------------------|-------------------------------|--------------------|\n",
    "| Built-In functions           | `max()`                       | 1. Getting Started |\n",
    "| User-defined functions       | `def my_function(): pass`     | 16. Functions      |\n",
    "| Lambda functions             | `lambda x: x + 1`             | 17. Lambda         |\n",
    "| Standard Library functions   | `math.sqrt()`                 | 18. Modules        |\n",
    "| Third-Party Library Functions| `numpy.array()`               | 19. Library        |\n",
    "\n",
    "Note: We won't be covering Generator, Asynchronous, or Recursive Functions as they are out of scope of Data Analytics."
   ]
  },
  {
   "cell_type": "markdown",
   "metadata": {},
   "source": [
    "## Built-in Functions\n",
    "\n",
    "Standard within python. We've already used a few:\n",
    "\n",
    "* `print()`: Displays output\n",
    "* `type()`: Checks the data type of objects\n",
    "* `range()`: Generates a sequence of numbers, useful in loops\n",
    "* `len()`: Counts the number of elements in a data structure\n",
    "\n",
    "[Here are all the built-in functions in Python](https://docs.python.org/3/library/functions.html)."
   ]
  },
  {
   "cell_type": "code",
   "execution_count": 7,
   "metadata": {},
   "outputs": [
    {
     "name": "stdout",
     "output_type": "stream",
     "text": [
      "['__build_class__', '__import__', 'abs', 'all', 'any', 'ascii', 'bin', 'breakpoint', 'callable', 'chr', 'compile', 'delattr', 'dir', 'divmod', 'eval', 'exec', 'format', 'getattr', 'globals', 'hasattr', 'hash', 'hex', 'id', 'isinstance', 'issubclass', 'iter', 'len', 'locals', 'max', 'min', 'next', 'oct', 'open', 'ord', 'pow', 'print', 'repr', 'round', 'setattr', 'sorted', 'sum', 'vars']\n"
     ]
    }
   ],
   "source": [
    "import types\n",
    "\n",
    "# list the built-in functions\n",
    "print([func for func in dir(__builtins__) if isinstance(getattr(__builtins__, func), types.BuiltinFunctionType)])"
   ]
  },
  {
   "cell_type": "markdown",
   "metadata": {},
   "source": [
    "Here are some that are useful for data analytics:\n",
    "\n",
    "* `sum()`, `min()`, `max()`: Basic statistical operations\n",
    "* `sorted()`: Sorts data"
   ]
  },
  {
   "cell_type": "code",
   "execution_count": 8,
   "metadata": {},
   "outputs": [
    {
     "name": "stdout",
     "output_type": "stream",
     "text": [
      "Total Salary: $540000, Min: $90000, Max: $130000\n"
     ]
    }
   ],
   "source": [
    "# Sum, Min, Max\n",
    "data_scientist_salaries = [95000, 120000, 105000, 90000, 130000]\n",
    "total_salary = sum(data_scientist_salaries)\n",
    "min_salary = min(data_scientist_salaries)\n",
    "max_salary = max(data_scientist_salaries)\n",
    "print(f'Total Salary: ${total_salary}, Min: ${min_salary}, Max: ${max_salary}')"
   ]
  },
  {
   "cell_type": "code",
   "execution_count": 9,
   "metadata": {},
   "outputs": [
    {
     "data": {
      "text/plain": [
       "[1, 2, 3, 4, 5]"
      ]
     },
     "execution_count": 9,
     "metadata": {},
     "output_type": "execute_result"
    }
   ],
   "source": [
    "# Sorted\n",
    "years_experience = [2, 5, 3, 4, 1]\n",
    "sorted_experience = sorted(years_experience)\n",
    "sorted_experience"
   ]
  },
  {
   "cell_type": "markdown",
   "metadata": {},
   "source": [
    "## User-Defined Functions\n",
    "\n",
    "These are created by the user with your name and syntax of choice: `calculate_something_special()`.\n",
    "\n",
    "#### WARNING \n",
    "Do not name your function the same as standard Python objects.\n",
    "\n",
    "For example, this is a bad idea:\n",
    "\n",
    "```python\n",
    "def print(input):\n",
    "    return \"Hello\" + input\n",
    "```\n",
    "\n",
    "In this case the built-in `print()` function would be overridden."
   ]
  },
  {
   "cell_type": "markdown",
   "metadata": {
    "id": "ez1wWSYtHnKs"
   },
   "source": [
    "#### Creating a Function\n",
    "\n",
    "##### Notes\n",
    "\n",
    "* Use `def` to create a function.\n",
    "\n",
    "##### Example\n",
    "\n",
    "We're going to create a function called `my_experience`. Which returns an integer that represents the years of experience I have."
   ]
  },
  {
   "cell_type": "code",
   "execution_count": 10,
   "metadata": {
    "id": "uzPpdkU1OWfG"
   },
   "outputs": [],
   "source": [
    "def my_experience():\n",
    "    return 5"
   ]
  },
  {
   "cell_type": "markdown",
   "metadata": {},
   "source": [
    "We can also set a default value for a function like `my_function(x='default_value', not_default)`."
   ]
  },
  {
   "cell_type": "markdown",
   "metadata": {
    "id": "N5Mp10RvHr4a"
   },
   "source": [
    "### Calling a Function\n",
    "\n",
    "#### Notes\n",
    "\n",
    "* To call a funciton, use the funciton name followed by parenthesis: `function_name()`"
   ]
  },
  {
   "cell_type": "markdown",
   "metadata": {},
   "source": [
    "🪲 **Debugging**\n",
    "\n",
    "**These are intentional mistakes**\n",
    "\n",
    "This is used to demonstrate debugging.\n",
    "\n",
    "Error: Forgot the `()` after the function name. This won't return an error, but it won't call the function like we want.\n",
    "\n",
    "```python\n",
    "my_experience\n",
    "```\n",
    "\n",
    "Steps to Debug:\n",
    "\n",
    "1. Look at the actual error, can you tell what the problem is?\n",
    "2. If not, then look it up:\n",
    "  1. Use a chatbot like ChatGPT or Claude\n",
    "  2. Look it up using Google"
   ]
  },
  {
   "cell_type": "code",
   "execution_count": 11,
   "metadata": {
    "colab": {
     "base_uri": "https://localhost:8080/"
    },
    "executionInfo": {
     "elapsed": 332,
     "status": "ok",
     "timestamp": 1711432339978,
     "user": {
      "displayName": "Kelly Adams",
      "userId": "09437392635559217735"
     },
     "user_tz": 420
    },
    "id": "8A-Vdpywwlm7",
    "outputId": "40446662-cbd2-4b63-d118-6bc0ca416f2f"
   },
   "outputs": [
    {
     "data": {
      "text/plain": [
       "<function __main__.my_experience()>"
      ]
     },
     "execution_count": 11,
     "metadata": {},
     "output_type": "execute_result"
    }
   ],
   "source": [
    "my_experience"
   ]
  },
  {
   "cell_type": "markdown",
   "metadata": {},
   "source": [
    "This is the correct code ✅."
   ]
  },
  {
   "cell_type": "code",
   "execution_count": 12,
   "metadata": {},
   "outputs": [
    {
     "data": {
      "text/plain": [
       "5"
      ]
     },
     "execution_count": 12,
     "metadata": {},
     "output_type": "execute_result"
    }
   ],
   "source": [
    "my_experience()"
   ]
  },
  {
   "cell_type": "markdown",
   "metadata": {
    "id": "WQwh6bxy776i"
   },
   "source": [
    "### Pass\n",
    "\n",
    "#### Notes\n",
    "\n",
    "* `pass` is used as a placeholder within a function to indicate that the block is intentionally left empty, but may be filled in the future.\n",
    "* It does nothing and is basically ignored by Python.\n",
    "\n",
    "#### Example"
   ]
  },
  {
   "cell_type": "code",
   "execution_count": 13,
   "metadata": {},
   "outputs": [],
   "source": [
    "def my_experience():\n",
    "    pass\n",
    "\n",
    "# Calling the function does nothing but is syntactically valid\n",
    "my_experience()"
   ]
  },
  {
   "cell_type": "markdown",
   "metadata": {
    "id": "EG_GtLxNK7HL"
   },
   "source": [
    "### Return\n",
    "\n",
    "#### Notes\n",
    "\n",
    "* Have the function return a value or result of an expression use `return`.\n",
    "* Exit a function at a certain point.\n",
    "* It can return multiple values using a tuple, list, or dictionary.\n",
    "\n",
    "#### Example"
   ]
  },
  {
   "cell_type": "code",
   "execution_count": 14,
   "metadata": {},
   "outputs": [
    {
     "data": {
      "text/plain": [
       "3500.0"
      ]
     },
     "execution_count": 14,
     "metadata": {},
     "output_type": "execute_result"
    }
   ],
   "source": [
    "# Define a function that accepts a yearly bonus percentage\n",
    "def my_function(yearly_bonus_percent):\n",
    "\n",
    "  # Returns the bonus amount based on the salary times the yearly_bonus_percent\n",
    "  return 70000 * yearly_bonus_percent\n",
    "\n",
    "# Calling the function with a 5% bonus\n",
    "my_function(0.05)"
   ]
  },
  {
   "cell_type": "markdown",
   "metadata": {
    "id": "lL_8gTvnH1QC"
   },
   "source": [
    "### Arguments\n",
    "\n",
    "#### Notes\n",
    "\n",
    "* Information can be passed into functions as arguments.\n",
    "* Arguments are specified after the function name, inside the parentheses.\n",
    "* You can add all the arguments you want. You need to separate them with a comma.\n",
    "* A function has to be called with the correct number of arguments. If your function has 2 arguments, you have to call the function with exactly 2 arguments.\n",
    "\n",
    "Parameters and Arguments\n",
    "* Parameters and arguments can be used for the same thing. Information that's passed into a function.\n",
    "  * Parameter is a variable listed inside the parentheses in the function definition.\n",
    "  * Arugment is the value that's sent to the function when called.\n",
    "\n",
    "#### Example # 1\n"
   ]
  },
  {
   "cell_type": "code",
   "execution_count": 15,
   "metadata": {
    "colab": {
     "base_uri": "https://localhost:8080/"
    },
    "executionInfo": {
     "elapsed": 324,
     "status": "ok",
     "timestamp": 1711432132149,
     "user": {
      "displayName": "Kelly Adams",
      "userId": "09437392635559217735"
     },
     "user_tz": 420
    },
    "id": "XVj2ul-PQMo4",
    "outputId": "4ae71d8e-2316-413c-9530-4a68d957c4ef"
   },
   "outputs": [
    {
     "name": "stdout",
     "output_type": "stream",
     "text": [
      "The Data Analyst has an average salary of $60,000.\n"
     ]
    }
   ],
   "source": [
    "# Create a function\n",
    "def my_function(job_title):\n",
    "    # Prints the job title\n",
    "    print(f'The {job_title} has an average salary of $60,000.')\n",
    "\n",
    "my_function('Data Analyst')"
   ]
  },
  {
   "cell_type": "markdown",
   "metadata": {},
   "source": [
    "You can also have multiple arguments. And the arguments can be different data types."
   ]
  },
  {
   "cell_type": "code",
   "execution_count": 16,
   "metadata": {},
   "outputs": [],
   "source": [
    "# Create a function that takes job_title and average_salary arguments \n",
    "def my_function(job_title, average_salary):\n",
    "    # Prints the job_title and the average salary\n",
    "    print(f'The {job_title} has an average salary of ${average_salary}.')"
   ]
  },
  {
   "cell_type": "markdown",
   "metadata": {},
   "source": [
    "🪲 **Debugging**\n",
    "\n",
    "**These are intentional mistakes**\n",
    "\n",
    "This is used to demonstrate debugging.\n",
    "\n",
    "Error: Forgot an argument.\n",
    "\n",
    "```python\n",
    "my_function(60000)\n",
    "```\n",
    "\n",
    "Steps to Debug:\n",
    "\n",
    "1. Look at the actual error, can you tell what the problem is?\n",
    "2. If not, then look it up:\n",
    "  1. Use a chatbot like ChatGPT or Claude\n",
    "  2. Look it up using Google"
   ]
  },
  {
   "cell_type": "code",
   "execution_count": 17,
   "metadata": {},
   "outputs": [
    {
     "ename": "TypeError",
     "evalue": "my_function() missing 1 required positional argument: 'average_salary'",
     "output_type": "error",
     "traceback": [
      "\u001b[0;31m---------------------------------------------------------------------------\u001b[0m",
      "\u001b[0;31mTypeError\u001b[0m                                 Traceback (most recent call last)",
      "Cell \u001b[0;32mIn[17], line 1\u001b[0m\n\u001b[0;32m----> 1\u001b[0m \u001b[43mmy_function\u001b[49m\u001b[43m(\u001b[49m\u001b[38;5;241;43m60000\u001b[39;49m\u001b[43m)\u001b[49m\n",
      "\u001b[0;31mTypeError\u001b[0m: my_function() missing 1 required positional argument: 'average_salary'"
     ]
    }
   ],
   "source": [
    "my_function(60000)"
   ]
  },
  {
   "cell_type": "markdown",
   "metadata": {},
   "source": [
    "This is the correct code ✅."
   ]
  },
  {
   "cell_type": "code",
   "execution_count": 18,
   "metadata": {},
   "outputs": [
    {
     "name": "stdout",
     "output_type": "stream",
     "text": [
      "The Business Analyst has an average salary of $60000.\n"
     ]
    }
   ],
   "source": [
    "my_function('Business Analyst', 60000)"
   ]
  },
  {
   "cell_type": "markdown",
   "metadata": {},
   "source": [
    "Specifying arguments for a function.\n",
    "\n",
    "```python\n",
    "df.to_csv('/mnt/data/jobs_data.csv', index=False)\n",
    "```"
   ]
  },
  {
   "cell_type": "markdown",
   "metadata": {},
   "source": [
    "#### Example # 2\n",
    "\n",
    "Make a function to calculate the total salary."
   ]
  },
  {
   "cell_type": "code",
   "execution_count": 19,
   "metadata": {},
   "outputs": [],
   "source": [
    "# Calculate total_salary of base_salary * (1 + bonus_rate)\n",
    "def calculate_salary(base_salary, bonus_rate):\n",
    "\n",
    "  total_salary = base_salary * (1 + bonus_rate)\n",
    "\n",
    "  return total_salary"
   ]
  },
  {
   "cell_type": "code",
   "execution_count": 20,
   "metadata": {},
   "outputs": [
    {
     "data": {
      "text/plain": [
       "110000.00000000001"
      ]
     },
     "execution_count": 20,
     "metadata": {},
     "output_type": "execute_result"
    }
   ],
   "source": [
    "salary_1 = 100000\n",
    "rate_1 = 0.1\n",
    "\n",
    "calculate_salary(salary_1, rate_1)"
   ]
  },
  {
   "cell_type": "markdown",
   "metadata": {},
   "source": [
    "### Adding Keyword Arguments\n",
    "\n",
    "#### Notes\n",
    "\n",
    "* You can send arguments with *key = value* syntax\n",
    "* Then the order of the arguments doesn't matter"
   ]
  },
  {
   "cell_type": "code",
   "execution_count": 21,
   "metadata": {},
   "outputs": [],
   "source": [
    "# Calculate total_salary of base_salary * (1 + bonus_rate)\n",
    "def calculate_salary(base_salary, bonus_rate=.1):\n",
    "\n",
    "  total_salary = base_salary * (1 + bonus_rate)\n",
    "\n",
    "  return total_salary"
   ]
  },
  {
   "cell_type": "markdown",
   "metadata": {},
   "source": [
    "Using the keyword argument:"
   ]
  },
  {
   "cell_type": "code",
   "execution_count": 22,
   "metadata": {},
   "outputs": [
    {
     "data": {
      "text/plain": [
       "110000.00000000001"
      ]
     },
     "execution_count": 22,
     "metadata": {},
     "output_type": "execute_result"
    }
   ],
   "source": [
    "salary_1 = 100000\n",
    "\n",
    "calculate_salary(salary_1, rate_1)"
   ]
  },
  {
   "cell_type": "markdown",
   "metadata": {},
   "source": [
    "Overriding the default keyword argument:"
   ]
  },
  {
   "cell_type": "code",
   "execution_count": 23,
   "metadata": {},
   "outputs": [
    {
     "data": {
      "text/plain": [
       "150000.0"
      ]
     },
     "execution_count": 23,
     "metadata": {},
     "output_type": "execute_result"
    }
   ],
   "source": [
    "salary_1 = 100000\n",
    "rate_1 = 0.5\n",
    "\n",
    "calculate_salary(salary_1, rate_1)"
   ]
  },
  {
   "cell_type": "markdown",
   "metadata": {
    "id": "phswfENQRsny"
   },
   "source": [
    "#### Example # 2"
   ]
  },
  {
   "cell_type": "code",
   "execution_count": 24,
   "metadata": {
    "colab": {
     "base_uri": "https://localhost:8080/"
    },
    "executionInfo": {
     "elapsed": 366,
     "status": "ok",
     "timestamp": 1711432310586,
     "user": {
      "displayName": "Kelly Adams",
      "userId": "09437392635559217735"
     },
     "user_tz": 420
    },
    "id": "G22SnJ3PUHGC",
    "outputId": "a5c62d3b-0227-480f-c3d9-7e1c42a4bd0f"
   },
   "outputs": [
    {
     "name": "stdout",
     "output_type": "stream",
     "text": [
      "Job Title and Average Salary Analysis:\n",
      "- Data Analyst: $60,000\n",
      "- Business Analyst: $65,000\n"
     ]
    }
   ],
   "source": [
    "def analyze_skills(skill1, salary1, skill2, salary2):\n",
    "    \"\"\"\n",
    "    Print job titles with their corresponding average salaries using explicitly named parameters.\n",
    "\n",
    "    :param skill1: The first job title or skill.\n",
    "    :param salary1: The average salary for the first job title or skill.\n",
    "    :param skill2: The second job title or skill.\n",
    "    :param salary2: The average salary for the second job title or skill.\n",
    "    \"\"\"\n",
    "    print('Job Title and Average Salary Analysis:')\n",
    "    print(f'- {skill1}: ${salary1:,}')\n",
    "    print(f'- {skill2}: ${salary2:,}')\n",
    "\n",
    "# Calling the function with job titles and their average salaries as arguments\n",
    "analyze_skills(skill1='Data Analyst', salary1=60000, skill2='Business Analyst', salary2=65000)"
   ]
  },
  {
   "cell_type": "markdown",
   "metadata": {
    "id": "1j5tbhhEPq_3"
   },
   "source": [
    "## Advanced Concepts (Not Convered In Video)\n",
    "\n",
    "### Arbitrary Arguments (*Args)\n",
    "\n",
    "#### Notes\n",
    "\n",
    "* If you're not sure how many arguments will be passed into your function, add a `*` before the parameter name in the function definition.\n",
    "* The function will now receive a tuple of arguments.\n",
    "* Arbitrary Arguments are often called `*args`.\n",
    "\n",
    "#### Example\n",
    "\n",
    "First we'll create a dictionary of job titles and their average salaries. "
   ]
  },
  {
   "cell_type": "code",
   "execution_count": 25,
   "metadata": {
    "colab": {
     "base_uri": "https://localhost:8080/"
    },
    "executionInfo": {
     "elapsed": 305,
     "status": "ok",
     "timestamp": 1711432134349,
     "user": {
      "displayName": "Kelly Adams",
      "userId": "09437392635559217735"
     },
     "user_tz": 420
    },
    "id": "XjyS3Sk3SBza",
    "outputId": "e4ab05ff-9a88-416d-edfb-9c513784f6e9"
   },
   "outputs": [
    {
     "name": "stdout",
     "output_type": "stream",
     "text": [
      "Job Title and Average Salary Analysis:\n",
      "- Data Analyst: $60,000\n",
      "- Business Analyst: $65,000\n",
      "- Data Engineer: $90,000\n"
     ]
    }
   ],
   "source": [
    "def analyze_skills(*args):\n",
    "    \"\"\"\n",
    "    Print skills with their corresponding average salaries using positional arguments.\n",
    "\n",
    "    Each argument is expected to be a tuple containing a job title or skill and its average salary.\n",
    "\n",
    "    :param args: A sequence of tuples, where each tuple contains a job title or skill and its average salary.\n",
    "    \"\"\"\n",
    "    print('Job Title and Average Salary Analysis:')\n",
    "    for skill_salary_pair in args:\n",
    "        skill, salary = skill_salary_pair\n",
    "        print(f'- {skill}: ${salary:,}')\n",
    "\n",
    "# Calling the function with tuples of job titles and their average salaries\n",
    "analyze_skills(('Data Analyst', 60000), ('Business Analyst', 65000), ('Data Engineer', 90000))"
   ]
  },
  {
   "cell_type": "markdown",
   "metadata": {
    "id": "bYMLlvVTRsaz"
   },
   "source": [
    "### Arbitrary Keyword Arguments (**Kwargs)\n",
    "\n",
    "#### Notes\n",
    "\n",
    "* If you don't know how many keyword arguments will be passed into the function, add two asterisk `**` before the parameter name in the function definition.\n",
    "* This will have the function receive a dictionary of arguments.\n",
    "\n",
    "#### Example"
   ]
  },
  {
   "cell_type": "code",
   "execution_count": 26,
   "metadata": {
    "colab": {
     "base_uri": "https://localhost:8080/"
    },
    "executionInfo": {
     "elapsed": 318,
     "status": "ok",
     "timestamp": 1711432278966,
     "user": {
      "displayName": "Kelly Adams",
      "userId": "09437392635559217735"
     },
     "user_tz": 420
    },
    "id": "KKVOzfy_T_nA",
    "outputId": "63c4ad7c-8462-403c-c061-4907b9b441ad"
   },
   "outputs": [
    {
     "name": "stdout",
     "output_type": "stream",
     "text": [
      "Skill and Average Salary Analysis:\n",
      "- Data_Analyst: $60,000\n",
      "- Business_Analyst: $65,000\n",
      "- Data_Engineer: $90,000\n"
     ]
    }
   ],
   "source": [
    "def analyze_skills(**skills_salaries):\n",
    "    \"\"\"\n",
    "    Print skills with their corresponding average salaries using keyword arguments.\n",
    "\n",
    "    :param skills_salaries: Keyword arguments where keys are skills or job titles, and values are average salaries.\n",
    "    \"\"\"\n",
    "    print('Skill and Average Salary Analysis:')\n",
    "    for skill, salary in skills_salaries.items():\n",
    "        print(f'- {skill}: ${salary:,}')\n",
    "\n",
    "# Calling the function with keyword arguments for skills and their average salaries\n",
    "analyze_skills(Data_Analyst=60000, Business_Analyst=65000, Data_Engineer=90000)"
   ]
  }
 ],
 "metadata": {
  "colab": {
   "provenance": []
  },
  "kernelspec": {
   "display_name": "Python 3",
   "name": "python3"
  },
  "language_info": {
   "codemirror_mode": {
    "name": "ipython",
    "version": 3
   },
   "file_extension": ".py",
   "mimetype": "text/x-python",
   "name": "python",
   "nbconvert_exporter": "python",
   "pygments_lexer": "ipython3",
   "version": "3.9.19"
  }
 },
 "nbformat": 4,
 "nbformat_minor": 0
}
