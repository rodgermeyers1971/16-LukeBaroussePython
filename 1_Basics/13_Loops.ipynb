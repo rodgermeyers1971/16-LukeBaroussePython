{
 "cells": [
  {
   "cell_type": "markdown",
   "id": "f798e7f8",
   "metadata": {},
   "source": [
    "<a target=\"_blank\" href=\"https://colab.research.google.com/github/lukebarousse/Python_Data_Analytics_Course/blob/main/1_Basics/13_Loops.ipynb\">\n",
    "  <img src=\"https://colab.research.google.com/assets/colab-badge.svg\" alt=\"Open In Colab\"/>\n",
    "</a>"
   ]
  },
  {
   "cell_type": "markdown",
   "metadata": {
    "id": "EjvncGMLlkQa"
   },
   "source": [
    "# Loops"
   ]
  },
  {
   "cell_type": "markdown",
   "metadata": {},
   "source": [
    "## Overview\n",
    "\n",
    "* `while` loops\n",
    "* `for` loops\n",
    "\n",
    "## Importance\n",
    "\n",
    "Crucial for automating repetitive tasks, like data processing in pandas or creating multiple plots in Matplotlib."
   ]
  },
  {
   "cell_type": "markdown",
   "metadata": {},
   "source": [
    "A `for` loops iterates over an iterable object."
   ]
  },
  {
   "cell_type": "code",
   "execution_count": 1,
   "metadata": {},
   "outputs": [
    {
     "name": "stdout",
     "output_type": "stream",
     "text": [
      "1\n",
      "2\n",
      "3\n",
      "4\n",
      "5\n"
     ]
    }
   ],
   "source": [
    "numbers = [1, 2, 3, 4, 5]\n",
    "for number in numbers:\n",
    "    print(number)"
   ]
  },
  {
   "cell_type": "markdown",
   "metadata": {},
   "source": [
    "A `while` loop repeats an action until a condition is no longer true."
   ]
  },
  {
   "cell_type": "code",
   "execution_count": 2,
   "metadata": {},
   "outputs": [
    {
     "name": "stdout",
     "output_type": "stream",
     "text": [
      "1\n",
      "2\n",
      "3\n",
      "4\n",
      "5\n"
     ]
    }
   ],
   "source": [
    "count = 1\n",
    "while count <= 5:\n",
    "    print(count)\n",
    "    count += 1"
   ]
  },
  {
   "cell_type": "markdown",
   "metadata": {
    "id": "XqDYw6KHxiEb"
   },
   "source": [
    "## While\n",
    "\n",
    "### Notes\n",
    "\n",
    "* A `while` loop executes a set of statements as long as the condition is true.\n",
    "* Remember to increment `i`, or else the loop will continue forever.\n",
    "\n",
    "### Examples\n",
    "\n",
    "Prints out all the years of experience required for the 3 data science jobs. \n",
    "\n",
    "* Initializes variables to track the total number of job positions (`total_positions`), and the current position being checked (`position_index`).\n",
    "* Uses a `while` loop to iterate through each job position's minimum experience requirement (`position_experience_requirements`) as long as `position_index` is less than `total_positions`.\n",
    "* Within the loop it prints out the specific number of years of experience `position_experience_requirement` that position requires.\n",
    "* Increments (increases) `position_index` by 1 in each loop iteration to move to the next job position. This makes sure the loop terminates after checking all positions."
   ]
  },
  {
   "cell_type": "code",
   "execution_count": 3,
   "metadata": {},
   "outputs": [],
   "source": [
    "# Total number of job positions to check\n",
    "total_positions = 3\n",
    "position_index = 0\n",
    "\n",
    "# Minimum years of experience required for each data science job position\n",
    "position_experience_requirements = [1, 3, 2]"
   ]
  },
  {
   "cell_type": "code",
   "execution_count": 4,
   "metadata": {},
   "outputs": [
    {
     "name": "stdout",
     "output_type": "stream",
     "text": [
      "Position requires 1 years of experience.\n",
      "Position requires 3 years of experience.\n",
      "Position requires 2 years of experience.\n"
     ]
    }
   ],
   "source": [
    "while position_index < total_positions:\n",
    "    print('Position requires', position_experience_requirements[position_index], 'years of experience.')\n",
    "    position_index += 1"
   ]
  },
  {
   "cell_type": "markdown",
   "metadata": {},
   "source": [
    "### Practical Example\n",
    "\n",
    "Here's a more complicated example of how you can use `while` loops.\n",
    "\n",
    "We'll add in the `user_years_of_experience`.\n",
    "\n",
    "* Initializes variables to track the user's experience (`user_years_of_experience`), the total number of job positions (`total_positions`), and the current position being checked (`position_index`).\n",
    "* Uses a `while` loop to iterate through each job position's minimum experience requirement (`position_experience_requirements`) as long as `position_index` is less than `total_positions`.\n",
    "* Within the loop, compares `user_years_of_experience` to the requirement for the current position (`required_years`): prints 'Qualified' if the user meets or exceeds the requirement, otherwise prints 'Not qualified'.\n",
    "* Increments (increases) `position_index` by 1 in each loop iteration to move to the next job position. This makes sure the loop terminates after checking all positions."
   ]
  },
  {
   "cell_type": "code",
   "execution_count": 5,
   "metadata": {},
   "outputs": [
    {
     "data": {
      "text/plain": [
       "2"
      ]
     },
     "execution_count": 5,
     "metadata": {},
     "output_type": "execute_result"
    }
   ],
   "source": [
    "# User's years of experience\n",
    "user_years_of_experience = 2\n",
    "\n",
    "user_years_of_experience"
   ]
  },
  {
   "cell_type": "markdown",
   "metadata": {},
   "source": [
    "🪲 **Debugging**\n",
    "\n",
    "**These are intentional mistakes**\n",
    "\n",
    "This is used to demonstrate debugging.\n",
    "\n",
    "Error 1:\n",
    "- Forgot a `:` after the if statement. \n",
    "\n",
    "```python\n",
    "if user_years_of_experience >= required_years\n",
    "```\n",
    "\n",
    "Error 2:\n",
    "- Forgot to indent the statement after `else` keyword.\n",
    "\n",
    "```python\n",
    "'cloud': 'aws'\n",
    "```\n",
    "\n",
    "Steps to Debug:\n",
    "\n",
    "1. Look at the actual error, can you tell what the problem is?\n",
    "2. If not, then look it up:\n",
    "  1. Use a chatbot like ChatGPT or Claude\n",
    "  2. Look it up using Google"
   ]
  },
  {
   "cell_type": "code",
   "execution_count": 6,
   "metadata": {
    "colab": {
     "base_uri": "https://localhost:8080/"
    },
    "executionInfo": {
     "elapsed": 464,
     "status": "ok",
     "timestamp": 1711345788058,
     "user": {
      "displayName": "Kelly Adams",
      "userId": "09437392635559217735"
     },
     "user_tz": 420
    },
    "id": "e-upO3isKFl2",
    "outputId": "614ce290-def4-44b7-8e62-d4c84e449ae2"
   },
   "outputs": [
    {
     "ename": "SyntaxError",
     "evalue": "invalid syntax (126596802.py, line 3)",
     "output_type": "error",
     "traceback": [
      "\u001b[0;36m  Cell \u001b[0;32mIn[6], line 3\u001b[0;36m\u001b[0m\n\u001b[0;31m    if user_years_of_experience >= required_years\u001b[0m\n\u001b[0m                                                 ^\u001b[0m\n\u001b[0;31mSyntaxError\u001b[0m\u001b[0;31m:\u001b[0m invalid syntax\n"
     ]
    }
   ],
   "source": [
    "while position_index < total_positions:\n",
    "    required_years = position_experience_requirements[position_index]\n",
    "    if user_years_of_experience >= required_years\n",
    "        print('Qualified')\n",
    "    else:\n",
    "    print('Not qualified')\n",
    "    position_index += 1"
   ]
  },
  {
   "cell_type": "markdown",
   "metadata": {},
   "source": [
    "This is the correct code ✅. I noticed if you try to rerun this right after this error you will need to re-run the variable cells again."
   ]
  },
  {
   "cell_type": "code",
   "execution_count": 7,
   "metadata": {},
   "outputs": [],
   "source": [
    "while position_index < total_positions:\n",
    "    required_years = position_experience_requirements[position_index]\n",
    "    if user_years_of_experience >= required_years:\n",
    "        print('Qualified')\n",
    "    else:\n",
    "        print('Not qualified')\n",
    "    position_index += 1"
   ]
  },
  {
   "cell_type": "markdown",
   "metadata": {
    "id": "qYr6sfH9xsgE"
   },
   "source": [
    "## For\n",
    "\n",
    "### Notes\n",
    "\n",
    "* A `for` loop iterates over a sequence (e.g. list, tuple, dictionary, set, or string).\n",
    "* Execute a set of statements, one for each item in a list, tuple, set, etc.\n",
    "\n",
    "### Example\n",
    "\n",
    "This loop checks the user's qualification for each position based on their years of experience and returns the result.\n",
    "\n",
    "We're using the same variable as before: `position_experience_requirements`.\n",
    "\n",
    "* A `for` loop iterates (goes through) through each item in the position_experience_requirements list.\n",
    "* Inside the loop it prints the years of experience required for the position."
   ]
  },
  {
   "cell_type": "code",
   "execution_count": 8,
   "metadata": {},
   "outputs": [
    {
     "name": "stdout",
     "output_type": "stream",
     "text": [
      "Position requires 1 years of experience.\n",
      "Position requires 3 years of experience.\n",
      "Position requires 2 years of experience.\n"
     ]
    }
   ],
   "source": [
    "for x in position_experience_requirements:\n",
    "    print(f'Position requires {x} years of experience.')"
   ]
  },
  {
   "cell_type": "markdown",
   "metadata": {},
   "source": [
    "### Enumerate \n",
    "\n",
    "#### Notes\n",
    "\n",
    "* Primary used in loops, especially in `for` loops. \n",
    "* Good for when you need the index of an iterable object for operations like:\n",
    "    * updating the elements based on their position\n",
    "    * comparing items at different positions\n",
    "    * displaying the position along with the item\n",
    "* Syntax: `enumerate(iterable, start = 0)`\n",
    "\n",
    "#### Example\n",
    "\n",
    "Instead of simply iterating over the list with `x in list` to get the years of experience required for each position, we can use `enumerate` to get both the index (which represents the position number) and the years of experience from `position_experience_requirements`. \n",
    "\n",
    "We'll also use f-strings to format our string."
   ]
  },
  {
   "cell_type": "code",
   "execution_count": 9,
   "metadata": {},
   "outputs": [
    {
     "name": "stdout",
     "output_type": "stream",
     "text": [
      "Position 1 requires 1 years of experience.\n",
      "Position 2 requires 3 years of experience.\n",
      "Position 3 requires 2 years of experience.\n"
     ]
    }
   ],
   "source": [
    "# Enhanced example using enumerate to include the position index\n",
    "for index, years in enumerate(position_experience_requirements, start=1):\n",
    "    print(f'Position {index} requires {years} years of experience.')"
   ]
  },
  {
   "cell_type": "markdown",
   "metadata": {},
   "source": [
    "### Pass\n",
    "\n",
    "#### Notes\n",
    "\n",
    "* `pass` is used when a `for` has nothing in it, so it avoids and error\n",
    "\n",
    "#### Example\n",
    "\n",
    "Below we updated our example and added `pass` in it."
   ]
  },
  {
   "cell_type": "code",
   "execution_count": 10,
   "metadata": {},
   "outputs": [],
   "source": [
    "for x in position_experience_requirements:\n",
    "    pass"
   ]
  },
  {
   "cell_type": "markdown",
   "metadata": {},
   "source": [
    "### Nested Loops\n",
    "\n",
    "You can also have a loop inside another loop. Below we're going through two lists."
   ]
  },
  {
   "cell_type": "code",
   "execution_count": 11,
   "metadata": {},
   "outputs": [
    {
     "name": "stdout",
     "output_type": "stream",
     "text": [
      "For the role of Data Scientist, you need experience in:\n",
      "  - Python\n",
      "  - SQL\n",
      "  - Machine Learning\n",
      "For the role of Machine Learning Engineer, you need experience in:\n",
      "  - Python\n",
      "  - SQL\n",
      "  - Machine Learning\n"
     ]
    }
   ],
   "source": [
    "roles = ['Data Scientist', 'Machine Learning Engineer']\n",
    "skills = ['Python', 'SQL', 'Machine Learning']\n",
    "\n",
    "for role in roles:\n",
    "    print(f'For the role of {role}, you need experience in:')\n",
    "    for skill in skills:\n",
    "        print(f'  - {skill}')"
   ]
  },
  {
   "cell_type": "markdown",
   "metadata": {},
   "source": [
    "### Practical Example\n",
    "\n",
    "Here's a more complicated example of how you can use `for` loops.\n",
    "\n",
    "This loop checks the user's qualification for each position based on their years of experience and returns the result.\n",
    "\n",
    "* The code defines a list named position_experience_requirements with integers representing the minimum years of experience required for various data science job positions.\n",
    "* It sets a variable `user_years_of_experience` to 2.\n",
    "* A for loop iterates (goes through) through each item in the position_experience_requirements list.\n",
    "* Inside the loop, an if statement checks if user_experience is greater than or equal to required_experience for a position.\n",
    "* If the condition is met, it prints 'Qualified'; otherwise, it prints 'Not qualified'."
   ]
  },
  {
   "cell_type": "code",
   "execution_count": 12,
   "metadata": {
    "colab": {
     "base_uri": "https://localhost:8080/"
    },
    "executionInfo": {
     "elapsed": 253,
     "status": "ok",
     "timestamp": 1711426315391,
     "user": {
      "displayName": "Kelly Adams",
      "userId": "09437392635559217735"
     },
     "user_tz": 420
    },
    "id": "323cMKuYxhMN",
    "outputId": "c8a4db81-3904-4943-e50b-95137bb78feb"
   },
   "outputs": [
    {
     "name": "stdout",
     "output_type": "stream",
     "text": [
      "Qualified\n",
      "Not qualified\n",
      "Qualified\n"
     ]
    }
   ],
   "source": [
    "# For loop to check qualification for each job\n",
    "for required_experience in position_experience_requirements:\n",
    "    if user_years_of_experience >= required_experience:\n",
    "        print('Qualified')\n",
    "    else:\n",
    "        print('Not qualified')"
   ]
  },
  {
   "cell_type": "markdown",
   "metadata": {},
   "source": [
    "### Break\n",
    "\n",
    "The `break` statement can stop the loop before it's looped through all of the items. Here the break exits the loop early if the condition is met (aka if the users experience is greater than or equal to the required experience). "
   ]
  },
  {
   "cell_type": "code",
   "execution_count": 13,
   "metadata": {},
   "outputs": [],
   "source": [
    "# For loop to check qualification for each job\n",
    "for required_experience in position_experience_requirements:\n",
    "    if user_years_of_experience >= required_experience:\n",
    "        break\n",
    "    else:\n",
    "        print('Not qualified')"
   ]
  },
  {
   "cell_type": "markdown",
   "metadata": {},
   "source": [
    "What if you didn't have a specific list to run through? And instead want to just go through a specific number of times? Then you'd use `range()`."
   ]
  },
  {
   "cell_type": "markdown",
   "metadata": {},
   "source": [
    "### Example #2\n",
    "\n",
    "Problem: Make a list of job titles containing \"Data Analyst\"."
   ]
  },
  {
   "cell_type": "markdown",
   "metadata": {},
   "source": [
    "The following Code block is only to import the data.\n",
    "\n",
    "This includes concepts we haven't covered yet; so just ignore it for now."
   ]
  },
  {
   "cell_type": "code",
   "execution_count": 17,
   "metadata": {},
   "outputs": [
    {
     "data": {
      "text/plain": [
       "['Data Analytics',\n",
       " 'Data Scientist Intern',\n",
       " 'Manager, Data Analytics',\n",
       " 'Data Engineer',\n",
       " 'Technical Data Analyst',\n",
       " 'Data Engineer',\n",
       " 'Research Data Scientist - Now Hiring',\n",
       " 'Diversity and Inclusion Workforce Data Scientist with Security...',\n",
       " 'Data Scientist',\n",
       " 'Big Data Senior Work']"
      ]
     },
     "execution_count": 17,
     "metadata": {},
     "output_type": "execute_result"
    }
   ],
   "source": [
    "from datasets import load_dataset\n",
    "\n",
    "# Load the dataset\n",
    "dataset = load_dataset('lukebarousse/data_jobs')\n",
    "df = dataset['train'].to_pandas()\n",
    "\n",
    "# Create a list of job titles from the dataset\n",
    "job_list = df['job_title'].tolist()\n",
    "\n",
    "# Remove any non-string values from the list\n",
    "job_list = [job for job in job_list if isinstance(job, str)]\n",
    "\n",
    "# Display the first 10 job titles\n",
    "job_list[:10]"
   ]
  },
  {
   "cell_type": "code",
   "execution_count": 18,
   "metadata": {},
   "outputs": [
    {
     "data": {
      "text/plain": [
       "['Technical Data Analyst',\n",
       " 'Sr. Data Analyst - Full-time / Part-time',\n",
       " 'Data Analyst',\n",
       " 'Data Analyst',\n",
       " 'Data Analyst Junior settore Logistica',\n",
       " 'Senior Data Analyst - Now Hiring',\n",
       " 'Health Technology Data Analyst',\n",
       " 'Data Analyst',\n",
       " 'Love Excel? Junior Data Analyst for Real Estate',\n",
       " 'Data Analyst']"
      ]
     },
     "execution_count": 18,
     "metadata": {},
     "output_type": "execute_result"
    }
   ],
   "source": [
    "# Create an empty list to store the job titles that contain \"Data Analyst\"\n",
    "analyst_list = []\n",
    "\n",
    "# Loop through the job titles and add any that contain \"Data Analyst\" to the analyst_list\n",
    "for job in job_list:\n",
    "  if \"Data Analyst\" in job:\n",
    "    analyst_list.append(job)\n",
    "\n",
    "# Display the job titles that contain \"Data Analyst\"\n",
    "analyst_list[:10]"
   ]
  },
  {
   "cell_type": "markdown",
   "metadata": {},
   "source": [
    "## `range()` function\n",
    "\n",
    "#### Notes\n",
    "\n",
    "* `range()` runs a `for` loop a specific number of times\n",
    "* It returns a sequence of numbers, starting from 0 be default, and increments by 1 (by default), and ends at the specified number\n",
    "\n",
    "#### Examples\n",
    "\n",
    "First we'll print numbers from 0 to 3 since `range(4)` goes from 0 to 4 (not including 4)."
   ]
  },
  {
   "cell_type": "code",
   "execution_count": 14,
   "metadata": {},
   "outputs": [
    {
     "name": "stdout",
     "output_type": "stream",
     "text": [
      "0\n",
      "1\n",
      "2\n",
      "3\n"
     ]
    }
   ],
   "source": [
    "for x in range(4):\n",
    "    print(x)"
   ]
  },
  {
   "cell_type": "markdown",
   "metadata": {},
   "source": [
    "Here you can specify the starting value. This will start at 1 and go till 5 (since it doesn't include 6)."
   ]
  },
  {
   "cell_type": "code",
   "execution_count": 15,
   "metadata": {},
   "outputs": [
    {
     "name": "stdout",
     "output_type": "stream",
     "text": [
      "1\n",
      "2\n",
      "3\n",
      "4\n",
      "5\n"
     ]
    }
   ],
   "source": [
    "for x in range(1,6):\n",
    "    print(x)"
   ]
  }
 ],
 "metadata": {
  "colab": {
   "provenance": []
  },
  "kernelspec": {
   "display_name": "Python 3",
   "name": "python3"
  },
  "language_info": {
   "codemirror_mode": {
    "name": "ipython",
    "version": 3
   },
   "file_extension": ".py",
   "mimetype": "text/x-python",
   "name": "python",
   "nbconvert_exporter": "python",
   "pygments_lexer": "ipython3",
   "version": "3.9.19"
  }
 },
 "nbformat": 4,
 "nbformat_minor": 0
}
