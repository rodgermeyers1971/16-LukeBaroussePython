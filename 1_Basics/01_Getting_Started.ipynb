{
 "cells": [
  {
   "cell_type": "markdown",
   "id": "cb4a47b9",
   "metadata": {},
   "source": [
    "<a target=\"_blank\" href=\"https://colab.research.google.com/github/lukebarousse/Python_Data_Analytics_Course/blob/main/1_Basics/01_Getting_Started.ipynb\">\n",
    "  <img src=\"https://colab.research.google.com/assets/colab-badge.svg\" alt=\"Open In Colab\"/>\n",
    "</a>"
   ]
  },
  {
   "cell_type": "markdown",
   "metadata": {
    "id": "KtHs7Rb9lDC0"
   },
   "source": [
    "# Getting Started w/ Jupyter Notebooks in Colab\n",
    "\n",
    "## Options create a Colab Notebook:\n",
    "- Go to [colab.research.google.com](https://colab.research.google.com)\n",
    "- Or in [drive.google.com](https://drive.google.com)\n",
    "  - Select \"+ New\" in top right hand corner\n",
    "  - Select \"More\" and then \"Google Colaboratory\"\n",
    "\n",
    "**NOTE:** For both options you must be logged in to Google"
   ]
  },
  {
   "cell_type": "markdown",
   "metadata": {
    "id": "VBXhTX4cV-w0"
   },
   "source": [
    "## Adding and moving cells\n",
    "\n",
    "Add new cells by using the **+ CODE** and **+ TEXT** buttons that show when you hover between cells.\n",
    "\n",
    "You can move a cell by selecting it and clicking **Cell Up** or **Cell Down** in the top toolbar."
   ]
  },
  {
   "cell_type": "markdown",
   "metadata": {
    "id": "oYRz_DkflDC2"
   },
   "source": [
    "## Markdown Cell vs. Python Cell"
   ]
  },
  {
   "cell_type": "markdown",
   "metadata": {
    "id": "YtHqbPyVlDC2"
   },
   "source": [
    "#### Markdown Example\n",
    "This is a markdown cell."
   ]
  },
  {
   "cell_type": "markdown",
   "metadata": {
    "id": "RDvcZiK3YxBI"
   },
   "source": [
    "\n",
    "#### Python Example"
   ]
  },
  {
   "cell_type": "code",
   "execution_count": 2,
   "metadata": {
    "colab": {
     "base_uri": "https://localhost:8080/",
     "height": 35
    },
    "id": "NzpvOnLglDC2",
    "outputId": "30094308-dea4-4c0d-b88d-00502d1b0b24"
   },
   "outputs": [
    {
     "data": {
      "application/vnd.google.colaboratory.intrinsic+json": {
       "type": "string"
      },
      "text/plain": [
       "'This is a python cell'"
      ]
     },
     "execution_count": 2,
     "metadata": {},
     "output_type": "execute_result"
    }
   ],
   "source": [
    "\"This is a python cell\""
   ]
  },
  {
   "cell_type": "markdown",
   "metadata": {
    "id": "E8vANqitlDC1"
   },
   "source": [
    "## How to Run a Cell\n",
    "\n",
    "*Easy Way:* Click the run button.\n",
    "\n",
    "*Pro Way:* With cell selected type **Cmd/Ctrl+Enter**. \n",
    "\n",
    "*Other Pro Tips:*\n",
    "* Type **Shift+Enter** to run the cell and move selection to the next cell\n",
    "* Type **Alt+Enter** to run the cell and insert a new code cell below it\n"
   ]
  },
  {
   "cell_type": "code",
   "execution_count": 1,
   "metadata": {
    "colab": {
     "base_uri": "https://localhost:8080/"
    },
    "id": "VUu7zqeslDC1",
    "outputId": "89a709a6-f825-4a13-89d7-e9e54ae99662"
   },
   "outputs": [
    {
     "data": {
      "text/plain": [
       "4"
      ]
     },
     "execution_count": 1,
     "metadata": {},
     "output_type": "execute_result"
    }
   ],
   "source": [
    "2 + 2"
   ]
  },
  {
   "cell_type": "markdown",
   "metadata": {
    "id": "en-IAd0ylDC2"
   },
   "source": [
    "## Python Basics\n",
    "\n",
    "Cells print out below it it's results."
   ]
  },
  {
   "cell_type": "code",
   "execution_count": 3,
   "metadata": {
    "colab": {
     "base_uri": "https://localhost:8080/"
    },
    "id": "L3_veGbZfGMq",
    "outputId": "55a50930-74fc-4e9b-8a95-d45cf99b2390"
   },
   "outputs": [
    {
     "data": {
      "text/plain": [
       "4"
      ]
     },
     "execution_count": 3,
     "metadata": {},
     "output_type": "execute_result"
    }
   ],
   "source": [
    "2 + 2"
   ]
  },
  {
   "cell_type": "markdown",
   "metadata": {
    "id": "kMfjQfxYfoPI"
   },
   "source": [
    "If you have multiple lines only the last line will show."
   ]
  },
  {
   "cell_type": "code",
   "execution_count": 4,
   "metadata": {
    "colab": {
     "base_uri": "https://localhost:8080/"
    },
    "id": "TDYU5xKafRMD",
    "outputId": "9939e8fb-788a-447e-d921-a2582f9bbf7e"
   },
   "outputs": [
    {
     "data": {
      "text/plain": [
       "9"
      ]
     },
     "execution_count": 4,
     "metadata": {},
     "output_type": "execute_result"
    }
   ],
   "source": [
    "2 + 2\n",
    "3 * 3"
   ]
  },
  {
   "cell_type": "markdown",
   "metadata": {
    "id": "kIva8-Tsf48e"
   },
   "source": [
    "The `print()` function outputs the specified message to the console, allowing you to display text, variables, or the results of expressions.\n",
    "- Note: We'll cover functions (e.g., `sum()`, `max()`) in an upcoming lesson, but understand that this is one of many Python functions to perform common tasks."
   ]
  },
  {
   "cell_type": "code",
   "execution_count": 5,
   "metadata": {
    "colab": {
     "base_uri": "https://localhost:8080/"
    },
    "id": "Dn_qjN6Gf4ex",
    "outputId": "489d2ddd-20ed-4411-9e00-fa7a18c3f90f"
   },
   "outputs": [
    {
     "name": "stdout",
     "output_type": "stream",
     "text": [
      "What's Up, Data Nerds\n",
      "4\n",
      "9\n"
     ]
    }
   ],
   "source": [
    "print(\"What's Up, Data Nerds\")\n",
    "print(2 + 2)\n",
    "print(3 * 3)"
   ]
  },
  {
   "cell_type": "markdown",
   "metadata": {
    "id": "3GILAGL6ggFh"
   },
   "source": [
    "Technically, I could remove that last print function."
   ]
  },
  {
   "cell_type": "code",
   "execution_count": 6,
   "metadata": {
    "colab": {
     "base_uri": "https://localhost:8080/"
    },
    "id": "7xbuLdyulDC2",
    "outputId": "8b12f675-505c-41c8-f999-4162cf6d17c7"
   },
   "outputs": [
    {
     "name": "stdout",
     "output_type": "stream",
     "text": [
      "What's Up, Data Nerds\n",
      "4\n"
     ]
    },
    {
     "data": {
      "text/plain": [
       "9"
      ]
     },
     "execution_count": 6,
     "metadata": {},
     "output_type": "execute_result"
    }
   ],
   "source": [
    "print(\"What's Up, Data Nerds\")\n",
    "print(2 + 2)\n",
    "3 * 3"
   ]
  },
  {
   "cell_type": "markdown",
   "metadata": {
    "id": "dJM08h3VlDC2"
   },
   "source": [
    "#### Make a Comment\n",
    "\n",
    "What if you wanted to include something in your code like a note?  \n",
    "- Include a `#` before the line\n",
    "- This is called a comment\n",
    "\n",
    "That doesn't execute anything and isn't read by the Python interpreter when executing your code."
   ]
  },
  {
   "cell_type": "code",
   "execution_count": 7,
   "metadata": {
    "id": "CX_UXTDilDC3"
   },
   "outputs": [],
   "source": [
    "# This is a comment. Nothing to the right of the \"#\" sign will be interpreted"
   ]
  },
  {
   "cell_type": "code",
   "execution_count": 8,
   "metadata": {
    "colab": {
     "base_uri": "https://localhost:8080/"
    },
    "id": "K9slvGiQgxUs",
    "outputId": "65f34568-6c38-407d-df12-3b81a28c3621"
   },
   "outputs": [
    {
     "name": "stdout",
     "output_type": "stream",
     "text": [
      "What's Up, Data Nerds\n",
      "4\n"
     ]
    },
    {
     "data": {
      "text/plain": [
       "9"
      ]
     },
     "execution_count": 8,
     "metadata": {},
     "output_type": "execute_result"
    }
   ],
   "source": [
    "# This is a comment\n",
    "\n",
    "print(\"What's Up, Data Nerds\")\n",
    "print(2 + 2) # This is a comment also\n",
    "3 * 3"
   ]
  },
  {
   "cell_type": "markdown",
   "metadata": {
    "id": "5Dh7ROpkY0js"
   },
   "source": [
    "## Markdown Basics\n",
    "\n",
    "Markdown is a lightweight markup language that uses characters like # for headings and * for emphasis to format text simply and intuitively."
   ]
  },
  {
   "cell_type": "markdown",
   "metadata": {
    "id": "tlt-IiEoXL7K"
   },
   "source": [
    "| Element        | Markdown Syntax                        |\n",
    "|----------------|----------------------------------------|\n",
    "| Heading        | `# H1`<br>`## H2`<br>`### H3`          |\n",
    "| Bold           | `**bold text**`                        |\n",
    "| Italic         | `*italicized text*`                    |\n",
    "| Blockquote     | `> blockquote`                         |\n",
    "| Ordered List   | `1. First item`<br>`2. Second item`<br>`3. Third item` |\n",
    "| Unordered List | `- First item`<br>`- Second item`<br>`- Third item`   |\n",
    "| Code           | `` `code` ``                           |\n",
    "| Horizontal Rule| `---`                                  |\n",
    "| Link           | `[title](https://www.example.com)`     |\n",
    "| Image          | `![alt text](image.jpg)`               |\n",
    "\n",
    "[Here is a more info on Markdown](https://www.markdownguide.org/basic-syntax/)"
   ]
  },
  {
   "cell_type": "markdown",
   "metadata": {
    "id": "IucEjsFfhgmY"
   },
   "source": [
    "## Colab Walkthrough\n",
    "\n",
    "#### Sidebar Menu (Left-Top)\n",
    "- Table of Contents\n",
    "- Find and Replace\n",
    "- Variables\n",
    "- Secrets\n",
    "- Files\n",
    "\n",
    "#### Sidebar Menu (Left-Bottom)\n",
    "- Code snippets\n",
    "- Command pallette\n",
    "- Terminal\n",
    "\n",
    "#### Top Menu Bar\n",
    "- Runtime: Controls running cells and restarting notebook\n",
    "\n",
    "#### Colab Header (Top)\n",
    "- RAM & Disk Usage\n",
    "- Colab AI (may or may not have)"
   ]
  },
  {
   "cell_type": "markdown",
   "metadata": {
    "id": "95YKvLs_m-ML"
   },
   "source": [
    "### Runtime Deep Dive\n",
    "\n",
    "**Run All:**\n",
    "- ⚙️ Executes all notebook cells in sequence  \n",
    "\n",
    "**Interrupt Execution:**\n",
    "- 🛑 Stops the execution of the current cell  \n",
    "\n",
    "**Restart Session:**\n",
    "- 🔄 Resets the notebook's kernel, clearing all the executed code memory  \n",
    "- ✨ No code execution afterward unless manually triggered  \n",
    "\n",
    "**Disconnect and Delete Runtime:**\n",
    "- ❌ Stops the notebook, releases resources, and deletes any temporary files created during the session"
   ]
  },
  {
   "cell_type": "markdown",
   "metadata": {
    "id": "2bxBnWjmmAND"
   },
   "source": [
    "## Advanced Jupyter Notebook Usage\n",
    "\n",
    "Don't worry if you don't understand this right now as we'll cover more later.\n",
    "\n",
    "Just be aware that starting a line with any of the following symbols has magic properties.\n",
    "\n",
    "| Symbol | Name           | Example            | Usage Explanation                                                                 |\n",
    "|--------|----------------|--------------------|-----------------------------------------------------------------------------------|\n",
    "| `!`    | Shell Command  | `!ls`              | Executes shell commands directly from the notebook cell, such as listing files.   |\n",
    "| `%`    | Line Magic     | `%cd sample_data`     | Executes a line magic command, affecting only the line it is on, like changing directories. |\n",
    "| `%%`   | Cell Magic     | `%%writefile test.txt` | Applies the magic command to the entire cell, such as writing the cell's content to a file. |\n"
   ]
  },
  {
   "cell_type": "code",
   "execution_count": 9,
   "metadata": {
    "colab": {
     "base_uri": "https://localhost:8080/"
    },
    "id": "OSsLjn-1hj3L",
    "outputId": "3fcf7176-2e78-4662-d57f-00986b0eaefe"
   },
   "outputs": [
    {
     "name": "stdout",
     "output_type": "stream",
     "text": [
      "sample_data\n"
     ]
    }
   ],
   "source": [
    "!ls"
   ]
  },
  {
   "cell_type": "code",
   "execution_count": 12,
   "metadata": {
    "colab": {
     "base_uri": "https://localhost:8080/"
    },
    "id": "e7Ehl7eciGM3",
    "outputId": "d30ad0d5-263d-4937-f26d-aa31779f32a0"
   },
   "outputs": [
    {
     "name": "stdout",
     "output_type": "stream",
     "text": [
      "/content/sample_data\n"
     ]
    }
   ],
   "source": [
    "%cd sample_data"
   ]
  },
  {
   "cell_type": "code",
   "execution_count": 11,
   "metadata": {
    "colab": {
     "base_uri": "https://localhost:8080/"
    },
    "id": "loAsvZGpiKgc",
    "outputId": "adb13b80-7f34-4f0f-989e-79a3c615ee6e"
   },
   "outputs": [
    {
     "name": "stdout",
     "output_type": "stream",
     "text": [
      "Writing test.txt\n"
     ]
    }
   ],
   "source": [
    "%%writefile test.txt"
   ]
  }
 ],
 "metadata": {
  "colab": {
   "provenance": []
  },
  "kernelspec": {
   "display_name": "venv3",
   "language": "python",
   "name": "python3"
  },
  "language_info": {
   "codemirror_mode": {
    "name": "ipython",
    "version": 3
   },
   "file_extension": ".py",
   "mimetype": "text/x-python",
   "name": "python",
   "nbconvert_exporter": "python",
   "pygments_lexer": "ipython3",
   "version": "3.11.9"
  }
 },
 "nbformat": 4,
 "nbformat_minor": 0
}
