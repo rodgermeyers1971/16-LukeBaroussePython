{
 "cells": [
  {
   "cell_type": "markdown",
   "id": "490bbd7e",
   "metadata": {},
   "source": [
    "<a target=\"_blank\" href=\"https://colab.research.google.com/github/lukebarousse/Python_Data_Analytics_Course/blob/main/1_Basics/21_Classes.ipynb\">\n",
    "  <img src=\"https://colab.research.google.com/assets/colab-badge.svg\" alt=\"Open In Colab\"/>\n",
    "</a>"
   ]
  },
  {
   "cell_type": "markdown",
   "metadata": {
    "id": "qhAlNWJzG0S3"
   },
   "source": [
    "# Classes"
   ]
  },
  {
   "cell_type": "markdown",
   "metadata": {
    "id": "hlM3qG9UOHOT"
   },
   "source": [
    "## Python Objects\n",
    "\n",
    "### Notes\n",
    "\n",
    "* Python is an object oriented programming language.\n",
    "* Almost everything is an object, with properties and methods.\n",
    "* A **class** is like an object constructor.\n",
    "\n",
    "In our course we'll briefly go over classes, but it won't be covered in detail."
   ]
  },
  {
   "cell_type": "markdown",
   "metadata": {},
   "source": [
    "## Importance\n",
    "\n",
    "Classes are the basis for Object-Oriented Programming in Python. While not directly used in pandas or matplotlib operations, understanding them is vital for extending these libraries or customizing functionalities."
   ]
  },
  {
   "cell_type": "markdown",
   "metadata": {},
   "source": [
    "## Simple Example \n",
    "\n",
    "### Create Class\n",
    "\n",
    "We're creating a class called `LukesList`, don't worry about the code following that.\n",
    "- Ths class operates very similiar to a `list` object"
   ]
  },
  {
   "cell_type": "code",
   "execution_count": 1,
   "metadata": {},
   "outputs": [],
   "source": [
    "class LukesList:\n",
    "    def __init__(self):\n",
    "        \"\"\"Initialize an empty list.\"\"\"\n",
    "        self._items = []\n",
    "\n",
    "    def add(self, item):\n",
    "        \"\"\"Add an item to the end of the list.\"\"\"\n",
    "        self._items.append(item)\n",
    "\n",
    "    def __getitem__(self, index):\n",
    "        \"\"\"Retrieve an item by index.\"\"\"\n",
    "        return self._items[index]\n",
    "\n",
    "    def __setitem__(self, index, value):\n",
    "        \"\"\"Set an item at a specific index.\"\"\"\n",
    "        self._items[index] = value\n",
    "\n",
    "    def __repr__(self):\n",
    "        \"\"\"Return a string representation of the list.\"\"\"\n",
    "        return str(self._items)\n",
    "\n",
    "    def __len__(self):\n",
    "        \"\"\"Return the length of the list.\"\"\"\n",
    "        return len(self._items)"
   ]
  },
  {
   "cell_type": "markdown",
   "metadata": {
    "id": "ms9dnKE2OZ1J"
   },
   "source": [
    "### Create Instance\n",
    "\n",
    "#### Notes\n",
    "\n",
    "* We can use the class to create objects to create an instance of it by calling: `LukesList()`"
   ]
  },
  {
   "cell_type": "code",
   "execution_count": 1,
   "metadata": {},
   "outputs": [
    {
     "ename": "NameError",
     "evalue": "name 'LukesList' is not defined",
     "output_type": "error",
     "traceback": [
      "\u001b[1;31m---------------------------------------------------------------------------\u001b[0m",
      "\u001b[1;31mNameError\u001b[0m                                 Traceback (most recent call last)",
      "Cell \u001b[1;32mIn[1], line 1\u001b[0m\n\u001b[1;32m----> 1\u001b[0m my_list \u001b[38;5;241m=\u001b[39m \u001b[43mLukesList\u001b[49m()\n\u001b[0;32m      3\u001b[0m my_list\n",
      "\u001b[1;31mNameError\u001b[0m: name 'LukesList' is not defined"
     ]
    }
   ],
   "source": [
    "my_list = LukesList()\n",
    "\n",
    "my_list"
   ]
  },
  {
   "cell_type": "markdown",
   "metadata": {},
   "source": [
    "### Manipulate Instance\n",
    "\n",
    "We can add to the list by using the `.add()` method."
   ]
  },
  {
   "cell_type": "code",
   "execution_count": 3,
   "metadata": {},
   "outputs": [
    {
     "data": {
      "text/plain": [
       "['Data Nerd', 'Finance Nerd']"
      ]
     },
     "execution_count": 3,
     "metadata": {},
     "output_type": "execute_result"
    }
   ],
   "source": [
    "my_list.add(\"Data Nerd\")\n",
    "my_list.add(\"Finance Nerd\")\n",
    "\n",
    "my_list"
   ]
  },
  {
   "cell_type": "markdown",
   "metadata": {},
   "source": [
    "We can even use functions like `len()` on it:"
   ]
  },
  {
   "cell_type": "code",
   "execution_count": 4,
   "metadata": {},
   "outputs": [
    {
     "data": {
      "text/plain": [
       "2"
      ]
     },
     "execution_count": 4,
     "metadata": {},
     "output_type": "execute_result"
    }
   ],
   "source": [
    "len(my_list)"
   ]
  },
  {
   "cell_type": "markdown",
   "metadata": {},
   "source": [
    "## Practical Example\n",
    "\n",
    "### Demonstration\n",
    "\n",
    "Recall back that we had built functions to automate calculating things about a salary."
   ]
  },
  {
   "cell_type": "code",
   "execution_count": 5,
   "metadata": {},
   "outputs": [],
   "source": [
    "def calculate_salary(base_salary, bonus_rate=.1):\n",
    "  \"\"\"\n",
    "  Calculate the total salary based on the base salary and bonus rate.\n",
    "\n",
    "  Args:\n",
    "    base_salary (float): The base salary.\n",
    "    bonus_rate (float): The bonus rate. Default is .1.\n",
    "  \n",
    "  Returns:\n",
    "    float: The total salary.\n",
    "  \"\"\"\n",
    "  return base_salary * (1 + bonus_rate)\n",
    "\n",
    "def calculate_bonus(total_salary, base_salary):\n",
    "  \"\"\"\n",
    "  Calculate the bonus rate based on the total salary and base salary.\n",
    "\n",
    "  Args:\n",
    "    total_salary (float): The total salary.\n",
    "    base_salary (float): The base salary.\n",
    "\n",
    "  Returns:\n",
    "    float: The bonus rate.\n",
    "  \"\"\" \n",
    "  return (total_salary - base_salary) / base_salary"
   ]
  },
  {
   "cell_type": "markdown",
   "metadata": {},
   "source": [
    "Well we can make this into a class."
   ]
  },
  {
   "cell_type": "code",
   "execution_count": 6,
   "metadata": {},
   "outputs": [],
   "source": [
    "class BaseSalary:\n",
    "  def __init__(self, base_salary, bonus_rate=0.1, symbol=\"$\"):\n",
    "    self.base_salary = base_salary\n",
    "    self.bonus_rate = bonus_rate\n",
    "    self.symbol = symbol\n",
    "    self.total_salary = base_salary * (1 + bonus_rate)\n",
    "    self.bonus = self.total_salary - self.base_salary\n",
    "\n",
    "  def __repr__(self):\n",
    "    return f'{self.symbol}{self.base_salary:,.0f}'\n",
    "\n",
    "  def show_salary(self):\n",
    "    return f'{self.symbol}{self.total_salary:,.0f}'\n",
    "\n",
    "  def show_bonus(self):\n",
    "    return f'{self.symbol}{self.bonus:,.0f}'"
   ]
  },
  {
   "cell_type": "markdown",
   "metadata": {},
   "source": [
    "We can have it print out the salary formatted correctly."
   ]
  },
  {
   "cell_type": "code",
   "execution_count": 8,
   "metadata": {},
   "outputs": [
    {
     "data": {
      "text/plain": [
       "$100,000"
      ]
     },
     "execution_count": 8,
     "metadata": {},
     "output_type": "execute_result"
    }
   ],
   "source": [
    "salary = BaseSalary(100000)\n",
    "\n",
    "salary"
   ]
  },
  {
   "cell_type": "markdown",
   "metadata": {},
   "source": [
    "Along with things like calculating the total salary:"
   ]
  },
  {
   "cell_type": "code",
   "execution_count": 10,
   "metadata": {},
   "outputs": [
    {
     "data": {
      "text/plain": [
       "'$110,000'"
      ]
     },
     "execution_count": 10,
     "metadata": {},
     "output_type": "execute_result"
    }
   ],
   "source": [
    "salary.show_salary()"
   ]
  },
  {
   "cell_type": "markdown",
   "metadata": {
    "id": "rkjVQ9A-OXn1"
   },
   "source": [
    "## `__init__()` function\n",
    "\n",
    "### Notes\n",
    "\n",
    "* All classes have a function called `__init__()`, it's always executed when a class is being initiated.\n",
    "* Use the `__init__()` function to assign values to object properties, or other operations that are necessary when the object is created.\n",
    "\n",
    "\n",
    "### Example \n",
    "\n",
    "Create a class named `DataScienceJobList`, use the `__init__()` function to assign values for `jobs`."
   ]
  },
  {
   "cell_type": "code",
   "execution_count": 35,
   "metadata": {},
   "outputs": [],
   "source": [
    "class DataScienceJobsList:\n",
    "    def __init__(self, jobs):\n",
    "        self.jobs = jobs"
   ]
  },
  {
   "cell_type": "markdown",
   "metadata": {},
   "source": [
    "Example of how to use this class: we'll create a list of data science jobs called `data_science_jobs`."
   ]
  },
  {
   "cell_type": "code",
   "execution_count": 36,
   "metadata": {},
   "outputs": [],
   "source": [
    "data_science_jobs = [\n",
    "    {'job_title': 'Data Scientist', 'job_skills': \"Python, SQL, Machine Learning\"},\n",
    "    {'job_title': 'Data Analyst', 'job_skills': \"SQL, Excel, Python\"},\n",
    "    {'job_title': 'Machine Learning Engineer', 'job_skills': \"Python, TensorFlow, Keras\"}\n",
    "]"
   ]
  },
  {
   "cell_type": "markdown",
   "metadata": {},
   "source": [
    "Then we will assign this class to an object called `jobs_list` and return `jobs_list`."
   ]
  },
  {
   "cell_type": "code",
   "execution_count": 37,
   "metadata": {},
   "outputs": [
    {
     "data": {
      "text/plain": [
       "<__main__.DataScienceJobsList at 0x1fab8c9d590>"
      ]
     },
     "execution_count": 37,
     "metadata": {},
     "output_type": "execute_result"
    }
   ],
   "source": [
    "jobs_list = DataScienceJobsList(data_science_jobs)\n",
    "jobs_list"
   ]
  },
  {
   "cell_type": "markdown",
   "metadata": {},
   "source": [
    "Okay if we try to print or call this object it just displays: `<__main__.DataScienceJobsList at 0x1fab8c6b190>` which isn't very useful. So we'll use a function called `__str__()` to output something better."
   ]
  },
  {
   "cell_type": "markdown",
   "metadata": {},
   "source": [
    "## `__str__()` function\n",
    "\n",
    "### Notes\n",
    "\n",
    "* `__str__()` function shows what should be returned when the class object is represented as a string. \n",
    "* If it's not set, the string representation of the object is returned (like it is in the example above). \n",
    "\n",
    "### Example \n",
    "\n",
    "Create a class named `DataScienceJobList`, that has:\n",
    "* What we did before: \n",
    "    * The `__init__()` function to assign values for `jobs` (what we created in the last example).\n",
    "* Now: \n",
    "    * A `__str__()` function to print out the data science jobs.\n",
    "\n",
    "Note: Each time we create/add a new method, we have to redefine the whole class in another cell."
   ]
  },
  {
   "cell_type": "code",
   "execution_count": 38,
   "metadata": {},
   "outputs": [],
   "source": [
    "class DataScienceJobsList:\n",
    "    def __init__(self, jobs):\n",
    "        '''\n",
    "        Initializes the DataScienceJobsList object with a list of jobs.\n",
    "        '''\n",
    "        self.jobs = jobs\n",
    "        \n",
    "    def __str__(self):\n",
    "        '''\n",
    "        Returns a string representation of the data science jobs list.\n",
    "        '''\n",
    "        jobs_str = 'Data Science Jobs:\\n'\n",
    "        for job in self.jobs:\n",
    "            # Assuming job_skills is initially a string; it will be split later\n",
    "            jobs_str += f\"- {job['job_title']}: {job['job_skills']}\\n\"\n",
    "        return jobs_str"
   ]
  },
  {
   "cell_type": "markdown",
   "metadata": {},
   "source": [
    "Then we will assign this class to an object called `jobs_list` and print `jobs_list`. Because of the `__str__()` function it will now print out what we told it to instead of the string representation. "
   ]
  },
  {
   "cell_type": "code",
   "execution_count": 39,
   "metadata": {},
   "outputs": [
    {
     "name": "stdout",
     "output_type": "stream",
     "text": [
      "Data Science Jobs:\n",
      "- Data Scientist: Python, SQL, Machine Learning\n",
      "- Data Analyst: SQL, Excel, Python\n",
      "- Machine Learning Engineer: Python, TensorFlow, Keras\n",
      "\n"
     ]
    }
   ],
   "source": [
    "jobs_list = DataScienceJobsList(data_science_jobs)\n",
    "print(jobs_list)"
   ]
  },
  {
   "cell_type": "markdown",
   "metadata": {},
   "source": [
    "## Object Methods\n",
    "\n",
    "### Notes\n",
    "\n",
    "* Object can also contain methods\n",
    "* Methods in objects are functions that belong to the object\n",
    "\n",
    "### Example \n",
    "\n",
    "Create a class named `DataScienceJobList`, that has:\n",
    "* What we created before: \n",
    "    * The `__init__()` function to assign values for `jobs`\n",
    "    * A `__str__()` function to print out the data science jobs\n",
    "* Now:\n",
    "    * A `split_skills` method that converts the job skills to a list "
   ]
  },
  {
   "cell_type": "code",
   "execution_count": 40,
   "metadata": {},
   "outputs": [],
   "source": [
    "class DataScienceJobsList:\n",
    "    def __init__(self, jobs):\n",
    "        self.jobs = jobs\n",
    "        \n",
    "    def __str__(self):\n",
    "        jobs_str = 'Data Science Jobs:\\n'\n",
    "        for job in self.jobs:\n",
    "            jobs_str += f\"- {job['job_title']}: {', '.join(job['job_skills'])}\\n\"\n",
    "        return jobs_str\n",
    "        \n",
    "    def split_skills(self):\n",
    "        for job in self.jobs:\n",
    "            job['job_skills'] = job['job_skills'].split(', ')"
   ]
  },
  {
   "cell_type": "markdown",
   "metadata": {},
   "source": [
    "Then we will assign this class to an object called `jobs_list` and call the `split_skills()` method."
   ]
  },
  {
   "cell_type": "code",
   "execution_count": 41,
   "metadata": {},
   "outputs": [
    {
     "name": "stdout",
     "output_type": "stream",
     "text": [
      "Data Science Jobs:\n",
      "- Data Scientist: Python, SQL, Machine Learning\n",
      "- Data Analyst: SQL, Excel, Python\n",
      "- Machine Learning Engineer: Python, TensorFlow, Keras\n",
      "\n"
     ]
    }
   ],
   "source": [
    "jobs_list = DataScienceJobsList(data_science_jobs)\n",
    "jobs_list.split_skills() # Ensure this is called to split the skills into lists\n",
    "print(jobs_list)"
   ]
  },
  {
   "cell_type": "markdown",
   "metadata": {},
   "source": [
    "## Extras\n",
    "\n",
    "These are extra examples. "
   ]
  },
  {
   "cell_type": "markdown",
   "metadata": {},
   "source": [
    "### Printing Class\n",
    "\n",
    "What if we tried printing this class now?"
   ]
  },
  {
   "cell_type": "markdown",
   "metadata": {},
   "source": [
    "🪲 **Debugging**\n",
    "\n",
    "**These are intentional mistakes**\n",
    "\n",
    "This is used to demonstrate debugging.\n",
    "\n",
    "Error: This code will return an incorrect output than what we want. \n",
    "\n",
    "Steps to Debug:\n",
    "\n",
    "1. Look at the actual error, can you tell what the problem is?\n",
    "2. If not, then look it up:\n",
    "  1. Use a chatbot like ChatGPT or Claude\n",
    "  2. Look it up using Google"
   ]
  },
  {
   "cell_type": "code",
   "execution_count": 42,
   "metadata": {},
   "outputs": [],
   "source": [
    "class DataScienceJobsList:\n",
    "    def __init__(self, jobs):\n",
    "        self.jobs = jobs\n",
    "        \n",
    "    def __str__(self):\n",
    "        jobs_str = 'Data Science Jobs:\\n'\n",
    "        for job in self.jobs:\n",
    "            jobs_str += f\"- {job['job_title']}: {', '.join(job['job_skills'])}\\n\"\n",
    "        return jobs_str\n",
    "        \n",
    "    def split_skills(self):\n",
    "        for job in self.jobs:\n",
    "            job['job_skills'] = job['job_skills'].split(', ')"
   ]
  },
  {
   "cell_type": "code",
   "execution_count": 43,
   "metadata": {},
   "outputs": [
    {
     "name": "stdout",
     "output_type": "stream",
     "text": [
      "Data Science Jobs:\n",
      "- Data Scientist: Python, SQL, Machine Learning\n",
      "- Data Analyst: SQL, Excel, Python\n",
      "- Machine Learning Engineer: Python, TensorFlow, Keras\n",
      "\n"
     ]
    }
   ],
   "source": [
    "jobs_list = DataScienceJobsList(data_science_jobs)\n",
    "print(jobs_list)"
   ]
  },
  {
   "cell_type": "markdown",
   "metadata": {},
   "source": [
    "Oh this doesn't look correct. It's because the `__str__()` method attempts to join the job['job_skills'] assuming it's a list, but at the point where __str__() is called, the skills haven't been split into lists yet; they're still strings. \n",
    "\n",
    "The method is attempting to join the individual characters of the string, instead of splitting the string into a list of skills first.\n",
    "\n",
    "We'll fix it by adjusting the `__str__()` method to handle cases where either:\n",
    "\n",
    "* `split_skills` is called before any attempts to print the object.\n",
    "* Adjust the `__str__()` method where skills might still be a single string or have already split into a list."
   ]
  },
  {
   "cell_type": "code",
   "execution_count": 44,
   "metadata": {},
   "outputs": [],
   "source": [
    "class DataScienceJobsList:\n",
    "    def __init__(self, jobs):\n",
    "        self.jobs = jobs\n",
    "        \n",
    "    def __str__(self):\n",
    "        jobs_str = 'Data Science Jobs:\\n'\n",
    "        for job in self.jobs:\n",
    "            # Check if job_skills is already a list or still a string\n",
    "            if isinstance(job['job_skills'], list):\n",
    "                skills_str = ', '.join(job['job_skills'])\n",
    "            else:\n",
    "                skills_str = job['job_skills']\n",
    "            jobs_str += f\"- {job['job_title']}: {skills_str}\\n\"\n",
    "        return jobs_str\n",
    "        \n",
    "    def split_skills(self):\n",
    "        for job in self.jobs:\n",
    "            job['job_skills'] = job['job_skills'].split(', ')"
   ]
  },
  {
   "cell_type": "markdown",
   "metadata": {},
   "source": [
    "Now the `__str__()` method will correctly handle `job['job_skills']` whether it's a pre-split list or a string that hasn't been split yet."
   ]
  },
  {
   "cell_type": "code",
   "execution_count": 45,
   "metadata": {},
   "outputs": [
    {
     "name": "stdout",
     "output_type": "stream",
     "text": [
      "Data Science Jobs:\n",
      "- Data Scientist: Python, SQL, Machine Learning\n",
      "- Data Analyst: SQL, Excel, Python\n",
      "- Machine Learning Engineer: Python, TensorFlow, Keras\n",
      "\n"
     ]
    }
   ],
   "source": [
    "jobs_list = DataScienceJobsList(data_science_jobs)\n",
    "print(jobs_list)"
   ]
  },
  {
   "cell_type": "markdown",
   "metadata": {},
   "source": [
    "### Add in Method\n",
    "\n",
    "While the `__str__()` method is good for providing a quick and readable description of the object's state. We should create a method to explicitly called to print the details of each job to the console.\n",
    "\n",
    "Explanation:\n",
    "\n",
    "* It iterates through the list of jobs, prints the job title.\n",
    "* Then iterates through the list of required skills, printing each one.\n",
    "* Remember it's not returning a value, instead it directly outputs to the console."
   ]
  },
  {
   "cell_type": "markdown",
   "metadata": {},
   "source": [
    "🪲 **Debugging**\n",
    "\n",
    "**These are intentional mistakes**\n",
    "\n",
    "This is used to demonstrate debugging.\n",
    "\n",
    "Errors: This is either because we've called `split_skills()` more than once on the same `DataScienceJobsList` instance, or the initial data passed to __init__ already had the skills as lists for some entries.\n",
    "\n",
    "Steps to Debug:\n",
    "\n",
    "1. Look at the actual error, can you tell what the problem is?\n",
    "2. If not, then look it up:\n",
    "  1. Use a chatbot like ChatGPT or Claude\n",
    "  2. Look it up using Google"
   ]
  },
  {
   "cell_type": "code",
   "execution_count": 52,
   "metadata": {},
   "outputs": [],
   "source": [
    "class DataScienceJobsList:\n",
    "    def __init__(self, jobs):\n",
    "        self.jobs = jobs\n",
    "    \n",
    "    def __str__(self):\n",
    "        jobs_str = 'Data Science Jobs:\\n'\n",
    "        for job in self.jobs:\n",
    "            # Check if job_skills is already a list or still a string\n",
    "            if isinstance(job['job_skills'], list):\n",
    "                skills_str = ', '.join(job['job_skills'])\n",
    "            else:\n",
    "                skills_str = job['job_skills']\n",
    "            jobs_str += f\"- {job['job_title']}: {skills_str}\\n\"\n",
    "        return jobs_str\n",
    "\n",
    "    def split_skills(self):\n",
    "        for job in self.jobs:\n",
    "            job['job_skills'] = job['job_skills'].split(', ')\n",
    "\n",
    "    def display_jobs(self):\n",
    "        for job in self.jobs:\n",
    "            print(f\"Job Title: {job['job_title']}\")\n",
    "            print(\"Required Skills:\")\n",
    "            for skill in job['job_skills']:\n",
    "                print(f\"- {skill}\")\n",
    "            print()  # Adds an empty line for better readability"
   ]
  },
  {
   "cell_type": "code",
   "execution_count": 51,
   "metadata": {},
   "outputs": [
    {
     "ename": "AttributeError",
     "evalue": "'list' object has no attribute 'split'",
     "output_type": "error",
     "traceback": [
      "\u001b[1;31m---------------------------------------------------------------------------\u001b[0m",
      "\u001b[1;31mAttributeError\u001b[0m                            Traceback (most recent call last)",
      "Cell \u001b[1;32mIn[51], line 2\u001b[0m\n\u001b[0;32m      1\u001b[0m jobs_list \u001b[38;5;241m=\u001b[39m DataScienceJobsList(data_science_jobs)\n\u001b[1;32m----> 2\u001b[0m \u001b[43mjobs_list\u001b[49m\u001b[38;5;241;43m.\u001b[39;49m\u001b[43msplit_skills\u001b[49m\u001b[43m(\u001b[49m\u001b[43m)\u001b[49m\n\u001b[0;32m      3\u001b[0m jobs_list\u001b[38;5;241m.\u001b[39mdisplay_jobs()\n",
      "Cell \u001b[1;32mIn[50], line 18\u001b[0m, in \u001b[0;36mDataScienceJobsList.split_skills\u001b[1;34m(self)\u001b[0m\n\u001b[0;32m     16\u001b[0m \u001b[38;5;28;01mdef\u001b[39;00m \u001b[38;5;21msplit_skills\u001b[39m(\u001b[38;5;28mself\u001b[39m):\n\u001b[0;32m     17\u001b[0m     \u001b[38;5;28;01mfor\u001b[39;00m job \u001b[38;5;129;01min\u001b[39;00m \u001b[38;5;28mself\u001b[39m\u001b[38;5;241m.\u001b[39mjobs:\n\u001b[1;32m---> 18\u001b[0m         job[\u001b[38;5;124m'\u001b[39m\u001b[38;5;124mjob_skills\u001b[39m\u001b[38;5;124m'\u001b[39m] \u001b[38;5;241m=\u001b[39m \u001b[43mjob\u001b[49m\u001b[43m[\u001b[49m\u001b[38;5;124;43m'\u001b[39;49m\u001b[38;5;124;43mjob_skills\u001b[39;49m\u001b[38;5;124;43m'\u001b[39;49m\u001b[43m]\u001b[49m\u001b[38;5;241;43m.\u001b[39;49m\u001b[43msplit\u001b[49m(\u001b[38;5;124m'\u001b[39m\u001b[38;5;124m, \u001b[39m\u001b[38;5;124m'\u001b[39m)\n",
      "\u001b[1;31mAttributeError\u001b[0m: 'list' object has no attribute 'split'"
     ]
    }
   ],
   "source": [
    "jobs_list = DataScienceJobsList(data_science_jobs)\n",
    "jobs_list.split_skills()\n",
    "jobs_list.display_jobs()"
   ]
  },
  {
   "cell_type": "markdown",
   "metadata": {},
   "source": [
    "Solution: Modify the split_skills method to check if `job['job_skills']` is a string before attempting to split it. Now, if `split_skills()` is called multiple times, it won't attempt to split already split lists, thus avoiding the error."
   ]
  },
  {
   "cell_type": "code",
   "execution_count": 53,
   "metadata": {},
   "outputs": [],
   "source": [
    "class DataScienceJobsList:\n",
    "    def __init__(self, jobs):\n",
    "        self.jobs = jobs\n",
    "    \n",
    "    def __str__(self):\n",
    "        jobs_str = 'Data Science Jobs:\\n'\n",
    "        for job in self.jobs:\n",
    "            if isinstance(job['job_skills'], list):\n",
    "                skills_str = ', '.join(job['job_skills'])\n",
    "            else:\n",
    "                skills_str = job['job_skills']\n",
    "            jobs_str += f\"- {job['job_title']}: {skills_str}\\n\"\n",
    "        return jobs_str\n",
    "\n",
    "    def split_skills(self):\n",
    "        for job in self.jobs:\n",
    "            if isinstance(job['job_skills'], str):  # Check if job_skills is a string\n",
    "                job['job_skills'] = job['job_skills'].split(', ')\n",
    "\n",
    "    def display_jobs(self):\n",
    "        for job in self.jobs:\n",
    "            print(f\"Job Title: {job['job_title']}\")\n",
    "            print(\"Required Skills:\")\n",
    "            for skill in job['job_skills']:\n",
    "                print(f\"- {skill}\")\n",
    "            print()  # Adds an empty line for better readability"
   ]
  },
  {
   "cell_type": "markdown",
   "metadata": {},
   "source": [
    "It works now 🙌"
   ]
  },
  {
   "cell_type": "code",
   "execution_count": 49,
   "metadata": {},
   "outputs": [
    {
     "name": "stdout",
     "output_type": "stream",
     "text": [
      "Job Title: Data Scientist\n",
      "Required Skills:\n",
      "- Python\n",
      "- SQL\n",
      "- Machine Learning\n",
      "\n",
      "Job Title: Data Analyst\n",
      "Required Skills:\n",
      "- SQL\n",
      "- Excel\n",
      "- Python\n",
      "\n",
      "Job Title: Machine Learning Engineer\n",
      "Required Skills:\n",
      "- Python\n",
      "- TensorFlow\n",
      "- Keras\n",
      "\n"
     ]
    }
   ],
   "source": [
    "jobs_list = DataScienceJobsList(data_science_jobs)\n",
    "jobs_list.split_skills()\n",
    "jobs_list.display_jobs()"
   ]
  },
  {
   "cell_type": "markdown",
   "metadata": {},
   "source": [
    "That's it for classes. Now onto an exercise and then we'll dive into actual data analysis."
   ]
  }
 ],
 "metadata": {
  "colab": {
   "provenance": []
  },
  "kernelspec": {
   "display_name": "Python 3",
   "name": "python3"
  },
  "language_info": {
   "codemirror_mode": {
    "name": "ipython",
    "version": 3
   },
   "file_extension": ".py",
   "mimetype": "text/x-python",
   "name": "python",
   "nbconvert_exporter": "python",
   "pygments_lexer": "ipython3",
   "version": "3.11.9"
  }
 },
 "nbformat": 4,
 "nbformat_minor": 0
}
