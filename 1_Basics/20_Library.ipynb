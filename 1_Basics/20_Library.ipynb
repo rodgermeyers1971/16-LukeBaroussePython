{
 "cells": [
  {
   "cell_type": "markdown",
   "id": "3ffd3317",
   "metadata": {},
   "source": [
    "<a target=\"_blank\" href=\"https://colab.research.google.com/github/lukebarousse/Python_Data_Analytics_Course/blob/main/1_Basics/20_Library.ipynb\">\n",
    "  <img src=\"https://colab.research.google.com/assets/colab-badge.svg\" alt=\"Open In Colab\"/>\n",
    "</a>"
   ]
  },
  {
   "cell_type": "markdown",
   "metadata": {
    "id": "cGKGY7TRplPa"
   },
   "source": [
    "# Libraries"
   ]
  },
  {
   "cell_type": "markdown",
   "metadata": {
    "id": "eX3Ca_OupofS"
   },
   "source": [
    "## Overview\n",
    "\n",
    "### Notes\n",
    "* A library is a collection of packages or modules that are grouped together to extend functionality\n",
    "* Types:\n",
    "  1. Standard libraries (included with Python)\n",
    "  2. Third-party libraries & packages (need to be installed)\n",
    "* Typically, installed using package managers like pip or conda\n",
    "\n",
    "### What the heck are Packages then?\n",
    "- A package can include modules and sub-packages \n",
    "\n",
    "### Packages vs Libraries\n",
    "- Python uses packages to organize inside it's libraries, and libraries to provide and extend functionalities.   \n",
    "- While **all libraries can be considered packages** (if they are structured that way), **not all packages are libraries**.\n",
    "\n",
    "### Importance \n",
    "* It helps save time, standardize processes, and add complex functionalities easily.\n",
    "* Used for things like data analysis, machine learning, web development, automation, and more.\n"
   ]
  },
  {
   "cell_type": "markdown",
   "metadata": {},
   "source": [
    "## Standard Python Libraries\n",
    "\n",
    "### Notes\n",
    "\n",
    "* The same as modules, we use the `from` and `import` keywords. \n",
    "    * The`import` gets the module modules\n",
    "    * The `from` is to get specific attributes from a module directly\n",
    "* When to use one or the other: \n",
    "    * `import module_name`: When you need to access several functions or attributes from a module\n",
    "    * `from module_name import attribute_name`: Use when you only need a specific function or attribute from a module"
   ]
  },
  {
   "cell_type": "markdown",
   "metadata": {
    "id": "dZNEMjyPpnFK"
   },
   "source": [
    "### Importance of Libraries\n",
    "\n",
    "### Notes\n",
    "\n",
    "What if we want to be able to manipulate files? We can use the standard library in Python to open, read, write, and close files.\n",
    "\n",
    "Functions:\n",
    "- `open`: Opens a file. The 'r' mode is for reading, 'w' for writing (overwrites content), 'a' for appending, and 'b' for binary mode.\n",
    "- `read`: Reads the content of an opened file. Can also use `readline()` for a single line or `readlines()` for all lines as a list.\n",
    "- `write`: Writes a string to an opened file. If the file is opened in append mode ('a'), the text is added at the end.\n",
    "- `close`: Closes an opened file, which is important for freeing up system resources.\n",
    "\n",
    "### Examples\n",
    "\n",
    "**Note: This example is meant to be done on Google Colab with accesses to the `sample_data` folder**.\n",
    "\n",
    "To read the contents of `california_housing_test.csv` and print them:"
   ]
  },
  {
   "cell_type": "code",
   "execution_count": null,
   "metadata": {
    "id": "iVcTZjP6pip-"
   },
   "outputs": [],
   "source": [
    "# Open the file in read mode\n",
    "file = open('sample_data/california_housing_test.csv')\n",
    "\n",
    "# Read the file\n",
    "content = file.read()\n",
    "\n",
    "# Close the file\n",
    "file.close()\n",
    "\n",
    "# Print the content\n",
    "print(content)"
   ]
  },
  {
   "cell_type": "markdown",
   "metadata": {
    "id": "PVkEO6FDQG_Z"
   },
   "source": [
    "Now, what if we want to get this data into something usable (like a dictionary) to actually start performing data analysis:"
   ]
  },
  {
   "cell_type": "code",
   "execution_count": null,
   "metadata": {
    "id": "RW-4LvUCQIGA"
   },
   "outputs": [],
   "source": [
    "import csv\n",
    "\n",
    "data_dict = {}\n",
    "for index, row in enumerate(csv.reader(content.strip().split('\\n'))):\n",
    "    if index == 0:\n",
    "        # Initialize dictionary with column headers as keys\n",
    "        for column in row:\n",
    "            data_dict[column] = []\n",
    "    else:\n",
    "        # Append each element in the row to the correct list in the dictionary\n",
    "        for col_index, value in enumerate(row):\n",
    "            data_dict[list(data_dict.keys())[col_index]].append(value)\n",
    "\n",
    "# Print the dictionary to verify contents\n",
    "print(data_dict)\n"
   ]
  },
  {
   "cell_type": "markdown",
   "metadata": {
    "id": "Of4ZKbGHPXah"
   },
   "source": [
    "Okay, that's honestly a lot to do each time you want to work with CSV files. But we could use a third-party library called `pandas` instead to load in files a lot easier."
   ]
  },
  {
   "cell_type": "markdown",
   "metadata": {},
   "source": [
    "## Third-Party Libraries\n",
    "\n",
    "### Example w/ Pandas\n",
    "\n",
    "With a library like `pandas`, you can read the file and convert it in 3 lines of code!"
   ]
  },
  {
   "cell_type": "code",
   "execution_count": null,
   "metadata": {},
   "outputs": [],
   "source": [
    "import pandas as pd\n",
    "\n",
    "# Create a dataframe from csv file\n",
    "df = pd.read_csv('sample_data/california_housing_test.csv')\n",
    "\n",
    "# Print the dataframe\n",
    "df\n",
    "\n",
    "# get sume of total_bedrooms\n",
    "sum_total_bedrooms = df['total_bedrooms'].sum()"
   ]
  },
  {
   "cell_type": "markdown",
   "metadata": {},
   "source": [
    "### Notes\n",
    "\n",
    "* These are third party packages and libraries (not included in Python Standard Library) that need to be installed separately.\n",
    "* The way you install a package depends on the package manager you are using\n",
    "* There are two main ways to do this:\n",
    "    1. *Pip* - If you use `pip` for package management (Google Colab uses this).\n",
    "    2. *Conda* - If you use `conda` or `mamba` for package management (We'll use this in the Advanced Chapter).\n",
    "\n",
    "**NOTE: We'll go more into package management in the advanced chapter.**\n",
    "\n",
    "### Common Third Party Libraries\n",
    "\n",
    "Below are some common third party libraries used in data science:\n",
    "- **Pandas**: Offers data structures and operations for manipulating numerical tables and time series.\n",
    "- **NumPy**: Supports large, multi-dimensional arrays and matrices, along with a collection of high-level mathematical functions.\n",
    "- **Matplotlib**: A plotting library for creating static, animated, and interactive visualizations in Python.\n",
    "- **Seaborn**: Provides a high-level interface for drawing attractive and informative statistical graphics.\n",
    "- **SciPy**: Used for scientific and technical computing, offering modules for optimization, linear algebra, and more.\n",
    "- **Scikit-learn**: Implements a range of machine learning algorithms for data mining, data analysis, and machine learning tasks.\n",
    "- **Plotly**: Creates interactive and visually appealing graphs for web publication.\n",
    "\n",
    "### Where do I find packages?\n",
    "\n",
    "[PyPi](https://pypi.org/) - for `pip`  \n",
    "[Anaconda](https://www.anaconda.com/) - for `conda`"
   ]
  },
  {
   "cell_type": "markdown",
   "metadata": {},
   "source": [
    "### Listing Packages Installed"
   ]
  },
  {
   "cell_type": "markdown",
   "metadata": {},
   "source": [
    "If you're running this in Google Collab, use the following:"
   ]
  },
  {
   "cell_type": "code",
   "execution_count": 4,
   "metadata": {},
   "outputs": [
    {
     "name": "stdout",
     "output_type": "stream",
     "text": [
      "Package             Version\n",
      "------------------- --------\n",
      "aiohttp             3.9.5\n",
      "aiosignal           1.3.1\n",
      "appnope             0.1.4\n",
      "asttokens           2.4.1\n",
      "async-timeout       4.0.3\n",
      "attrs               23.2.0\n",
      "backcall            0.2.0\n",
      "Brotli              1.1.0\n",
      "certifi             2024.2.2\n",
      "charset-normalizer  3.3.2\n",
      "colorama            0.4.6\n",
      "comm                0.2.2\n",
      "contourpy           1.2.1\n",
      "cycler              0.12.1\n",
      "datasets            2.19.0\n",
      "debugpy             1.8.1\n",
      "decorator           5.1.1\n",
      "dill                0.3.8\n",
      "executing           2.0.1\n",
      "filelock            3.14.0\n",
      "fonttools           4.51.0\n",
      "frozenlist          1.4.1\n",
      "fsspec              2024.3.1\n",
      "huggingface_hub     0.22.2\n",
      "idna                3.7\n",
      "importlib_metadata  7.1.0\n",
      "importlib_resources 6.4.0\n",
      "ipykernel           6.29.3\n",
      "ipython             8.12.0\n",
      "jedi                0.19.1\n",
      "jupyter_client      8.6.1\n",
      "jupyter_core        4.12.0\n",
      "kiwisolver          1.4.5\n",
      "matplotlib          3.8.4\n",
      "matplotlib-inline   0.1.6\n",
      "multidict           6.0.5\n",
      "multiprocess        0.70.16\n",
      "munkres             1.1.4\n",
      "nest_asyncio        1.6.0\n",
      "numpy               1.26.4\n",
      "packaging           24.0\n",
      "pandas              2.2.2\n",
      "parso               0.8.4\n",
      "pexpect             4.9.0\n",
      "pickleshare         0.7.5\n",
      "pillow              10.3.0\n",
      "pip                 24.0\n",
      "prompt-toolkit      3.0.42\n",
      "psutil              5.9.8\n",
      "ptyprocess          0.7.0\n",
      "pure-eval           0.2.2\n",
      "pyarrow             15.0.2\n",
      "pyarrow-hotfix      0.6\n",
      "Pygments            2.17.2\n",
      "pyparsing           3.1.2\n",
      "PySocks             1.7.1\n",
      "python-dateutil     2.9.0\n",
      "pytz                2024.1\n",
      "PyYAML              6.0.1\n",
      "pyzmq               25.1.2\n",
      "requests            2.31.0\n",
      "seaborn             0.13.2\n",
      "setuptools          69.2.0\n",
      "six                 1.16.0\n",
      "stack-data          0.6.2\n",
      "tornado             6.4\n",
      "tqdm                4.66.2\n",
      "traitlets           5.14.2\n",
      "typing_extensions   4.11.0\n",
      "tzdata              2024.1\n",
      "unicodedata2        15.1.0\n",
      "urllib3             2.2.1\n",
      "wcwidth             0.2.13\n",
      "wheel               0.43.0\n",
      "xxhash              3.4.1\n",
      "yarl                1.9.4\n",
      "zipp                3.17.0\n"
     ]
    }
   ],
   "source": [
    "!pip list"
   ]
  },
  {
   "cell_type": "markdown",
   "metadata": {},
   "source": [
    "If you're running this locally using Conda run this:"
   ]
  },
  {
   "cell_type": "code",
   "execution_count": 5,
   "metadata": {},
   "outputs": [
    {
     "name": "stdout",
     "output_type": "stream",
     "text": [
      "# packages in environment at /Users/lukebarousse/opt/anaconda3/envs/python_course:\n",
      "#\n",
      "# Name                    Version                   Build  Channel\n",
      "aiohttp                   3.9.5            py39ha09f3b3_0    conda-forge\n",
      "aiosignal                 1.3.1              pyhd8ed1ab_0    conda-forge\n",
      "appnope                   0.1.4              pyhd8ed1ab_0    conda-forge\n",
      "asttokens                 2.4.1              pyhd8ed1ab_0    conda-forge\n",
      "async-timeout             4.0.3              pyhd8ed1ab_0    conda-forge\n",
      "attrs                     23.2.0             pyh71513ae_0    conda-forge\n",
      "aws-c-auth                0.7.18               hb47d15a_0    conda-forge\n",
      "aws-c-cal                 0.6.11               hbce485b_0    conda-forge\n",
      "aws-c-common              0.9.15               h10d778d_0    conda-forge\n",
      "aws-c-compression         0.2.18               h53e3db5_3    conda-forge\n",
      "aws-c-event-stream        0.4.2                he461af8_8    conda-forge\n",
      "aws-c-http                0.8.1               h0afc28a_10    conda-forge\n",
      "aws-c-io                  0.14.7               h6254544_6    conda-forge\n",
      "aws-c-mqtt                0.10.4               hd66502f_0    conda-forge\n",
      "aws-c-s3                  0.5.7                h5d4520e_2    conda-forge\n",
      "aws-c-sdkutils            0.1.15               h53e3db5_3    conda-forge\n",
      "aws-checksums             0.1.18               h53e3db5_3    conda-forge\n",
      "aws-crt-cpp               0.26.8               ha933895_2    conda-forge\n",
      "aws-sdk-cpp               1.11.267             h8dd24e3_7    conda-forge\n",
      "backcall                  0.2.0              pyh9f0ad1d_0    conda-forge\n",
      "brotli                    1.1.0                h0dc2134_1    conda-forge\n",
      "brotli-bin                1.1.0                h0dc2134_1    conda-forge\n",
      "brotli-python             1.1.0            py39h840bb9f_1    conda-forge\n",
      "bzip2                     1.0.8                h10d778d_5    conda-forge\n",
      "c-ares                    1.28.1               h10d778d_0    conda-forge\n",
      "ca-certificates           2024.2.2             h8857fd0_0    conda-forge\n",
      "certifi                   2024.2.2           pyhd8ed1ab_0    conda-forge\n",
      "charset-normalizer        3.3.2              pyhd8ed1ab_0    conda-forge\n",
      "colorama                  0.4.6              pyhd8ed1ab_0    conda-forge\n",
      "comm                      0.2.2              pyhd8ed1ab_0    conda-forge\n",
      "contourpy                 1.2.1            py39h0ca7971_0    conda-forge\n",
      "cycler                    0.12.1             pyhd8ed1ab_0    conda-forge\n",
      "datasets                  2.19.0             pyhd8ed1ab_0    conda-forge\n",
      "debugpy                   1.8.1            py39hd253f6c_0    conda-forge\n",
      "decorator                 5.1.1              pyhd8ed1ab_0    conda-forge\n",
      "dill                      0.3.8              pyhd8ed1ab_0    conda-forge\n",
      "executing                 2.0.1              pyhd8ed1ab_0    conda-forge\n",
      "filelock                  3.14.0             pyhd8ed1ab_0    conda-forge\n",
      "fonttools                 4.51.0           py39ha09f3b3_0    conda-forge\n",
      "freetype                  2.12.1               h60636b9_2    conda-forge\n",
      "frozenlist                1.4.1            py39ha09f3b3_0    conda-forge\n",
      "fsspec                    2024.3.1           pyhca7485f_0    conda-forge\n",
      "gflags                    2.2.2             hb1e8313_1004    conda-forge\n",
      "glog                      0.7.0                h31b1b29_0    conda-forge\n",
      "huggingface_hub           0.22.2             pyhd8ed1ab_0    conda-forge\n",
      "icu                       73.2                 hf5e326d_0    conda-forge\n",
      "idna                      3.7                pyhd8ed1ab_0    conda-forge\n",
      "importlib-metadata        7.1.0              pyha770c72_0    conda-forge\n",
      "importlib-resources       6.4.0              pyhd8ed1ab_0    conda-forge\n",
      "importlib_metadata        7.1.0                hd8ed1ab_0    conda-forge\n",
      "importlib_resources       6.4.0              pyhd8ed1ab_0    conda-forge\n",
      "ipykernel                 6.29.3             pyh3cd1d5f_0    conda-forge\n",
      "ipython                   8.12.0             pyhd1c38e8_0    conda-forge\n",
      "jedi                      0.19.1             pyhd8ed1ab_0    conda-forge\n",
      "jupyter_client            8.6.1              pyhd8ed1ab_0    conda-forge\n",
      "jupyter_core              4.12.0           py39h6e9494a_0    conda-forge\n",
      "kiwisolver                1.4.5            py39h8ee36c8_1    conda-forge\n",
      "krb5                      1.21.2               hb884880_0    conda-forge\n",
      "lcms2                     2.16                 ha2f27b4_0    conda-forge\n",
      "lerc                      4.0.0                hb486fe8_0    conda-forge\n",
      "libabseil                 20240116.2      cxx17_hc1bcbd7_0    conda-forge\n",
      "libarrow                  15.0.2           hfba3c4c_6_cpu    conda-forge\n",
      "libarrow-acero            15.0.2           ha0df490_6_cpu    conda-forge\n",
      "libarrow-dataset          15.0.2           ha0df490_6_cpu    conda-forge\n",
      "libarrow-flight           15.0.2           h41520de_6_cpu    conda-forge\n",
      "libarrow-flight-sql       15.0.2           hb2e0ddf_6_cpu    conda-forge\n",
      "libarrow-gandiva          15.0.2           h81ca85a_6_cpu    conda-forge\n",
      "libarrow-substrait        15.0.2           hb2e0ddf_6_cpu    conda-forge\n",
      "libblas                   3.9.0           22_osx64_openblas    conda-forge\n",
      "libbrotlicommon           1.1.0                h0dc2134_1    conda-forge\n",
      "libbrotlidec              1.1.0                h0dc2134_1    conda-forge\n",
      "libbrotlienc              1.1.0                h0dc2134_1    conda-forge\n",
      "libcblas                  3.9.0           22_osx64_openblas    conda-forge\n",
      "libcrc32c                 1.1.2                he49afe7_0    conda-forge\n",
      "libcurl                   8.7.1                h726d00d_0    conda-forge\n",
      "libcxx                    16.0.6               hd57cbcb_0    conda-forge\n",
      "libdeflate                1.20                 h49d49c5_0    conda-forge\n",
      "libedit                   3.1.20191231         h0678c8f_2    conda-forge\n",
      "libev                     4.33                 h10d778d_2    conda-forge\n",
      "libevent                  2.1.12               ha90c15b_1    conda-forge\n",
      "libffi                    3.4.2                h0d85af4_5    conda-forge\n",
      "libgfortran               5.0.0           13_2_0_h97931a8_3    conda-forge\n",
      "libgfortran5              13.2.0               h2873a65_3    conda-forge\n",
      "libgoogle-cloud           2.23.0               h651e89d_1    conda-forge\n",
      "libgoogle-cloud-storage   2.23.0               ha67e85c_1    conda-forge\n",
      "libgrpc                   1.62.2               h384b2fc_0    conda-forge\n",
      "libiconv                  1.17                 hd75f5a5_2    conda-forge\n",
      "libjpeg-turbo             3.0.0                h0dc2134_1    conda-forge\n",
      "liblapack                 3.9.0           22_osx64_openblas    conda-forge\n",
      "libllvm16                 16.0.6               hbedff68_3    conda-forge\n",
      "libnghttp2                1.58.0               h64cf6d3_1    conda-forge\n",
      "libopenblas               0.3.27          openmp_hfef2a42_0    conda-forge\n",
      "libparquet                15.0.2           h7cd3cfe_6_cpu    conda-forge\n",
      "libpng                    1.6.43               h92b6c6a_0    conda-forge\n",
      "libprotobuf               4.25.3               h4e4d658_0    conda-forge\n",
      "libre2-11                 2023.09.01           h81f5012_2    conda-forge\n",
      "libsodium                 1.0.18               hbcb3906_1    conda-forge\n",
      "libsqlite                 3.45.2               h92b6c6a_0    conda-forge\n",
      "libssh2                   1.11.0               hd019ec5_0    conda-forge\n",
      "libthrift                 0.19.0               h064b379_1    conda-forge\n",
      "libtiff                   4.6.0                h129831d_3    conda-forge\n",
      "libutf8proc               2.8.0                hb7f2c08_0    conda-forge\n",
      "libwebp-base              1.3.2                h10d778d_1    conda-forge\n",
      "libxcb                    1.15                 hb7f2c08_0    conda-forge\n",
      "libxml2                   2.12.6               hc0ae0f7_2    conda-forge\n",
      "libzlib                   1.2.13               h8a1eda9_5    conda-forge\n",
      "llvm-openmp               18.1.3               hb6ac08f_0    conda-forge\n",
      "lz4-c                     1.9.4                hf0c8a7f_0    conda-forge\n",
      "matplotlib                3.8.4            py39h6e9494a_0    conda-forge\n",
      "matplotlib-base           3.8.4            py39h7070ae8_0    conda-forge\n",
      "matplotlib-inline         0.1.6              pyhd8ed1ab_0    conda-forge\n",
      "multidict                 6.0.5            py39ha30fb19_0    conda-forge\n",
      "multiprocess              0.70.16          py39ha09f3b3_0    conda-forge\n",
      "munkres                   1.1.4              pyh9f0ad1d_0    conda-forge\n",
      "ncurses                   6.4.20240210         h73e2aa4_0    conda-forge\n",
      "nest-asyncio              1.6.0              pyhd8ed1ab_0    conda-forge\n",
      "numpy                     1.26.4           py39h28c39a1_0    conda-forge\n",
      "openjpeg                  2.5.2                h7310d3a_0    conda-forge\n",
      "openssl                   3.3.0                hd75f5a5_0    conda-forge\n",
      "orc                       2.0.0                hf146577_1    conda-forge\n",
      "packaging                 24.0               pyhd8ed1ab_0    conda-forge\n",
      "pandas                    2.2.2            py39haf03413_0    conda-forge\n",
      "parso                     0.8.4              pyhd8ed1ab_0    conda-forge\n",
      "pexpect                   4.9.0              pyhd8ed1ab_0    conda-forge\n",
      "pickleshare               0.7.5                   py_1003    conda-forge\n",
      "pillow                    10.3.0           py39h9dabb2a_0    conda-forge\n",
      "pip                       24.0               pyhd8ed1ab_0    conda-forge\n",
      "prompt-toolkit            3.0.42             pyha770c72_0    conda-forge\n",
      "prompt_toolkit            3.0.42               hd8ed1ab_0    conda-forge\n",
      "psutil                    5.9.8            py39ha09f3b3_0    conda-forge\n",
      "pthread-stubs             0.4               hc929b4f_1001    conda-forge\n",
      "ptyprocess                0.7.0              pyhd3deb0d_0    conda-forge\n",
      "pure_eval                 0.2.2              pyhd8ed1ab_0    conda-forge\n",
      "pyarrow                   15.0.2          py39h52bf62a_6_cpu    conda-forge\n",
      "pyarrow-hotfix            0.6                pyhd8ed1ab_0    conda-forge\n",
      "pygments                  2.17.2             pyhd8ed1ab_0    conda-forge\n",
      "pyparsing                 3.1.2              pyhd8ed1ab_0    conda-forge\n",
      "pysocks                   1.7.1              pyha2e5f31_6    conda-forge\n",
      "python                    3.9.19          h7a9c478_0_cpython    conda-forge\n",
      "python-dateutil           2.9.0              pyhd8ed1ab_0    conda-forge\n",
      "python-tzdata             2024.1             pyhd8ed1ab_0    conda-forge\n",
      "python-xxhash             3.4.1            py39hdc70f33_0    conda-forge\n",
      "python_abi                3.9                      4_cp39    conda-forge\n",
      "pytz                      2024.1             pyhd8ed1ab_0    conda-forge\n",
      "pyyaml                    6.0.1            py39hdc70f33_1    conda-forge\n",
      "pyzmq                     25.1.2           py39hcb7a90d_0    conda-forge\n",
      "re2                       2023.09.01           hb168e87_2    conda-forge\n",
      "readline                  8.2                  h9e318b2_1    conda-forge\n",
      "requests                  2.31.0             pyhd8ed1ab_0    conda-forge\n",
      "seaborn                   0.13.2                   pypi_0    pypi\n",
      "setuptools                69.2.0             pyhd8ed1ab_0    conda-forge\n",
      "six                       1.16.0             pyh6c4a22f_0    conda-forge\n",
      "snappy                    1.2.0                h6dc393e_1    conda-forge\n",
      "stack_data                0.6.2              pyhd8ed1ab_0    conda-forge\n",
      "tk                        8.6.13               h1abcd95_1    conda-forge\n",
      "tornado                   6.4              py39ha09f3b3_0    conda-forge\n",
      "tqdm                      4.66.2             pyhd8ed1ab_0    conda-forge\n",
      "traitlets                 5.14.2             pyhd8ed1ab_0    conda-forge\n",
      "typing-extensions         4.11.0               hd8ed1ab_0    conda-forge\n",
      "typing_extensions         4.11.0             pyha770c72_0    conda-forge\n",
      "tzdata                    2024a                h0c530f3_0    conda-forge\n",
      "unicodedata2              15.1.0           py39hdc70f33_0    conda-forge\n",
      "urllib3                   2.2.1              pyhd8ed1ab_0    conda-forge\n",
      "wcwidth                   0.2.13             pyhd8ed1ab_0    conda-forge\n",
      "wheel                     0.43.0             pyhd8ed1ab_1    conda-forge\n",
      "xorg-libxau               1.0.11               h0dc2134_0    conda-forge\n",
      "xorg-libxdmcp             1.1.3                h35c211d_0    conda-forge\n",
      "xxhash                    0.8.2                h4140336_0    conda-forge\n",
      "xz                        5.2.6                h775f41a_0    conda-forge\n",
      "yaml                      0.2.5                h0d85af4_2    conda-forge\n",
      "yarl                      1.9.4            py39ha09f3b3_0    conda-forge\n",
      "zeromq                    4.3.5                h93d8f39_0    conda-forge\n",
      "zipp                      3.17.0             pyhd8ed1ab_0    conda-forge\n",
      "zstd                      1.5.5                h829000d_0    conda-forge\n"
     ]
    }
   ],
   "source": [
    "!conda list"
   ]
  },
  {
   "cell_type": "markdown",
   "metadata": {},
   "source": [
    "Note: `!pip list` will work if running conda; BUT it won't include all your packages."
   ]
  },
  {
   "cell_type": "markdown",
   "metadata": {},
   "source": [
    "### Installing Packages\n",
    "\n",
    "#### Notes\n",
    "\n",
    "- Once again dependent on your package manager will depend on whether you need to pip or conda install.\n",
    "\n",
    "#### Examples\n",
    "\n",
    "##### `pip` Install (Google Colab example)\n",
    "\n",
    "Google Colab comes standard with a bunch of libraries installed; but here's one we don't have:"
   ]
  },
  {
   "cell_type": "code",
   "execution_count": null,
   "metadata": {},
   "outputs": [],
   "source": [
    "!pip install pyjokes"
   ]
  },
  {
   "cell_type": "markdown",
   "metadata": {},
   "source": [
    "##### `conda` install (Local Example) \n",
    "\n",
    "**Note: This is an example ONLY if you are running locally and have Anaconda installed (on Colab, pandas is already installed)**.\n",
    "\n",
    "Since `pandas` is a library outside of Python's standard library; so we can install with conda."
   ]
  },
  {
   "cell_type": "code",
   "execution_count": null,
   "metadata": {},
   "outputs": [],
   "source": [
    "!conda install pandas"
   ]
  },
  {
   "cell_type": "markdown",
   "metadata": {},
   "source": [
    "## Import the Package\n",
    "\n",
    "Now that we've installed a library we need to import it. This lets us use it in our specific notebook / environment (we'll get more into environments later in the advanced section).\n",
    "\n",
    "We will be showing how to import Python libraries, packages and modules. Here's a reminder of the difference between all 3:\n",
    "1. **Library**: A collection of packages and modules.\n",
    "2. **Package**: A directory with Python scripts and an `__init__.py` file.\n",
    "3. **Module**: A Python script file that can be imported.\n",
    "\n",
    "### Examples"
   ]
  },
  {
   "cell_type": "code",
   "execution_count": null,
   "metadata": {},
   "outputs": [],
   "source": [
    "import pyjokes\n",
    "\n",
    "pyjokes.get_joke()"
   ]
  }
 ],
 "metadata": {
  "colab": {
   "authorship_tag": "ABX9TyM6smsKJbzofi7kXq0/Bj2H",
   "provenance": []
  },
  "kernelspec": {
   "display_name": "Python 3",
   "name": "python3"
  },
  "language_info": {
   "codemirror_mode": {
    "name": "ipython",
    "version": 3
   },
   "file_extension": ".py",
   "mimetype": "text/x-python",
   "name": "python",
   "nbconvert_exporter": "python",
   "pygments_lexer": "ipython3",
   "version": "3.9.19"
  }
 },
 "nbformat": 4,
 "nbformat_minor": 0
}
