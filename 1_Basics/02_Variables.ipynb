{
 "cells": [
  {
   "cell_type": "markdown",
   "id": "8647054e",
   "metadata": {},
   "source": [
    "<a target=\"_blank\" href=\"https://colab.research.google.com/github/lukebarousse/Python_Data_Analytics_Course/blob/main/1_Basics/02_Variables.ipynb\">\n",
    "  <img src=\"https://colab.research.google.com/assets/colab-badge.svg\" alt=\"Open In Colab\"/>\n",
    "</a>"
   ]
  },
  {
   "cell_type": "markdown",
   "metadata": {
    "id": "hdwC92nA4Vw9"
   },
   "source": [
    "# Variables"
   ]
  },
  {
   "cell_type": "markdown",
   "metadata": {
    "id": "GXifHdAIE2gT"
   },
   "source": [
    "## Create a Variable\n",
    "\n",
    "### Notes\n",
    "\n",
    "* A variable is created the moment you assign a value to it\n",
    "* Variables don't need to be declared with any *type*\n",
    "* Variables can change types even after they've been set\n",
    "\n",
    "\n",
    "The variable name goes on the left side of the assignment operator (`=`), and the value or expression you want to assign to that variable goes on the right side. It will be like this:\n",
    "\n",
    "```python\n",
    "variable_name = value\n",
    "```\n",
    "\n",
    "### Examples"
   ]
  },
  {
   "cell_type": "code",
   "execution_count": 1,
   "metadata": {},
   "outputs": [],
   "source": [
    "base_salary = 100000"
   ]
  },
  {
   "cell_type": "markdown",
   "metadata": {},
   "source": [
    "You can also perform operations using variables."
   ]
  },
  {
   "cell_type": "code",
   "execution_count": 2,
   "metadata": {},
   "outputs": [],
   "source": [
    "bonus_rate = 0.1\n",
    "\n",
    "total_salary = base_salary * (1 + bonus_rate)"
   ]
  },
  {
   "cell_type": "markdown",
   "metadata": {},
   "source": [
    "But how the heck do we see what the total salary is? We can either print the variable using the `print()` function or call it."
   ]
  },
  {
   "cell_type": "code",
   "execution_count": 3,
   "metadata": {},
   "outputs": [
    {
     "data": {
      "text/plain": [
       "110000.00000000001"
      ]
     },
     "execution_count": 3,
     "metadata": {},
     "output_type": "execute_result"
    }
   ],
   "source": [
    "total_salary"
   ]
  },
  {
   "cell_type": "code",
   "execution_count": 4,
   "metadata": {},
   "outputs": [
    {
     "data": {
      "text/plain": [
       "110000.00000000001"
      ]
     },
     "execution_count": 4,
     "metadata": {},
     "output_type": "execute_result"
    }
   ],
   "source": [
    "# Calling a variable\n",
    "total_salary"
   ]
  },
  {
   "cell_type": "markdown",
   "metadata": {},
   "source": [
    "## Variables aren't only numbers\n",
    "\n",
    "### Notes\n",
    "\n",
    "* We can store all different kinds of data in variables\n",
    "* **Note:** We'll cover more on types in a bit\n",
    "\n",
    "### Example\n",
    "* Create variables to store the following information about a job posting:\n",
    "  * Job ID (integer)\n",
    "  * Company Name (string)\n",
    "  * Salary Rate (string, but consider how you might store this as a numerical type for calculations)\n",
    "  * Job Work From Home (boolean)"
   ]
  },
  {
   "cell_type": "code",
   "execution_count": 5,
   "metadata": {
    "id": "kZBprbvDd2aJ"
   },
   "outputs": [],
   "source": [
    "job_id = 101\n",
    "company_name = 'DataWiz Inc.'\n",
    "job_title = 'Data Analyst'\n",
    "job_salary = 125000\n",
    "job_work_from_home = True"
   ]
  },
  {
   "cell_type": "markdown",
   "metadata": {
    "id": "JQ2UFIT8hur8"
   },
   "source": [
    "We can use the `print()` function to return all the variables:"
   ]
  },
  {
   "cell_type": "code",
   "execution_count": 6,
   "metadata": {
    "colab": {
     "base_uri": "https://localhost:8080/"
    },
    "executionInfo": {
     "elapsed": 179,
     "status": "ok",
     "timestamp": 1710563871614,
     "user": {
      "displayName": "Kelly Adams",
      "userId": "09437392635559217735"
     },
     "user_tz": 420
    },
    "id": "DBsWe-Z9eK-i",
    "outputId": "03426fbf-716a-4993-cbb0-9c221f13c263"
   },
   "outputs": [
    {
     "name": "stdout",
     "output_type": "stream",
     "text": [
      "Job ID:       101\n",
      "Company Name: DataWiz Inc.\n",
      "Job Title:    Data Analyst\n",
      "Salary:       125000\n",
      "WFH:          True\n"
     ]
    }
   ],
   "source": [
    "# This won't print out the variable name.\n",
    "print(\"Job ID:      \", job_id)\n",
    "print(\"Company Name:\", company_name)\n",
    "print(\"Job Title:   \", job_title)\n",
    "print(\"Salary:      \", job_salary)\n",
    "print(\"WFH:         \", job_work_from_home)"
   ]
  },
  {
   "cell_type": "markdown",
   "metadata": {},
   "source": [
    "## Objects in Python\n",
    "\n",
    "Something to understand: everything stored in Python is considered an **object**. This includes all the data types we've talked about and will talk about.\n",
    "\n",
    "Objects are a foundational concept in Python, and we'll explore more about what they do in the upcoming sections."
   ]
  }
 ],
 "metadata": {
  "colab": {
   "provenance": []
  },
  "kernelspec": {
   "display_name": "Python 3",
   "name": "python3"
  },
  "language_info": {
   "codemirror_mode": {
    "name": "ipython",
    "version": 3
   },
   "file_extension": ".py",
   "mimetype": "text/x-python",
   "name": "python",
   "nbconvert_exporter": "python",
   "pygments_lexer": "ipython3",
   "version": "3.11.9"
  }
 },
 "nbformat": 4,
 "nbformat_minor": 0
}
