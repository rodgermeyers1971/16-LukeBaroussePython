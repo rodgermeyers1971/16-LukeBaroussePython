{
 "cells": [
  {
   "cell_type": "markdown",
   "id": "c1a7e244",
   "metadata": {},
   "source": [
    "<a target=\"_blank\" href=\"https://colab.research.google.com/github/lukebarousse/Python_Data_Analytics_Course/blob/main/4_Problems/1_31_Matplotlib Pandas Plotting.ipynb\">\n",
    "  <img src=\"https://colab.research.google.com/assets/colab-badge.svg\" alt=\"Open In Colab\"/>\n",
    "</a>"
   ]
  },
  {
   "cell_type": "code",
   "execution_count": null,
   "id": "cee9fe11",
   "metadata": {},
   "outputs": [],
   "source": [
    "!pip install datasets\n",
    "import pandas as pd\n",
    "from datasets import load_dataset\n",
    "import matplotlib.pyplot as plt\n",
    "\n",
    "dataset = load_dataset('lukebarousse/data_jobs')\n",
    "df = dataset['train'].to_pandas()\n",
    "df['job_posted_date'] = pd.to_datetime(df['job_posted_date'])"
   ]
  },
  {
   "cell_type": "markdown",
   "id": "8bc602ec",
   "metadata": {},
   "source": [
    "## 🟩 Job Posting Location Bar Plot (1.31.1)"
   ]
  },
  {
   "cell_type": "code",
   "execution_count": null,
   "id": "31e0af19",
   "metadata": {},
   "outputs": [],
   "source": []
  },
  {
   "cell_type": "markdown",
   "id": "a3cebff5",
   "metadata": {},
   "source": [
    "---"
   ]
  },
  {
   "cell_type": "markdown",
   "id": "651ebbb5",
   "metadata": {},
   "source": [
    "## 🟩 Job Postings Trend Line Plot (1.31.2)"
   ]
  },
  {
   "cell_type": "code",
   "execution_count": null,
   "id": "460d109e",
   "metadata": {},
   "outputs": [],
   "source": []
  },
  {
   "cell_type": "markdown",
   "id": "af0ebd5b",
   "metadata": {},
   "source": [
    "---"
   ]
  },
  {
   "cell_type": "markdown",
   "id": "278d662b",
   "metadata": {},
   "source": [
    "## 🟨 Top Job Locations (1.31.3)"
   ]
  },
  {
   "cell_type": "code",
   "execution_count": null,
   "id": "58e6c809",
   "metadata": {},
   "outputs": [],
   "source": []
  },
  {
   "cell_type": "markdown",
   "id": "b38597c7",
   "metadata": {},
   "source": [
    "---"
   ]
  }
 ],
 "metadata": {
  "language_info": {
   "name": "python"
  }
 },
 "nbformat": 4,
 "nbformat_minor": 5
}
