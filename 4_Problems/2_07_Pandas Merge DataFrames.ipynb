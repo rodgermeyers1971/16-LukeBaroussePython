{
 "cells": [
  {
   "cell_type": "markdown",
   "id": "ba416fb0",
   "metadata": {},
   "source": [
    "<a target=\"_blank\" href=\"https://colab.research.google.com/github/lukebarousse/Python_Data_Analytics_Course/blob/main/4_Problems/2_07_Pandas Merge DataFrames.ipynb\">\n",
    "  <img src=\"https://colab.research.google.com/assets/colab-badge.svg\" alt=\"Open In Colab\"/>\n",
    "</a>"
   ]
  },
  {
   "cell_type": "markdown",
   "id": "675a9607",
   "metadata": {},
   "source": [
    "## 🟩 Merge US Jobs and Monthly Postings (2.7.1)"
   ]
  },
  {
   "cell_type": "code",
   "execution_count": null,
   "id": "ebfec2c4",
   "metadata": {},
   "outputs": [],
   "source": []
  },
  {
   "cell_type": "markdown",
   "id": "b7862c05",
   "metadata": {},
   "source": [
    "---"
   ]
  },
  {
   "cell_type": "markdown",
   "id": "afa5893d",
   "metadata": {},
   "source": [
    "## 🟨 Merge Non-Remote Jobs and Salary (2.7.2)"
   ]
  },
  {
   "cell_type": "code",
   "execution_count": null,
   "id": "0d891d82",
   "metadata": {},
   "outputs": [],
   "source": []
  },
  {
   "cell_type": "markdown",
   "id": "a8d6a556",
   "metadata": {},
   "source": [
    "---"
   ]
  },
  {
   "cell_type": "markdown",
   "id": "8bed639e",
   "metadata": {},
   "source": [
    "## 🟨 Merge Company Salary and Remote Count (2.7.3)"
   ]
  },
  {
   "cell_type": "code",
   "execution_count": null,
   "id": "2ba7d270",
   "metadata": {},
   "outputs": [],
   "source": []
  },
  {
   "cell_type": "markdown",
   "id": "f78a6c9a",
   "metadata": {},
   "source": [
    "---"
   ]
  }
 ],
 "metadata": {},
 "nbformat": 4,
 "nbformat_minor": 5
}
