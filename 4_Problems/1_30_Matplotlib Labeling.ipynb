{
 "cells": [
  {
   "cell_type": "markdown",
   "id": "0703f44a",
   "metadata": {},
   "source": [
    "<a target=\"_blank\" href=\"https://colab.research.google.com/github/lukebarousse/Python_Data_Analytics_Course/blob/main/4_Problems/1_30_Matplotlib Labeling.ipynb\">\n",
    "  <img src=\"https://colab.research.google.com/assets/colab-badge.svg\" alt=\"Open In Colab\"/>\n",
    "</a>"
   ]
  },
  {
   "cell_type": "code",
   "execution_count": null,
   "id": "548eece6",
   "metadata": {},
   "outputs": [],
   "source": [
    "!pip install datasets\n",
    "import pandas as pd\n",
    "from datasets import load_dataset\n",
    "import matplotlib.pyplot as plt\n",
    "\n",
    "dataset = load_dataset('lukebarousse/data_jobs')\n",
    "df = dataset['train'].to_pandas()\n",
    "df['job_posted_date'] = pd.to_datetime(df['job_posted_date'])"
   ]
  },
  {
   "cell_type": "markdown",
   "id": "ed3bacd0",
   "metadata": {},
   "source": [
    "## 🟩 Bar Chart with Labels (1.30.1)"
   ]
  },
  {
   "cell_type": "code",
   "execution_count": null,
   "id": "22459676",
   "metadata": {},
   "outputs": [],
   "source": []
  },
  {
   "cell_type": "markdown",
   "id": "3a7353b4",
   "metadata": {},
   "source": [
    "---"
   ]
  },
  {
   "cell_type": "markdown",
   "id": "23c9e371",
   "metadata": {},
   "source": [
    "## 🟨 Horizontal Bar Chart with Labels (1.30.2)"
   ]
  },
  {
   "cell_type": "code",
   "execution_count": null,
   "id": "e724a462",
   "metadata": {},
   "outputs": [],
   "source": []
  },
  {
   "cell_type": "markdown",
   "id": "aa126c63",
   "metadata": {},
   "source": [
    "---"
   ]
  },
  {
   "cell_type": "markdown",
   "id": "f11961f7",
   "metadata": {},
   "source": [
    "## 🟥 Line Chart with Labels (1.30.3)"
   ]
  },
  {
   "cell_type": "code",
   "execution_count": null,
   "id": "124fcae1",
   "metadata": {},
   "outputs": [],
   "source": []
  },
  {
   "cell_type": "markdown",
   "id": "3273c41b",
   "metadata": {},
   "source": [
    "---"
   ]
  }
 ],
 "metadata": {
  "language_info": {
   "name": "python"
  }
 },
 "nbformat": 4,
 "nbformat_minor": 5
}
