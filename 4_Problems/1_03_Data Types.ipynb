{
 "cells": [
  {
   "cell_type": "markdown",
   "id": "7ab4aeb5",
   "metadata": {},
   "source": [
    "<a target=\"_blank\" href=\"https://colab.research.google.com/github/lukebarousse/Python_Data_Analytics_Course/blob/main/4_Problems/1_03_Data Types.ipynb\">\n",
    "  <img src=\"https://colab.research.google.com/assets/colab-badge.svg\" alt=\"Open In Colab\"/>\n",
    "</a>"
   ]
  },
  {
   "cell_type": "markdown",
   "id": "5574e3d0",
   "metadata": {},
   "source": [
    "## 🟩 Check Data Type (1.3.1)"
   ]
  },
  {
   "cell_type": "code",
   "execution_count": null,
   "id": "ca389065",
   "metadata": {},
   "outputs": [],
   "source": [
    "# Code Needed\n",
    "job_title = 'Data Scientist'"
   ]
  },
  {
   "cell_type": "markdown",
   "id": "7b166e5c",
   "metadata": {},
   "source": [
    "---"
   ]
  },
  {
   "cell_type": "markdown",
   "id": "bc4093b6",
   "metadata": {},
   "source": [
    "## 🟩 Check Float Type (1.3.2)"
   ]
  },
  {
   "cell_type": "code",
   "execution_count": null,
   "id": "07954965",
   "metadata": {},
   "outputs": [],
   "source": [
    "# Code Needed\n",
    "salary = 85000.50"
   ]
  },
  {
   "cell_type": "markdown",
   "id": "37ad30b0",
   "metadata": {},
   "source": [
    "---"
   ]
  },
  {
   "cell_type": "markdown",
   "id": "ba5f1ead",
   "metadata": {},
   "source": [
    "## 🟨 Convert to Integer (1.3.3)"
   ]
  },
  {
   "cell_type": "code",
   "execution_count": null,
   "id": "4ab358e6",
   "metadata": {},
   "outputs": [],
   "source": [
    "# Code Needed\n",
    "salary_rate = 120000.75"
   ]
  },
  {
   "cell_type": "markdown",
   "id": "5cd8185f",
   "metadata": {},
   "source": [
    "---"
   ]
  },
  {
   "cell_type": "markdown",
   "id": "54a9cf24",
   "metadata": {},
   "source": [
    "## 🟥 Check String Type (1.3.4)"
   ]
  },
  {
   "cell_type": "code",
   "execution_count": null,
   "id": "b34b708d",
   "metadata": {},
   "outputs": [],
   "source": [
    "# Code Needed\n",
    "company_name = 'DataWiz Inc.'"
   ]
  },
  {
   "cell_type": "markdown",
   "id": "d3225984",
   "metadata": {},
   "source": [
    "---"
   ]
  }
 ],
 "metadata": {},
 "nbformat": 4,
 "nbformat_minor": 5
}
