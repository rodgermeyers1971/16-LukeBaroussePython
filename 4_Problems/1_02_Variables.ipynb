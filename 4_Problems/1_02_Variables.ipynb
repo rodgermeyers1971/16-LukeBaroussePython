{
 "cells": [
  {
   "cell_type": "markdown",
   "id": "2466476d",
   "metadata": {},
   "source": [
    "<a target=\"_blank\" href=\"https://colab.research.google.com/github/lukebarousse/Python_Data_Analytics_Course/blob/main/4_Problems/1_02_Variables.ipynb\">\n",
    "  <img src=\"https://colab.research.google.com/assets/colab-badge.svg\" alt=\"Open In Colab\"/>\n",
    "</a>"
   ]
  },
  {
   "cell_type": "markdown",
   "id": "e37d427b",
   "metadata": {},
   "source": [
    "## 🟩 Job Postings Count (1.2.1)"
   ]
  },
  {
   "cell_type": "code",
   "execution_count": null,
   "id": "050c33c7",
   "metadata": {},
   "outputs": [],
   "source": []
  },
  {
   "cell_type": "markdown",
   "id": "d6222211",
   "metadata": {},
   "source": [
    "---"
   ]
  },
  {
   "cell_type": "markdown",
   "id": "4f5e520d",
   "metadata": {},
   "source": [
    "## 🟩 Job Information (1.2.2)"
   ]
  },
  {
   "cell_type": "code",
   "execution_count": null,
   "id": "c2ad2c6f",
   "metadata": {},
   "outputs": [],
   "source": []
  },
  {
   "cell_type": "markdown",
   "id": "9410701d",
   "metadata": {},
   "source": [
    "---"
   ]
  },
  {
   "cell_type": "markdown",
   "id": "42b41453",
   "metadata": {},
   "source": [
    "## 🟨 Calculate Total Compensation (1.2.3)"
   ]
  },
  {
   "cell_type": "code",
   "execution_count": null,
   "id": "090d299d",
   "metadata": {},
   "outputs": [],
   "source": []
  },
  {
   "cell_type": "markdown",
   "id": "265b0fb2",
   "metadata": {},
   "source": [
    "---"
   ]
  },
  {
   "cell_type": "markdown",
   "id": "75d875ee",
   "metadata": {},
   "source": [
    "## 🟨 Calculate Monthly Salary (1.2.4)"
   ]
  },
  {
   "cell_type": "code",
   "execution_count": null,
   "id": "34f25c43",
   "metadata": {},
   "outputs": [],
   "source": []
  },
  {
   "cell_type": "markdown",
   "id": "c56037ed",
   "metadata": {},
   "source": [
    "---"
   ]
  },
  {
   "cell_type": "markdown",
   "id": "202fff0c",
   "metadata": {},
   "source": [
    "## 🟥 Calculate Total Compensation with Bonus (1.2.5)"
   ]
  },
  {
   "cell_type": "code",
   "execution_count": null,
   "id": "50ef2f55",
   "metadata": {},
   "outputs": [],
   "source": []
  },
  {
   "cell_type": "markdown",
   "id": "e7cda152",
   "metadata": {},
   "source": [
    "---"
   ]
  }
 ],
 "metadata": {},
 "nbformat": 4,
 "nbformat_minor": 5
}
