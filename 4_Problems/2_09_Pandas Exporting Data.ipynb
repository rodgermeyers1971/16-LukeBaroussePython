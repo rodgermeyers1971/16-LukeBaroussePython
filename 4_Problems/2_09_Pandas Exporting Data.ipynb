{
 "cells": [
  {
   "cell_type": "markdown",
   "id": "5f611dec",
   "metadata": {},
   "source": [
    "<a target=\"_blank\" href=\"https://colab.research.google.com/github/lukebarousse/Python_Data_Analytics_Course/blob/main/4_Problems/2_09_Pandas Exporting Data.ipynb\">\n",
    "  <img src=\"https://colab.research.google.com/assets/colab-badge.svg\" alt=\"Open In Colab\"/>\n",
    "</a>"
   ]
  },
  {
   "cell_type": "markdown",
   "id": "305d444b",
   "metadata": {},
   "source": [
    "## 🟩 Export to CSV (2.9.1)"
   ]
  },
  {
   "cell_type": "code",
   "execution_count": null,
   "id": "21511e09",
   "metadata": {},
   "outputs": [],
   "source": []
  },
  {
   "cell_type": "markdown",
   "id": "b31df39f",
   "metadata": {},
   "source": [
    "---"
   ]
  },
  {
   "cell_type": "markdown",
   "id": "a69496cd",
   "metadata": {},
   "source": [
    "## 🟨 Export to Excel (2.9.2)"
   ]
  },
  {
   "cell_type": "code",
   "execution_count": null,
   "id": "0c108c5d",
   "metadata": {},
   "outputs": [],
   "source": []
  },
  {
   "cell_type": "markdown",
   "id": "792e3d8b",
   "metadata": {},
   "source": [
    "---"
   ]
  },
  {
   "cell_type": "markdown",
   "id": "12f0ff69",
   "metadata": {},
   "source": [
    "## 🟥 Filter and Export to CSV (2.9.3)"
   ]
  },
  {
   "cell_type": "code",
   "execution_count": null,
   "id": "ecee8e56",
   "metadata": {},
   "outputs": [],
   "source": []
  },
  {
   "cell_type": "markdown",
   "id": "62bf636c",
   "metadata": {},
   "source": [
    "---"
   ]
  }
 ],
 "metadata": {},
 "nbformat": 4,
 "nbformat_minor": 5
}
