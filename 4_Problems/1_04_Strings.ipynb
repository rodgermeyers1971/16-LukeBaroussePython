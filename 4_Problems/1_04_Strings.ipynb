{
 "cells": [
  {
   "cell_type": "markdown",
   "id": "1ecc411a",
   "metadata": {},
   "source": [
    "<a target=\"_blank\" href=\"https://colab.research.google.com/github/lukebarousse/Python_Data_Analytics_Course/blob/main/4_Problems/1_04_Strings.ipynb\">\n",
    "  <img src=\"https://colab.research.google.com/assets/colab-badge.svg\" alt=\"Open In Colab\"/>\n",
    "</a>"
   ]
  },
  {
   "cell_type": "markdown",
   "id": "c03b0f9a",
   "metadata": {},
   "source": [
    "## 🟩 Convert to Uppercase (1.4.1)"
   ]
  },
  {
   "cell_type": "code",
   "execution_count": null,
   "id": "ed154db0",
   "metadata": {},
   "outputs": [],
   "source": [
    "# Code Needed\n",
    "job_title = 'data scientist'"
   ]
  },
  {
   "cell_type": "markdown",
   "id": "352397ff",
   "metadata": {},
   "source": [
    "---"
   ]
  },
  {
   "cell_type": "markdown",
   "id": "4203b265",
   "metadata": {},
   "source": [
    "## 🟩 Replace Substring (1.4.2)"
   ]
  },
  {
   "cell_type": "code",
   "execution_count": null,
   "id": "9088a3fb",
   "metadata": {},
   "outputs": [],
   "source": [
    "# Code Needed\n",
    "job_title = 'Data Analyst'"
   ]
  },
  {
   "cell_type": "markdown",
   "id": "d3b7cb4d",
   "metadata": {},
   "source": [
    "---"
   ]
  },
  {
   "cell_type": "markdown",
   "id": "23c6e347",
   "metadata": {},
   "source": [
    "## 🟨 Concatenate Strings (1.4.3)"
   ]
  },
  {
   "cell_type": "code",
   "execution_count": null,
   "id": "1c7fb9f8",
   "metadata": {},
   "outputs": [],
   "source": [
    "# Code Needed\n",
    "seniority_level = 'Senior'\n",
    "job_title = 'Data Analyst'"
   ]
  },
  {
   "cell_type": "markdown",
   "id": "cc76f111",
   "metadata": {},
   "source": [
    "---"
   ]
  },
  {
   "cell_type": "markdown",
   "id": "ec722767",
   "metadata": {},
   "source": [
    "## 🟨 Check String Length (1.4.4)"
   ]
  },
  {
   "cell_type": "code",
   "execution_count": null,
   "id": "9f81d0d5",
   "metadata": {},
   "outputs": [],
   "source": [
    "# Code Needed\n",
    "job_title = 'Data Scientist'"
   ]
  },
  {
   "cell_type": "markdown",
   "id": "4a8d3a3c",
   "metadata": {},
   "source": [
    "---"
   ]
  },
  {
   "cell_type": "markdown",
   "id": "c41c4f1a",
   "metadata": {},
   "source": [
    "## 🟩 Convert to lowercase (1.4.5)"
   ]
  },
  {
   "cell_type": "code",
   "execution_count": null,
   "id": "74a3336c",
   "metadata": {},
   "outputs": [],
   "source": [
    "# Code Needed\n",
    "job_title = 'DATA ENGINEER'"
   ]
  },
  {
   "cell_type": "markdown",
   "id": "bfce44ab",
   "metadata": {},
   "source": [
    "---"
   ]
  }
 ],
 "metadata": {},
 "nbformat": 4,
 "nbformat_minor": 5
}
