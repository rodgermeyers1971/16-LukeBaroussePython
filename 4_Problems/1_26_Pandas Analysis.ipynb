{
 "cells": [
  {
   "cell_type": "markdown",
   "id": "40dec99e",
   "metadata": {},
   "source": [
    "<a target=\"_blank\" href=\"https://colab.research.google.com/github/lukebarousse/Python_Data_Analytics_Course/blob/main/4_Problems/1_26_Pandas Analysis.ipynb\">\n",
    "  <img src=\"https://colab.research.google.com/assets/colab-badge.svg\" alt=\"Open In Colab\"/>\n",
    "</a>"
   ]
  },
  {
   "cell_type": "code",
   "execution_count": null,
   "id": "eefc52a1",
   "metadata": {},
   "outputs": [],
   "source": [
    "!pip install datasets\n",
    "import pandas as pd\n",
    "from datasets import load_dataset\n",
    "\n",
    "dataset = load_dataset('lukebarousse/data_jobs')\n",
    "df = dataset['train'].to_pandas()"
   ]
  },
  {
   "cell_type": "markdown",
   "id": "7844af8b",
   "metadata": {},
   "source": [
    "---"
   ]
  },
  {
   "cell_type": "markdown",
   "id": "5d733348",
   "metadata": {},
   "source": [
    "## 🟩 Calculate Mean Salary (1.26.1)"
   ]
  },
  {
   "cell_type": "code",
   "execution_count": null,
   "id": "d9f8a257",
   "metadata": {},
   "outputs": [],
   "source": []
  },
  {
   "cell_type": "markdown",
   "id": "c4e7d336",
   "metadata": {},
   "source": [
    "---"
   ]
  },
  {
   "cell_type": "markdown",
   "id": "d14016ea",
   "metadata": {},
   "source": [
    "## 🟩 Calculate Median Salary (1.26.2)"
   ]
  },
  {
   "cell_type": "code",
   "execution_count": null,
   "id": "db0c7fc0",
   "metadata": {},
   "outputs": [],
   "source": []
  },
  {
   "cell_type": "markdown",
   "id": "3cfe7676",
   "metadata": {},
   "source": [
    "---"
   ]
  },
  {
   "cell_type": "markdown",
   "id": "055273e7",
   "metadata": {},
   "source": [
    "## 🟨 Average Hourly Salary by Job Title (1.26.3)"
   ]
  },
  {
   "cell_type": "code",
   "execution_count": null,
   "id": "92477f78",
   "metadata": {},
   "outputs": [],
   "source": []
  },
  {
   "cell_type": "markdown",
   "id": "94fde84a",
   "metadata": {},
   "source": [
    "---"
   ]
  },
  {
   "cell_type": "markdown",
   "id": "016296cd",
   "metadata": {},
   "source": [
    "## 🟨 Job with Lowest Salary (1.26.4)"
   ]
  },
  {
   "cell_type": "code",
   "execution_count": null,
   "id": "0692c4b3",
   "metadata": {},
   "outputs": [],
   "source": []
  },
  {
   "cell_type": "markdown",
   "id": "7ee46dc2",
   "metadata": {},
   "source": [
    "---"
   ]
  },
  {
   "cell_type": "markdown",
   "id": "8d15c109",
   "metadata": {},
   "source": [
    "## 🟨 Job Count by Country (1.26.5)"
   ]
  },
  {
   "cell_type": "code",
   "execution_count": null,
   "id": "d89edae3",
   "metadata": {},
   "outputs": [],
   "source": []
  },
  {
   "cell_type": "markdown",
   "id": "6d5d0527",
   "metadata": {},
   "source": [
    "---"
   ]
  }
 ],
 "metadata": {
  "kernelspec": {
   "display_name": "python_course",
   "language": "python",
   "name": "python3"
  },
  "language_info": {
   "codemirror_mode": {
    "name": "ipython",
    "version": 3
   },
   "file_extension": ".py",
   "mimetype": "text/x-python",
   "name": "python",
   "nbconvert_exporter": "python",
   "pygments_lexer": "ipython3",
   "version": "3.1.undefined"
  }
 },
 "nbformat": 4,
 "nbformat_minor": 5
}
