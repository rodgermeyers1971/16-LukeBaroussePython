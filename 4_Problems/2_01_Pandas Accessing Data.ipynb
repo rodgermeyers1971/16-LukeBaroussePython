{
 "cells": [
  {
   "cell_type": "markdown",
   "id": "62f62a7e",
   "metadata": {},
   "source": [
    "<a target=\"_blank\" href=\"https://colab.research.google.com/github/lukebarousse/Python_Data_Analytics_Course/blob/main/4_Problems/2_01_Pandas Accessing Data.ipynb\">\n",
    "  <img src=\"https://colab.research.google.com/assets/colab-badge.svg\" alt=\"Open In Colab\"/>\n",
    "</a>"
   ]
  },
  {
   "cell_type": "markdown",
   "id": "a80f4fde",
   "metadata": {},
   "source": [
    "## 🟩 Select First 5 Rows (2.1.1)"
   ]
  },
  {
   "cell_type": "code",
   "execution_count": null,
   "id": "f9be5721",
   "metadata": {},
   "outputs": [],
   "source": []
  },
  {
   "cell_type": "markdown",
   "id": "23f90513",
   "metadata": {},
   "source": [
    "---"
   ]
  },
  {
   "cell_type": "markdown",
   "id": "99a28184",
   "metadata": {},
   "source": [
    "## 🟩 Get Rows and Columns (2.1.2)"
   ]
  },
  {
   "cell_type": "code",
   "execution_count": null,
   "id": "0e819754",
   "metadata": {},
   "outputs": [],
   "source": []
  },
  {
   "cell_type": "markdown",
   "id": "12c9f18d",
   "metadata": {},
   "source": [
    "---"
   ]
  },
  {
   "cell_type": "markdown",
   "id": "952eb7fe",
   "metadata": {},
   "source": [
    "## 🟨 First 15 Rows in US (2.1.3)"
   ]
  },
  {
   "cell_type": "code",
   "execution_count": null,
   "id": "4b2165ea",
   "metadata": {},
   "outputs": [],
   "source": []
  },
  {
   "cell_type": "markdown",
   "id": "bc171b93",
   "metadata": {},
   "source": [
    "---"
   ]
  },
  {
   "cell_type": "markdown",
   "id": "00c7ed0f",
   "metadata": {},
   "source": [
    "## 🟥 Filter by Date (2.1.4)"
   ]
  },
  {
   "cell_type": "code",
   "execution_count": null,
   "id": "3ac64380",
   "metadata": {},
   "outputs": [],
   "source": []
  },
  {
   "cell_type": "markdown",
   "id": "87cc6677",
   "metadata": {},
   "source": [
    "---"
   ]
  }
 ],
 "metadata": {},
 "nbformat": 4,
 "nbformat_minor": 5
}
