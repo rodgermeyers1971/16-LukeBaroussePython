{
 "cells": [
  {
   "cell_type": "markdown",
   "id": "1324a683",
   "metadata": {},
   "source": [
    "<a target=\"_blank\" href=\"https://colab.research.google.com/github/lukebarousse/Python_Data_Analytics_Course/blob/main/4_Problems/1_08_Lists.ipynb\">\n",
    "  <img src=\"https://colab.research.google.com/assets/colab-badge.svg\" alt=\"Open In Colab\"/>\n",
    "</a>"
   ]
  },
  {
   "cell_type": "markdown",
   "id": "1838d998",
   "metadata": {},
   "source": [
    "## 🟩 Access Second Job Title (1.8.1)"
   ]
  },
  {
   "cell_type": "code",
   "execution_count": null,
   "id": "1985369d",
   "metadata": {},
   "outputs": [],
   "source": [
    "# Code Needed\n",
    "job_titles = ['Data Scientist', 'Data Analyst', 'Machine Learning Engineer']"
   ]
  },
  {
   "cell_type": "markdown",
   "id": "51c4691d",
   "metadata": {},
   "source": [
    "---"
   ]
  },
  {
   "cell_type": "markdown",
   "id": "845d3703",
   "metadata": {},
   "source": [
    "## 🟩 Change Third Job Title (1.8.2)"
   ]
  },
  {
   "cell_type": "code",
   "execution_count": null,
   "id": "ec22c646",
   "metadata": {},
   "outputs": [],
   "source": [
    "# Code Needed\n",
    "job_titles = ['Data Scientist', 'Data Analyst', 'Machine Learning Engineer']"
   ]
  },
  {
   "cell_type": "markdown",
   "id": "f0432a95",
   "metadata": {},
   "source": [
    "---"
   ]
  },
  {
   "cell_type": "markdown",
   "id": "03761a20",
   "metadata": {},
   "source": [
    "## 🟩 Slice Job Titles List (1.8.3)"
   ]
  },
  {
   "cell_type": "code",
   "execution_count": null,
   "id": "6e2440ca",
   "metadata": {},
   "outputs": [],
   "source": [
    "# Code Needed\n",
    "job_titles = ['Data Scientist', 'Data Analyst', 'Machine Learning Engineer', 'Data Engineer']"
   ]
  },
  {
   "cell_type": "markdown",
   "id": "574cb0d1",
   "metadata": {},
   "source": [
    "---"
   ]
  },
  {
   "cell_type": "markdown",
   "id": "251109f7",
   "metadata": {},
   "source": [
    "## 🟨 Append Job Title (1.8.4)"
   ]
  },
  {
   "cell_type": "code",
   "execution_count": null,
   "id": "fa121574",
   "metadata": {},
   "outputs": [],
   "source": [
    "# Code Needed\n",
    "job_titles = ['Data Scientist', 'Data Analyst', 'Machine Learning Engineer']"
   ]
  },
  {
   "cell_type": "markdown",
   "id": "af25c586",
   "metadata": {},
   "source": [
    "---"
   ]
  },
  {
   "cell_type": "markdown",
   "id": "e5b2814d",
   "metadata": {},
   "source": [
    "## 🟨 Insert Job Title (1.8.5)"
   ]
  },
  {
   "cell_type": "code",
   "execution_count": null,
   "id": "82ac8332",
   "metadata": {},
   "outputs": [],
   "source": [
    "# Code Needed\n",
    "job_titles = ['Data Scientist', 'Data Analyst', 'Machine Learning Engineer']"
   ]
  },
  {
   "cell_type": "markdown",
   "id": "5c04345c",
   "metadata": {},
   "source": [
    "---"
   ]
  }
 ],
 "metadata": {},
 "nbformat": 4,
 "nbformat_minor": 5
}
