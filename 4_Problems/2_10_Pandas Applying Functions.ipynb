{
 "cells": [
  {
   "cell_type": "markdown",
   "id": "a11b57f7",
   "metadata": {},
   "source": [
    "<a target=\"_blank\" href=\"https://colab.research.google.com/github/lukebarousse/Python_Data_Analytics_Course/blob/main/4_Problems/2_10_Pandas Applying Functions.ipynb\">\n",
    "  <img src=\"https://colab.research.google.com/assets/colab-badge.svg\" alt=\"Open In Colab\"/>\n",
    "</a>"
   ]
  },
  {
   "cell_type": "markdown",
   "id": "3510f08a",
   "metadata": {},
   "source": [
    "## 🟩 Convert Date to String (2.10.1)"
   ]
  },
  {
   "cell_type": "code",
   "execution_count": null,
   "id": "83f9136e",
   "metadata": {},
   "outputs": [],
   "source": []
  },
  {
   "cell_type": "markdown",
   "id": "e7796378",
   "metadata": {},
   "source": [
    "---"
   ]
  },
  {
   "cell_type": "markdown",
   "id": "46bac43e",
   "metadata": {},
   "source": [
    "## 🟨 Days Since Posted (2.10.2)"
   ]
  },
  {
   "cell_type": "code",
   "execution_count": null,
   "id": "730e04c1",
   "metadata": {},
   "outputs": [],
   "source": []
  },
  {
   "cell_type": "markdown",
   "id": "fd9245ae",
   "metadata": {},
   "source": [
    "---"
   ]
  },
  {
   "cell_type": "markdown",
   "id": "f4317b30",
   "metadata": {},
   "source": [
    "## 🟥 Salary Category (2.10.3)"
   ]
  },
  {
   "cell_type": "code",
   "execution_count": null,
   "id": "56638d70",
   "metadata": {},
   "outputs": [],
   "source": []
  },
  {
   "cell_type": "markdown",
   "id": "9b0f74eb",
   "metadata": {},
   "source": [
    "---"
   ]
  }
 ],
 "metadata": {},
 "nbformat": 4,
 "nbformat_minor": 5
}
