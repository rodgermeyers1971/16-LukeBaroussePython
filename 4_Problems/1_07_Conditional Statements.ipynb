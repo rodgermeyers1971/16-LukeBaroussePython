{
 "cells": [
  {
   "cell_type": "markdown",
   "id": "e3327670",
   "metadata": {},
   "source": [
    "<a target=\"_blank\" href=\"https://colab.research.google.com/github/lukebarousse/Python_Data_Analytics_Course/blob/main/4_Problems/1_07_Conditional Statements.ipynb\">\n",
    "  <img src=\"https://colab.research.google.com/assets/colab-badge.svg\" alt=\"Open In Colab\"/>\n",
    "</a>"
   ]
  },
  {
   "cell_type": "markdown",
   "id": "2aaa1761",
   "metadata": {},
   "source": [
    "## 🟩 Determine Python Experience (1.7.1)"
   ]
  },
  {
   "cell_type": "code",
   "execution_count": null,
   "id": "9eaa2dc1",
   "metadata": {},
   "outputs": [],
   "source": [
    "# Code Needed\n",
    "python_experience = 3"
   ]
  },
  {
   "cell_type": "markdown",
   "id": "e5985de7",
   "metadata": {},
   "source": [
    "---"
   ]
  },
  {
   "cell_type": "markdown",
   "id": "1d103802",
   "metadata": {},
   "source": [
    "## 🟨 Determine Job Skill Level (1.7.2)"
   ]
  },
  {
   "cell_type": "code",
   "execution_count": null,
   "id": "bb543cdd",
   "metadata": {},
   "outputs": [],
   "source": [
    "# Code Needed\n",
    "tools_known = 3"
   ]
  },
  {
   "cell_type": "markdown",
   "id": "fdf0324b",
   "metadata": {},
   "source": [
    "---"
   ]
  },
  {
   "cell_type": "markdown",
   "id": "847f3e27",
   "metadata": {},
   "source": [
    "## 🟥 Determine Job Title (1.7.3)"
   ]
  },
  {
   "cell_type": "code",
   "execution_count": null,
   "id": "f73925e8",
   "metadata": {},
   "outputs": [],
   "source": [
    "# Code Needed\n",
    "job_experience = 4\n",
    "sql_experience = 2"
   ]
  },
  {
   "cell_type": "markdown",
   "id": "5a5189c6",
   "metadata": {},
   "source": [
    "---"
   ]
  }
 ],
 "metadata": {},
 "nbformat": 4,
 "nbformat_minor": 5
}
