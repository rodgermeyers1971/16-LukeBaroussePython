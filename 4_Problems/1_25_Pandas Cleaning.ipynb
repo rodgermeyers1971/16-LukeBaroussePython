{
 "cells": [
  {
   "cell_type": "markdown",
   "id": "b04ed111",
   "metadata": {},
   "source": [
    "<a target=\"_blank\" href=\"https://colab.research.google.com/github/lukebarousse/Python_Data_Analytics_Course/blob/main/4_Problems/1_25_Pandas Cleaning.ipynb\">\n",
    "  <img src=\"https://colab.research.google.com/assets/colab-badge.svg\" alt=\"Open In Colab\"/>\n",
    "</a>"
   ]
  },
  {
   "cell_type": "code",
   "execution_count": null,
   "id": "23abf27f",
   "metadata": {},
   "outputs": [],
   "source": [
    "!pip install datasets\n",
    "import pandas as pd\n",
    "from datasets import load_dataset\n",
    "\n",
    "dataset = load_dataset('lukebarousse/data_jobs')\n",
    "df = dataset['train'].to_pandas()"
   ]
  },
  {
   "cell_type": "markdown",
   "id": "64ba78f2",
   "metadata": {},
   "source": [
    "---"
   ]
  },
  {
   "cell_type": "markdown",
   "id": "932400b4",
   "metadata": {},
   "source": [
    "## 🟩 Sort by Salary (1.25.1)"
   ]
  },
  {
   "cell_type": "code",
   "execution_count": null,
   "id": "60127095",
   "metadata": {},
   "outputs": [],
   "source": []
  },
  {
   "cell_type": "markdown",
   "id": "531775bc",
   "metadata": {},
   "source": [
    "---"
   ]
  },
  {
   "cell_type": "markdown",
   "id": "8239c7cd",
   "metadata": {},
   "source": [
    "## 🟩 Create Remote Column (1.25.2)"
   ]
  },
  {
   "cell_type": "code",
   "execution_count": null,
   "id": "25ae2463",
   "metadata": {},
   "outputs": [],
   "source": []
  },
  {
   "cell_type": "markdown",
   "id": "bcafbad6",
   "metadata": {},
   "source": [
    "---"
   ]
  },
  {
   "cell_type": "markdown",
   "id": "94649dba",
   "metadata": {},
   "source": [
    "## 🟩 Extract Year from Date (1.25.3)"
   ]
  },
  {
   "cell_type": "code",
   "execution_count": null,
   "id": "080db289",
   "metadata": {},
   "outputs": [],
   "source": []
  },
  {
   "cell_type": "markdown",
   "id": "8d9786a0",
   "metadata": {},
   "source": [
    "---"
   ]
  },
  {
   "cell_type": "markdown",
   "id": "09c072b3",
   "metadata": {},
   "source": [
    "## 🟨 Drop Missing Salaries (1.25.4)"
   ]
  },
  {
   "cell_type": "code",
   "execution_count": null,
   "id": "31153763",
   "metadata": {},
   "outputs": [],
   "source": []
  },
  {
   "cell_type": "markdown",
   "id": "3910b05a",
   "metadata": {},
   "source": [
    "---"
   ]
  }
 ],
 "metadata": {
  "language_info": {
   "name": "python"
  }
 },
 "nbformat": 4,
 "nbformat_minor": 5
}
