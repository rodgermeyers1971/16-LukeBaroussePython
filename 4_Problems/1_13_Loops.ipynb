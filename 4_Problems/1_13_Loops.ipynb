{
 "cells": [
  {
   "cell_type": "markdown",
   "id": "d307ee11",
   "metadata": {},
   "source": [
    "<a target=\"_blank\" href=\"https://colab.research.google.com/github/lukebarousse/Python_Data_Analytics_Course/blob/main/4_Problems/1_13_Loops.ipynb\">\n",
    "  <img src=\"https://colab.research.google.com/assets/colab-badge.svg\" alt=\"Open In Colab\"/>\n",
    "</a>"
   ]
  },
  {
   "cell_type": "markdown",
   "id": "37897aa9",
   "metadata": {},
   "source": [
    "## 🟩 Print Job Titles (1.13.1)"
   ]
  },
  {
   "cell_type": "code",
   "execution_count": null,
   "id": "45d217e3",
   "metadata": {},
   "outputs": [],
   "source": [
    "# Code Needed\n",
    "job_titles = ['Data Scientist', 'Data Analyst', 'Machine Learning Engineer']"
   ]
  },
  {
   "cell_type": "markdown",
   "id": "1943a324",
   "metadata": {},
   "source": [
    "---"
   ]
  },
  {
   "cell_type": "markdown",
   "id": "90020e24",
   "metadata": {},
   "source": [
    "## 🟩 Total Job Postings (1.13.2)"
   ]
  },
  {
   "cell_type": "code",
   "execution_count": null,
   "id": "038f046a",
   "metadata": {},
   "outputs": [],
   "source": [
    "# Code Needed\n",
    "job_postings = [5, 10, 15, 20, 25]"
   ]
  },
  {
   "cell_type": "markdown",
   "id": "b4abe1cc",
   "metadata": {},
   "source": [
    "---"
   ]
  },
  {
   "cell_type": "markdown",
   "id": "4eec072a",
   "metadata": {},
   "source": [
    "## 🟨 Print Job Titles with Index (1.13.3)"
   ]
  },
  {
   "cell_type": "code",
   "execution_count": null,
   "id": "ee175f7b",
   "metadata": {},
   "outputs": [],
   "source": [
    "# Code Needed\n",
    "job_titles = ['Data Scientist', 'Data Analyst', 'Machine Learning Engineer']"
   ]
  },
  {
   "cell_type": "markdown",
   "id": "d2d5f706",
   "metadata": {},
   "source": [
    "---"
   ]
  },
  {
   "cell_type": "markdown",
   "id": "7001cfa8",
   "metadata": {},
   "source": [
    "## 🟨 Find First Engineer (1.13.4)"
   ]
  },
  {
   "cell_type": "code",
   "execution_count": null,
   "id": "724ac1bf",
   "metadata": {},
   "outputs": [],
   "source": [
    "# Code Needed\n",
    "job_titles = ['Data Scientist', 'Data Analyst', 'Machine Learning Engineer', 'Software Engineer']"
   ]
  },
  {
   "cell_type": "markdown",
   "id": "2021b7cd",
   "metadata": {},
   "source": [
    "---"
   ]
  },
  {
   "cell_type": "markdown",
   "id": "be1bf346",
   "metadata": {},
   "source": [
    "## 🟥 Print Job Titles Containing 'Data' (1.13.5)"
   ]
  },
  {
   "cell_type": "code",
   "execution_count": null,
   "id": "c71d29c9",
   "metadata": {},
   "outputs": [],
   "source": [
    "# Code Needed\n",
    "positions_skills = {\n",
    "    'Data Scientist': ['Python', 'R'],\n",
    "    'Data Analyst': ['SQL', 'Excel'],\n",
    "    'Machine Learning Engineer': ['Python', 'TensorFlow']\n",
    "}"
   ]
  },
  {
   "cell_type": "markdown",
   "id": "11af0530",
   "metadata": {},
   "source": [
    "---"
   ]
  }
 ],
 "metadata": {},
 "nbformat": 4,
 "nbformat_minor": 5
}
