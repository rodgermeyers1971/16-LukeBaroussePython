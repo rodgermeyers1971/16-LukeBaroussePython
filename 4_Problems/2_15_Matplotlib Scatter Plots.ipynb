{
 "cells": [
  {
   "cell_type": "markdown",
   "id": "b4352c3a",
   "metadata": {},
   "source": [
    "<a target=\"_blank\" href=\"https://colab.research.google.com/github/lukebarousse/Python_Data_Analytics_Course/blob/main/4_Problems/2_15_Matplotlib Scatter Plots.ipynb\">\n",
    "  <img src=\"https://colab.research.google.com/assets/colab-badge.svg\" alt=\"Open In Colab\"/>\n",
    "</a>"
   ]
  },
  {
   "cell_type": "markdown",
   "id": "c0c4e516",
   "metadata": {},
   "source": [
    "## 🟩 Mean Yearly Salary vs. Job Count (2.15.1)"
   ]
  },
  {
   "cell_type": "code",
   "execution_count": null,
   "id": "5cabb6f0",
   "metadata": {},
   "outputs": [],
   "source": []
  },
  {
   "cell_type": "markdown",
   "id": "f636b03f",
   "metadata": {},
   "source": [
    "---"
   ]
  },
  {
   "cell_type": "markdown",
   "id": "b7c76f1c",
   "metadata": {},
   "source": [
    "## 🟨 Top 5 Countries by Median Yearly Salary: Job Count vs. Median Salary (2.15.2)"
   ]
  },
  {
   "cell_type": "code",
   "execution_count": null,
   "id": "242a73b9",
   "metadata": {},
   "outputs": [],
   "source": []
  },
  {
   "cell_type": "markdown",
   "id": "860b094d",
   "metadata": {},
   "source": [
    "---"
   ]
  },
  {
   "cell_type": "markdown",
   "id": "420eccdc",
   "metadata": {},
   "source": [
    "## 🟥 Average Yearly Salary vs. Job Count for Specific Roles by Schedule Type (2.15.3)"
   ]
  },
  {
   "cell_type": "code",
   "execution_count": null,
   "id": "dd4df130",
   "metadata": {},
   "outputs": [],
   "source": []
  },
  {
   "cell_type": "markdown",
   "id": "e4c6f636",
   "metadata": {},
   "source": [
    "---"
   ]
  }
 ],
 "metadata": {},
 "nbformat": 4,
 "nbformat_minor": 5
}
