{
 "cells": [
  {
   "cell_type": "markdown",
   "id": "87890aeb",
   "metadata": {},
   "source": [
    "<a target=\"_blank\" href=\"https://colab.research.google.com/github/lukebarousse/Python_Data_Analytics_Course/blob/main/4_Problems/2_14_Matplotlib Pie Plots.ipynb\">\n",
    "  <img src=\"https://colab.research.google.com/assets/colab-badge.svg\" alt=\"Open In Colab\"/>\n",
    "</a>"
   ]
  },
  {
   "cell_type": "markdown",
   "id": "c472ef97",
   "metadata": {},
   "source": [
    "## 🟩 Health Insurance Pie Chart (2.14.1)"
   ]
  },
  {
   "cell_type": "code",
   "execution_count": null,
   "id": "f22ea563",
   "metadata": {},
   "outputs": [],
   "source": []
  },
  {
   "cell_type": "markdown",
   "id": "feec27e8",
   "metadata": {},
   "source": [
    "---"
   ]
  },
  {
   "cell_type": "markdown",
   "id": "8019f0b4",
   "metadata": {},
   "source": [
    "## 🟨 Job Schedule Distribution (2.14.2)"
   ]
  },
  {
   "cell_type": "code",
   "execution_count": null,
   "id": "946c3846",
   "metadata": {},
   "outputs": [],
   "source": []
  },
  {
   "cell_type": "markdown",
   "id": "82d56c54",
   "metadata": {},
   "source": [
    "---"
   ]
  },
  {
   "cell_type": "markdown",
   "id": "cb6c5ec1",
   "metadata": {},
   "source": [
    "## 🟨 Degree Requirements Pie Chart (2.14.3)"
   ]
  },
  {
   "cell_type": "code",
   "execution_count": null,
   "id": "af12c08a",
   "metadata": {},
   "outputs": [],
   "source": []
  },
  {
   "cell_type": "markdown",
   "id": "a6d8972e",
   "metadata": {},
   "source": [
    "---"
   ]
  }
 ],
 "metadata": {},
 "nbformat": 4,
 "nbformat_minor": 5
}
