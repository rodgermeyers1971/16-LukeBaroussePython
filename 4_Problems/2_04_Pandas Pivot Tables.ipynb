{
 "cells": [
  {
   "cell_type": "markdown",
   "id": "c938f726",
   "metadata": {},
   "source": [
    "<a target=\"_blank\" href=\"https://colab.research.google.com/github/lukebarousse/Python_Data_Analytics_Course/blob/main/4_Problems/2_04_Pandas Pivot Tables.ipynb\">\n",
    "  <img src=\"https://colab.research.google.com/assets/colab-badge.svg\" alt=\"Open In Colab\"/>\n",
    "</a>"
   ]
  },
  {
   "cell_type": "markdown",
   "id": "d4aeedce",
   "metadata": {},
   "source": [
    "## 🟩 Count Job Postings by Title and Country (2.4.1)"
   ]
  },
  {
   "cell_type": "code",
   "execution_count": null,
   "id": "32f1208b",
   "metadata": {},
   "outputs": [],
   "source": []
  },
  {
   "cell_type": "markdown",
   "id": "e4d809bb",
   "metadata": {},
   "source": [
    "---"
   ]
  },
  {
   "cell_type": "markdown",
   "id": "00be896a",
   "metadata": {},
   "source": [
    "## 🟨 Salary Stats by Job Title (2.4.2)"
   ]
  },
  {
   "cell_type": "code",
   "execution_count": null,
   "id": "e8626e94",
   "metadata": {},
   "outputs": [],
   "source": []
  },
  {
   "cell_type": "markdown",
   "id": "2dc1951b",
   "metadata": {},
   "source": [
    "---"
   ]
  },
  {
   "cell_type": "markdown",
   "id": "69a27730",
   "metadata": {},
   "source": [
    "## 🟥 Sum Salary by Title and Country (2.4.3)"
   ]
  },
  {
   "cell_type": "code",
   "execution_count": null,
   "id": "2affb01f",
   "metadata": {},
   "outputs": [],
   "source": []
  },
  {
   "cell_type": "markdown",
   "id": "a358d02d",
   "metadata": {},
   "source": [
    "---"
   ]
  }
 ],
 "metadata": {},
 "nbformat": 4,
 "nbformat_minor": 5
}
