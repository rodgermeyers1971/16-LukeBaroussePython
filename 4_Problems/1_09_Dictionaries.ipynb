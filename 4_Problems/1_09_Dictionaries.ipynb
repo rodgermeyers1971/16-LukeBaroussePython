{
 "cells": [
  {
   "cell_type": "markdown",
   "id": "a0409ef1",
   "metadata": {},
   "source": [
    "<a target=\"_blank\" href=\"https://colab.research.google.com/github/lukebarousse/Python_Data_Analytics_Course/blob/main/4_Problems/1_09_Dictionaries.ipynb\">\n",
    "  <img src=\"https://colab.research.google.com/assets/colab-badge.svg\" alt=\"Open In Colab\"/>\n",
    "</a>"
   ]
  },
  {
   "cell_type": "markdown",
   "id": "e9170a0a",
   "metadata": {},
   "source": [
    "## 🟩 Access Job Postings (1.9.1)"
   ]
  },
  {
   "cell_type": "code",
   "execution_count": null,
   "id": "c94b145c",
   "metadata": {},
   "outputs": [],
   "source": [
    "# Code Needed\n",
    "job_postings = {'Data Scientist': 120, 'Data Analyst': 80, 'Machine Learning Engineer': 50}"
   ]
  },
  {
   "cell_type": "markdown",
   "id": "6206eea6",
   "metadata": {},
   "source": [
    "---"
   ]
  },
  {
   "cell_type": "markdown",
   "id": "9a967eb2",
   "metadata": {},
   "source": [
    "## 🟩 Add Job Role (1.9.2)"
   ]
  },
  {
   "cell_type": "code",
   "execution_count": null,
   "id": "e142f46f",
   "metadata": {},
   "outputs": [],
   "source": [
    "# Code Needed\n",
    "job_postings = {'Data Scientist': 120, 'Data Analyst': 80, 'Machine Learning Engineer': 50}"
   ]
  },
  {
   "cell_type": "markdown",
   "id": "3305a885",
   "metadata": {},
   "source": [
    "---"
   ]
  },
  {
   "cell_type": "markdown",
   "id": "9d1a27ec",
   "metadata": {},
   "source": [
    "## 🟨 Remove Job Role (1.9.3)"
   ]
  },
  {
   "cell_type": "code",
   "execution_count": null,
   "id": "3e97c9cc",
   "metadata": {},
   "outputs": [],
   "source": [
    "# Code Needed\n",
    "job_postings = {'Data Scientist': 120, 'Data Analyst': 80, 'Machine Learning Engineer': 50}"
   ]
  },
  {
   "cell_type": "markdown",
   "id": "4e805b06",
   "metadata": {},
   "source": [
    "---"
   ]
  },
  {
   "cell_type": "markdown",
   "id": "bb334124",
   "metadata": {},
   "source": [
    "## 🟨 Merge Dictionaries (1.9.4)"
   ]
  },
  {
   "cell_type": "code",
   "execution_count": null,
   "id": "d2fd3ae2",
   "metadata": {},
   "outputs": [],
   "source": [
    "# Code Needed\n",
    "job_postings1 = {'Data Scientist': 120, 'Data Analyst': 80}\n",
    "job_postings2 = {'Machine Learning Engineer': 50, 'AI Specialist': 30}"
   ]
  },
  {
   "cell_type": "markdown",
   "id": "b61f7b57",
   "metadata": {},
   "source": [
    "---"
   ]
  },
  {
   "cell_type": "markdown",
   "id": "791a349d",
   "metadata": {},
   "source": [
    "## 🟥 Create Nested Dictionary (1.9.5)"
   ]
  },
  {
   "cell_type": "code",
   "execution_count": null,
   "id": "b5acf180",
   "metadata": {},
   "outputs": [],
   "source": []
  },
  {
   "cell_type": "markdown",
   "id": "30d9f6d7",
   "metadata": {},
   "source": [
    "---"
   ]
  }
 ],
 "metadata": {},
 "nbformat": 4,
 "nbformat_minor": 5
}
