{
 "cells": [
  {
   "cell_type": "markdown",
   "id": "036c0cb0",
   "metadata": {},
   "source": [
    "<a target=\"_blank\" href=\"https://colab.research.google.com/github/lukebarousse/Python_Data_Analytics_Course/blob/main/4_Problems/1_12_Operators Part 2.ipynb\">\n",
    "  <img src=\"https://colab.research.google.com/assets/colab-badge.svg\" alt=\"Open In Colab\"/>\n",
    "</a>"
   ]
  },
  {
   "cell_type": "markdown",
   "id": "e576e738",
   "metadata": {},
   "source": [
    "## 🟩 Check Object Identity (1.12.1)"
   ]
  },
  {
   "cell_type": "code",
   "execution_count": null,
   "id": "28d20b63",
   "metadata": {},
   "outputs": [],
   "source": [
    "# Code Needed\n",
    "job_title1 = 'Data Engineer'\n",
    "job_title2 = 'Data Scientist'"
   ]
  },
  {
   "cell_type": "markdown",
   "id": "578c026c",
   "metadata": {},
   "source": [
    "---"
   ]
  },
  {
   "cell_type": "markdown",
   "id": "55d410b4",
   "metadata": {},
   "source": [
    "## 🟩 Check Membership in List (1.12.2)"
   ]
  },
  {
   "cell_type": "code",
   "execution_count": null,
   "id": "83716fca",
   "metadata": {},
   "outputs": [],
   "source": [
    "# Code Needed\n",
    "job_locations = ['New York', 'San Francisco', 'Austin']"
   ]
  },
  {
   "cell_type": "markdown",
   "id": "3fea50ad",
   "metadata": {},
   "source": [
    "---"
   ]
  },
  {
   "cell_type": "markdown",
   "id": "32e38743",
   "metadata": {},
   "source": [
    "## 🟨 Check Substring Not in String (1.12.3)"
   ]
  },
  {
   "cell_type": "code",
   "execution_count": null,
   "id": "cffe612f",
   "metadata": {},
   "outputs": [],
   "source": [
    "# Code Needed\n",
    "job_title = 'Data Analyst'\n",
    "job_description = 'Data Scientist at Tech Corp'"
   ]
  },
  {
   "cell_type": "markdown",
   "id": "2fe810e2",
   "metadata": {},
   "source": [
    "---"
   ]
  },
  {
   "cell_type": "markdown",
   "id": "d93644ab",
   "metadata": {},
   "source": [
    "## 🟨 Check Multiple Memberships (1.12.4)"
   ]
  },
  {
   "cell_type": "code",
   "execution_count": null,
   "id": "66430c97",
   "metadata": {},
   "outputs": [],
   "source": [
    "# Code Needed\n",
    "job_titles = ['Data Scientist', 'Data Analyst', 'Machine Learning Engineer']"
   ]
  },
  {
   "cell_type": "markdown",
   "id": "844a092e",
   "metadata": {},
   "source": [
    "---"
   ]
  },
  {
   "cell_type": "markdown",
   "id": "98e8e55f",
   "metadata": {},
   "source": [
    "## 🟥 Bitwise OR Operation (1.12.5)"
   ]
  },
  {
   "cell_type": "code",
   "execution_count": null,
   "id": "c6f178cc",
   "metadata": {},
   "outputs": [],
   "source": [
    "# Code Needed\n",
    "salary1 = 100000\n",
    "salary2 = 50000"
   ]
  },
  {
   "cell_type": "markdown",
   "id": "13780309",
   "metadata": {},
   "source": [
    "---"
   ]
  }
 ],
 "metadata": {},
 "nbformat": 4,
 "nbformat_minor": 5
}
