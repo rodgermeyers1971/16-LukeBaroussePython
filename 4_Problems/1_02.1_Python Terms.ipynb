{
 "cells": [
  {
   "cell_type": "markdown",
   "id": "95f6ce0f",
   "metadata": {},
   "source": [
    "<a target=\"_blank\" href=\"https://colab.research.google.com/github/lukebarousse/Python_Data_Analytics_Course/blob/main/4_Problems/1_02.1_Python Terms.ipynb\">\n",
    "  <img src=\"https://colab.research.google.com/assets/colab-badge.svg\" alt=\"Open In Colab\"/>\n",
    "</a>"
   ]
  },
  {
   "cell_type": "markdown",
   "id": "beb9ad38",
   "metadata": {},
   "source": [
    "## 🟩 Example of Object (1.2.1.1)"
   ]
  },
  {
   "cell_type": "code",
   "execution_count": null,
   "id": "c12eb275",
   "metadata": {},
   "outputs": [],
   "source": []
  },
  {
   "cell_type": "markdown",
   "id": "4f92e924",
   "metadata": {},
   "source": [
    "---"
   ]
  },
  {
   "cell_type": "markdown",
   "id": "0d8bd28e",
   "metadata": {},
   "source": [
    "## 🟩 Define Variable (1.2.1.2)"
   ]
  },
  {
   "cell_type": "code",
   "execution_count": null,
   "id": "b86bf00f",
   "metadata": {},
   "outputs": [],
   "source": []
  },
  {
   "cell_type": "markdown",
   "id": "cb421822",
   "metadata": {},
   "source": [
    "---"
   ]
  },
  {
   "cell_type": "markdown",
   "id": "6e3537ff",
   "metadata": {},
   "source": [
    "## 🟨 Define Function (1.2.1.3)"
   ]
  },
  {
   "cell_type": "code",
   "execution_count": null,
   "id": "cde6212a",
   "metadata": {},
   "outputs": [],
   "source": []
  },
  {
   "cell_type": "markdown",
   "id": "7d7fbaf5",
   "metadata": {},
   "source": [
    "---"
   ]
  },
  {
   "cell_type": "markdown",
   "id": "3b23bdf3",
   "metadata": {},
   "source": [
    "## 🟨 Define Class (1.2.1.4)"
   ]
  },
  {
   "cell_type": "code",
   "execution_count": null,
   "id": "8258d78c",
   "metadata": {},
   "outputs": [],
   "source": []
  },
  {
   "cell_type": "markdown",
   "id": "a7b1c8db",
   "metadata": {},
   "source": [
    "---"
   ]
  },
  {
   "cell_type": "markdown",
   "id": "4e4c0d49",
   "metadata": {},
   "source": [
    "## 🟥 Call Method (1.2.1.5)"
   ]
  },
  {
   "cell_type": "code",
   "execution_count": null,
   "id": "5f123b9b",
   "metadata": {},
   "outputs": [],
   "source": []
  },
  {
   "cell_type": "markdown",
   "id": "84d3740e",
   "metadata": {},
   "source": [
    "---"
   ]
  },
  {
   "cell_type": "markdown",
   "id": "7b8b125d",
   "metadata": {},
   "source": [
    "## 🟥 Example of Attribute (1.2.1.6)"
   ]
  },
  {
   "cell_type": "code",
   "execution_count": null,
   "id": "d0c76efd",
   "metadata": {},
   "outputs": [],
   "source": []
  },
  {
   "cell_type": "markdown",
   "id": "b54deeb8",
   "metadata": {},
   "source": [
    "---"
   ]
  }
 ],
 "metadata": {},
 "nbformat": 4,
 "nbformat_minor": 5
}
