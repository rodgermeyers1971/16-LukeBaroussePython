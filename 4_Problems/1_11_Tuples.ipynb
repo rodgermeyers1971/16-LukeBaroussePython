{
 "cells": [
  {
   "cell_type": "markdown",
   "id": "20500a42",
   "metadata": {},
   "source": [
    "<a target=\"_blank\" href=\"https://colab.research.google.com/github/lukebarousse/Python_Data_Analytics_Course/blob/main/4_Problems/1_11_Tuples.ipynb\">\n",
    "  <img src=\"https://colab.research.google.com/assets/colab-badge.svg\" alt=\"Open In Colab\"/>\n",
    "</a>"
   ]
  },
  {
   "cell_type": "markdown",
   "id": "5abdbe55",
   "metadata": {},
   "source": [
    "## 🟩 Access Job Role (1.11.1)"
   ]
  },
  {
   "cell_type": "code",
   "execution_count": null,
   "id": "1d281195",
   "metadata": {},
   "outputs": [],
   "source": [
    "# Code Needed\n",
    "job_roles = ('Data Scientist', 'Data Analyst', 'Machine Learning Engineer')"
   ]
  },
  {
   "cell_type": "markdown",
   "id": "55986731",
   "metadata": {},
   "source": [
    "---"
   ]
  },
  {
   "cell_type": "markdown",
   "id": "ff20fe2b",
   "metadata": {},
   "source": [
    "## 🟨 Add Job Role to Tuple (1.11.2)"
   ]
  },
  {
   "cell_type": "code",
   "execution_count": null,
   "id": "3c540847",
   "metadata": {},
   "outputs": [],
   "source": [
    "# Code Needed\n",
    "job_roles = ('Data Scientist', 'Data Analyst', 'Machine Learning Engineer')"
   ]
  },
  {
   "cell_type": "markdown",
   "id": "675ef461",
   "metadata": {},
   "source": [
    "---"
   ]
  },
  {
   "cell_type": "markdown",
   "id": "790f26db",
   "metadata": {},
   "source": [
    "## 🟨 Remove Job Role from Tuple (1.11.3)"
   ]
  },
  {
   "cell_type": "code",
   "execution_count": null,
   "id": "0b7cb7af",
   "metadata": {},
   "outputs": [],
   "source": [
    "# Code Needed\n",
    "job_roles = ('Data Scientist', 'Data Analyst', 'Machine Learning Engineer')"
   ]
  },
  {
   "cell_type": "markdown",
   "id": "ffb135cd",
   "metadata": {},
   "source": [
    "---"
   ]
  },
  {
   "cell_type": "markdown",
   "id": "62a6e18a",
   "metadata": {},
   "source": [
    "## 🟨 Unpack Job Postings Tuple (1.11.4)"
   ]
  },
  {
   "cell_type": "code",
   "execution_count": null,
   "id": "bb771d79",
   "metadata": {},
   "outputs": [],
   "source": [
    "# Code Needed\n",
    "job_postings = (120, 80, 50)"
   ]
  },
  {
   "cell_type": "markdown",
   "id": "ca603ef4",
   "metadata": {},
   "source": [
    "---"
   ]
  },
  {
   "cell_type": "markdown",
   "id": "b0965dc7",
   "metadata": {},
   "source": [
    "## 🟥 Extract Nested Value from Tuple (1.11.5)"
   ]
  },
  {
   "cell_type": "code",
   "execution_count": null,
   "id": "704fad1b",
   "metadata": {},
   "outputs": [],
   "source": [
    "# Code Needed\n",
    "job_details = (('Data Scientist', 120), ('Data Analyst', 80), ('Machine Learning Engineer', 50))"
   ]
  },
  {
   "cell_type": "markdown",
   "id": "78683f7a",
   "metadata": {},
   "source": [
    "---"
   ]
  }
 ],
 "metadata": {},
 "nbformat": 4,
 "nbformat_minor": 5
}
