{
 "cells": [
  {
   "cell_type": "markdown",
   "id": "8ab55aca",
   "metadata": {},
   "source": [
    "<a target=\"_blank\" href=\"https://colab.research.google.com/github/lukebarousse/Python_Data_Analytics_Course/blob/main/4_Problems/1_06_Operators Part 1.ipynb\">\n",
    "  <img src=\"https://colab.research.google.com/assets/colab-badge.svg\" alt=\"Open In Colab\"/>\n",
    "</a>"
   ]
  },
  {
   "cell_type": "markdown",
   "id": "5c28e09e",
   "metadata": {},
   "source": [
    "## 🟩 Calculate Annual Salary (1.6.1)"
   ]
  },
  {
   "cell_type": "code",
   "execution_count": null,
   "id": "f5eae247",
   "metadata": {},
   "outputs": [],
   "source": [
    "# Code Needed\n",
    "monthly_salary = 8000"
   ]
  },
  {
   "cell_type": "markdown",
   "id": "75a63b15",
   "metadata": {},
   "source": [
    "---"
   ]
  },
  {
   "cell_type": "markdown",
   "id": "9f50032f",
   "metadata": {},
   "source": [
    "## 🟩 Compare Salaries (1.6.2)"
   ]
  },
  {
   "cell_type": "code",
   "execution_count": null,
   "id": "d74e5eec",
   "metadata": {},
   "outputs": [],
   "source": [
    "# Code Needed\n",
    "avg_salary_analyst = 70000\n",
    "avg_salary_scientist = 85000"
   ]
  },
  {
   "cell_type": "markdown",
   "id": "53cabe65",
   "metadata": {},
   "source": [
    "---"
   ]
  },
  {
   "cell_type": "markdown",
   "id": "a0898aab",
   "metadata": {},
   "source": [
    "## 🟨 Calculate Remainder (1.6.3)"
   ]
  },
  {
   "cell_type": "code",
   "execution_count": null,
   "id": "97e2ce73",
   "metadata": {},
   "outputs": [],
   "source": [
    "# Code Needed\n",
    "total_applications = 123\n",
    "job_openings = 10"
   ]
  },
  {
   "cell_type": "markdown",
   "id": "f069d320",
   "metadata": {},
   "source": [
    "---"
   ]
  },
  {
   "cell_type": "markdown",
   "id": "45fb92ab",
   "metadata": {},
   "source": [
    "## 🟨 Increment Job Postings (1.6.4)"
   ]
  },
  {
   "cell_type": "code",
   "execution_count": null,
   "id": "c05ce14e",
   "metadata": {},
   "outputs": [],
   "source": [
    "# Code Needed\n",
    "job_postings = 20"
   ]
  },
  {
   "cell_type": "markdown",
   "id": "c4bf5251",
   "metadata": {},
   "source": [
    "---"
   ]
  },
  {
   "cell_type": "markdown",
   "id": "ffe080db",
   "metadata": {},
   "source": [
    "## 🟨 Calculate Average Salary (1.6.5)"
   ]
  },
  {
   "cell_type": "code",
   "execution_count": null,
   "id": "c5bb9dc1",
   "metadata": {},
   "outputs": [],
   "source": [
    "# Code Needed\n",
    "min_salary = 50000\n",
    "max_salary = 120000"
   ]
  },
  {
   "cell_type": "markdown",
   "id": "156db404",
   "metadata": {},
   "source": [
    "---"
   ]
  }
 ],
 "metadata": {},
 "nbformat": 4,
 "nbformat_minor": 5
}
