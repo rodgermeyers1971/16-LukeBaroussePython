{
 "cells": [
  {
   "cell_type": "markdown",
   "id": "35c22e22",
   "metadata": {},
   "source": [
    "<a target=\"_blank\" href=\"https://colab.research.google.com/github/lukebarousse/Python_Data_Analytics_Course/blob/main/4_Problems/2_13_Matplotlib Format Charts.ipynb\">\n",
    "  <img src=\"https://colab.research.google.com/assets/colab-badge.svg\" alt=\"Open In Colab\"/>\n",
    "</a>"
   ]
  },
  {
   "cell_type": "markdown",
   "id": "93d4bd66",
   "metadata": {},
   "source": [
    "## 🟩 Subplots with Bar Charts (2.13.1)"
   ]
  },
  {
   "cell_type": "code",
   "execution_count": null,
   "id": "f542e80c",
   "metadata": {},
   "outputs": [],
   "source": []
  },
  {
   "cell_type": "markdown",
   "id": "a1082174",
   "metadata": {},
   "source": [
    "---"
   ]
  },
  {
   "cell_type": "markdown",
   "id": "44001bd6",
   "metadata": {},
   "source": [
    "## 🟨 Subplots with Job Titles by Schedule (2.13.2)"
   ]
  },
  {
   "cell_type": "code",
   "execution_count": null,
   "id": "0ec207b2",
   "metadata": {},
   "outputs": [],
   "source": []
  },
  {
   "cell_type": "markdown",
   "id": "d5e2bb11",
   "metadata": {},
   "source": [
    "---"
   ]
  },
  {
   "cell_type": "markdown",
   "id": "a1a99074",
   "metadata": {},
   "source": [
    "## 🟥 Top Skills for Job Roles Subplots (2.13.3)"
   ]
  },
  {
   "cell_type": "code",
   "execution_count": null,
   "id": "da9f1181",
   "metadata": {},
   "outputs": [],
   "source": []
  },
  {
   "cell_type": "markdown",
   "id": "e259d5a1",
   "metadata": {},
   "source": [
    "---"
   ]
  }
 ],
 "metadata": {},
 "nbformat": 4,
 "nbformat_minor": 5
}
