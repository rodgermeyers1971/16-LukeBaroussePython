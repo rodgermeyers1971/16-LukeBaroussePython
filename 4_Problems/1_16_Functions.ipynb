{
 "cells": [
  {
   "cell_type": "markdown",
   "id": "47f7f9a6",
   "metadata": {},
   "source": [
    "<a target=\"_blank\" href=\"https://colab.research.google.com/github/lukebarousse/Python_Data_Analytics_Course/blob/main/4_Problems/1_16_Functions.ipynb\">\n",
    "  <img src=\"https://colab.research.google.com/assets/colab-badge.svg\" alt=\"Open In Colab\"/>\n",
    "</a>"
   ]
  },
  {
   "cell_type": "markdown",
   "id": "1db181cf",
   "metadata": {},
   "source": [
    "## 🟩 Job Title Contains (1.16.1)"
   ]
  },
  {
   "cell_type": "code",
   "execution_count": null,
   "id": "740b79a1",
   "metadata": {},
   "outputs": [],
   "source": [
    "# Code Needed\n",
    "job_title = 'Data Scientist'\n",
    "keyword = 'Data'"
   ]
  },
  {
   "cell_type": "markdown",
   "id": "1732d805",
   "metadata": {},
   "source": [
    "---"
   ]
  },
  {
   "cell_type": "markdown",
   "id": "14e34822",
   "metadata": {},
   "source": [
    "## 🟩 Average Salary (1.16.2)"
   ]
  },
  {
   "cell_type": "code",
   "execution_count": null,
   "id": "7662927c",
   "metadata": {},
   "outputs": [],
   "source": [
    "# Code Needed\n",
    "salaries = [95000, 120000, 105000, 90000, 130000]"
   ]
  },
  {
   "cell_type": "markdown",
   "id": "1e9a1c7b",
   "metadata": {},
   "source": [
    "---"
   ]
  },
  {
   "cell_type": "markdown",
   "id": "21247fbc",
   "metadata": {},
   "source": [
    "## 🟨 Salary Statistics (1.16.3)"
   ]
  },
  {
   "cell_type": "code",
   "execution_count": null,
   "id": "a1b6cf11",
   "metadata": {},
   "outputs": [],
   "source": [
    "# Code Needed\n",
    "salaries = [95000, 120000, 105000, 90000, 130000]"
   ]
  },
  {
   "cell_type": "markdown",
   "id": "99eed404",
   "metadata": {},
   "source": [
    "---"
   ]
  },
  {
   "cell_type": "markdown",
   "id": "e833849f",
   "metadata": {},
   "source": [
    "## 🟥 Job Posting Summary (1.16.4)"
   ]
  },
  {
   "cell_type": "code",
   "execution_count": null,
   "id": "cb857ad6",
   "metadata": {},
   "outputs": [],
   "source": [
    "# Code Needed\n",
    "job_postings = [\n",
    "    {'title': 'Data Scientist', 'location': 'New York', 'salary': 95000},\n",
    "    {'title': 'Data Analyst', 'location': 'San Francisco', 'salary': 85000},\n",
    "    {'title': 'Machine Learning Engineer', 'location': 'New York', 'salary': 115000}\n",
    "]"
   ]
  },
  {
   "cell_type": "markdown",
   "id": "8b082c95",
   "metadata": {},
   "source": [
    "---"
   ]
  }
 ],
 "metadata": {},
 "nbformat": 4,
 "nbformat_minor": 5
}
