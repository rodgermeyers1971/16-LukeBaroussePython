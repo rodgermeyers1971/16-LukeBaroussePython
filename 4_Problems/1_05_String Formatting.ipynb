{
 "cells": [
  {
   "cell_type": "markdown",
   "id": "707277df",
   "metadata": {},
   "source": [
    "<a target=\"_blank\" href=\"https://colab.research.google.com/github/lukebarousse/Python_Data_Analytics_Course/blob/main/4_Problems/1_05_String Formatting.ipynb\">\n",
    "  <img src=\"https://colab.research.google.com/assets/colab-badge.svg\" alt=\"Open In Colab\"/>\n",
    "</a>"
   ]
  },
  {
   "cell_type": "markdown",
   "id": "33249ddd",
   "metadata": {},
   "source": [
    "## 🟩 Concatenate Strings (1.5.1)"
   ]
  },
  {
   "cell_type": "code",
   "execution_count": null,
   "id": "f5eb44b1",
   "metadata": {},
   "outputs": [],
   "source": [
    "# Code Needed\n",
    "job_title = 'Data Scientist'"
   ]
  },
  {
   "cell_type": "markdown",
   "id": "ceadadd2",
   "metadata": {},
   "source": [
    "---"
   ]
  },
  {
   "cell_type": "markdown",
   "id": "4b752a3b",
   "metadata": {},
   "source": [
    "## 🟩 Format with f-strings (1.5.2)"
   ]
  },
  {
   "cell_type": "code",
   "execution_count": null,
   "id": "f1dd6630",
   "metadata": {},
   "outputs": [],
   "source": [
    "# Code Needed\n",
    "position = 'Data Scientist'\n",
    "company = 'DataWiz Inc.'"
   ]
  },
  {
   "cell_type": "markdown",
   "id": "f3b9b437",
   "metadata": {},
   "source": [
    "---"
   ]
  },
  {
   "cell_type": "markdown",
   "id": "7ccbfb33",
   "metadata": {},
   "source": [
    "## 🟩 Format with str.format() (1.5.3)"
   ]
  },
  {
   "cell_type": "code",
   "execution_count": null,
   "id": "3ad6287a",
   "metadata": {},
   "outputs": [],
   "source": [
    "# Code Needed\n",
    "role = 'Data Analyst'\n",
    "skill = 'Python'"
   ]
  },
  {
   "cell_type": "markdown",
   "id": "553e97a6",
   "metadata": {},
   "source": [
    "---"
   ]
  },
  {
   "cell_type": "markdown",
   "id": "2539859a",
   "metadata": {},
   "source": [
    "## 🟨 Format with %-formatting (1.5.4)"
   ]
  },
  {
   "cell_type": "code",
   "execution_count": null,
   "id": "88cfb9fa",
   "metadata": {},
   "outputs": [],
   "source": [
    "# Code Needed\n",
    "role = 'Data Engineer'\n",
    "skill = 'SQL'"
   ]
  },
  {
   "cell_type": "markdown",
   "id": "d6081ce3",
   "metadata": {},
   "source": [
    "---"
   ]
  }
 ],
 "metadata": {},
 "nbformat": 4,
 "nbformat_minor": 5
}
