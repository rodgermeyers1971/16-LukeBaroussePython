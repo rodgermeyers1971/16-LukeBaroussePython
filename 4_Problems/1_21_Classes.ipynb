{
 "cells": [
  {
   "cell_type": "markdown",
   "id": "18a8d444",
   "metadata": {},
   "source": [
    "<a target=\"_blank\" href=\"https://colab.research.google.com/github/lukebarousse/Python_Data_Analytics_Course/blob/main/4_Problems/1_21_Classes.ipynb\">\n",
    "  <img src=\"https://colab.research.google.com/assets/colab-badge.svg\" alt=\"Open In Colab\"/>\n",
    "</a>"
   ]
  },
  {
   "cell_type": "markdown",
   "id": "edc8a40a",
   "metadata": {},
   "source": [
    "## 🟩 Create JobPosting Class (1.21.1)\n",
    "\n",
    "**Problem Statement:**\n",
    "* Create a class named <code>JobPosting</code> with attributes <code>title</code>, <code>company</code>, and <code>location</code>.\n",
    "* Create an instance of an object (called <code>job</code>) of this class with the title 'Data Scientist', company 'Tech Innovations', and location 'New York'.\n",
    "* Print the attributes of the object.\n",
    "\n",
    "**Hint:**\n",
    "Use the <code>__init__</code> method to initialize the attributes of the class."
   ]
  },
  {
   "cell_type": "code",
   "execution_count": 1,
   "id": "26bdb6dc",
   "metadata": {},
   "outputs": [],
   "source": [
    "# Create the JobPostings class in this code cell\n",
    "\n",
    "class JobPosting:\n",
    "    def __init__(self, title, company, location):\n",
    "        self.title = title\n",
    "        self.company = company\n",
    "        self.location = location"
   ]
  },
  {
   "cell_type": "code",
   "execution_count": 2,
   "id": "2461f7a5",
   "metadata": {},
   "outputs": [
    {
     "name": "stdout",
     "output_type": "stream",
     "text": [
      "Data Scientist\n",
      "Tech Innovations\n",
      "New York\n"
     ]
    }
   ],
   "source": [
    "# Code Needed\n",
    "job = JobPosting('Data Scientist', 'Tech Innovations', 'New York')\n",
    "\n",
    "print(job.title)\n",
    "print(job.company)\n",
    "print(job.location)"
   ]
  },
  {
   "cell_type": "markdown",
   "id": "98b6caff",
   "metadata": {},
   "source": [
    "---"
   ]
  },
  {
   "cell_type": "markdown",
   "id": "b152b78d",
   "metadata": {},
   "source": [
    "## 🟨 Convert to Dictionary (1.21.2)\n",
    "\n",
    "**Problem Statement:**\n",
    "\n",
    "* Create a class named <code>JobPosting</code> with a method <code>to_dict</code> that converts the job posting details to a dictionary.\n",
    "* Instantiate an object (called <code>job</code>) of this class with the title 'Data Scientist', company 'Tech Innovations', location 'New York', and salary as 120000.\n",
    "* Convert its details to a dictionary using the <code>to_dict</code> method.\n",
    "* Print the dictionary.\n",
    "\n",
    "**Hint:**\n",
    "Use a method to convert the attributes of the class to a dictionary."
   ]
  },
  {
   "cell_type": "code",
   "execution_count": 3,
   "id": "82b617cd",
   "metadata": {},
   "outputs": [],
   "source": [
    "# Create the JobPostings class in this code cell\n",
    "class JobPosting:\n",
    "    def __init__(self, title, company, location, salary):\n",
    "        self.title = title\n",
    "        self.company = company\n",
    "        self.location = location\n",
    "        self.salary = salary\n",
    "    \n",
    "    def to_dict(self):\n",
    "        return {\n",
    "            'title': self.title,\n",
    "            'company': self.company,\n",
    "            'location': self.location,\n",
    "            'salary': self.salary\n",
    "        }"
   ]
  },
  {
   "cell_type": "code",
   "execution_count": 4,
   "id": "d1bc613a",
   "metadata": {},
   "outputs": [
    {
     "name": "stdout",
     "output_type": "stream",
     "text": [
      "{'title': 'Data Scientist', 'company': 'Tech Innovations', 'location': 'New York', 'salary': 120000}\n"
     ]
    }
   ],
   "source": [
    "# Code Needed\n",
    "job = JobPosting('Data Scientist', 'Tech Innovations', 'New York', 120000)\n",
    "print(job.to_dict())"
   ]
  },
  {
   "cell_type": "markdown",
   "id": "68c9b6ec",
   "metadata": {},
   "source": [
    "---"
   ]
  },
  {
   "cell_type": "markdown",
   "id": "65b80ffe",
   "metadata": {},
   "source": [
    "## 🟥 Compare Job Salaries (1.21.3)\n",
    "\n",
    "**Problem Statement:**\n",
    "\n",
    "* Create a class named <code>JobPosting</code> with a method <code>compare_salary</code> that compares the salary of two job postings and returns the title of the job with the higher salary.\n",
    "* Instantiate two objects called <code>job1</code> and <code>job2</code> of this class and compare their salaries using the <code>compare_salary</code> method.\n",
    "* The two objects are defined below in the code needed.\n",
    "\n",
    "**Hint:**\n",
    "Use a method to compare the salary attribute of two objects and return the title of the job with the higher salary.\n"
   ]
  },
  {
   "cell_type": "code",
   "execution_count": 5,
   "id": "5d5cf1bd",
   "metadata": {},
   "outputs": [],
   "source": [
    "# Create the JobPostings class in this code cell\n",
    "class JobPosting:\n",
    "    def __init__(self, title, company, location, salary):\n",
    "        self.title = title\n",
    "        self.company = company\n",
    "        self.location = location\n",
    "        self.salary = salary\n",
    "    \n",
    "    def compare_salary(self, other_job):\n",
    "        if self.salary > other_job.salary:\n",
    "            return self.title\n",
    "        else:\n",
    "            return other_job.title"
   ]
  },
  {
   "cell_type": "code",
   "execution_count": 6,
   "id": "5a6b25e4",
   "metadata": {},
   "outputs": [
    {
     "name": "stdout",
     "output_type": "stream",
     "text": [
      "Data Scientist\n"
     ]
    }
   ],
   "source": [
    "# Code Needed\n",
    "job1 = JobPosting('Data Scientist', 'Tech Innovations', 'New York', 120000)\n",
    "job2 = JobPosting('Data Analyst', 'Data Driven Co', 'San Francisco', 100000)\n",
    "\n",
    "print(job1.compare_salary(job2))"
   ]
  },
  {
   "cell_type": "markdown",
   "id": "0f083bf1",
   "metadata": {},
   "source": [
    "---"
   ]
  }
 ],
 "metadata": {
  "kernelspec": {
   "display_name": "base",
   "language": "python",
   "name": "python3"
  },
  "language_info": {
   "codemirror_mode": {
    "name": "ipython",
    "version": 3
   },
   "file_extension": ".py",
   "mimetype": "text/x-python",
   "name": "python",
   "nbconvert_exporter": "python",
   "pygments_lexer": "ipython3",
   "version": "3.11.7"
  }
 },
 "nbformat": 4,
 "nbformat_minor": 5
}
