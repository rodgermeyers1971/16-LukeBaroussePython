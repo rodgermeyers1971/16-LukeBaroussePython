{
 "cells": [
  {
   "cell_type": "markdown",
   "id": "cd18f1ad",
   "metadata": {},
   "source": [
    "<a target=\"_blank\" href=\"https://colab.research.google.com/github/lukebarousse/Python_Data_Analytics_Course/blob/main/4_Problems/1_23_Pandas Intro.ipynb\">\n",
    "  <img src=\"https://colab.research.google.com/assets/colab-badge.svg\" alt=\"Open In Colab\"/>\n",
    "</a>"
   ]
  },
  {
   "cell_type": "markdown",
   "id": "8fc69485",
   "metadata": {},
   "source": [
    "## 🟩 Load and Display Last 5 Rows (1.23.1)\n",
    "\n",
    "**Problem Statement:**\n",
    "- Import the Pandas library under the alias <code>pd</code>.\n",
    "- Import the <code>load_datset</code> function from <code>datasets</code> library.\n",
    "- Load the course dataset (<code>'lukebarousse/data_jobs'</code>) using the <code>load_dataset</code> function.\n",
    "- Transform it into a DataFrame and display the last 5 rows.\n",
    "\n",
    "**Hint:**\n",
    "Use the <code>tail</code> method to display the last 5 rows."
   ]
  },
  {
   "cell_type": "code",
   "execution_count": 2,
   "id": "d8ec0631",
   "metadata": {},
   "outputs": [],
   "source": [
    "import pandas as pd\n",
    "from datasets import load_dataset"
   ]
  },
  {
   "cell_type": "code",
   "execution_count": 4,
   "id": "56c0a98f",
   "metadata": {},
   "outputs": [
    {
     "data": {
      "text/html": [
       "<div>\n",
       "<style scoped>\n",
       "    .dataframe tbody tr th:only-of-type {\n",
       "        vertical-align: middle;\n",
       "    }\n",
       "\n",
       "    .dataframe tbody tr th {\n",
       "        vertical-align: top;\n",
       "    }\n",
       "\n",
       "    .dataframe thead th {\n",
       "        text-align: right;\n",
       "    }\n",
       "</style>\n",
       "<table border=\"1\" class=\"dataframe\">\n",
       "  <thead>\n",
       "    <tr style=\"text-align: right;\">\n",
       "      <th></th>\n",
       "      <th>job_title_short</th>\n",
       "      <th>job_title</th>\n",
       "      <th>job_location</th>\n",
       "      <th>job_via</th>\n",
       "      <th>job_schedule_type</th>\n",
       "      <th>job_work_from_home</th>\n",
       "      <th>search_location</th>\n",
       "      <th>job_posted_date</th>\n",
       "      <th>job_no_degree_mention</th>\n",
       "      <th>job_health_insurance</th>\n",
       "      <th>job_country</th>\n",
       "      <th>salary_rate</th>\n",
       "      <th>salary_year_avg</th>\n",
       "      <th>salary_hour_avg</th>\n",
       "      <th>company_name</th>\n",
       "      <th>job_skills</th>\n",
       "      <th>job_type_skills</th>\n",
       "    </tr>\n",
       "  </thead>\n",
       "  <tbody>\n",
       "    <tr>\n",
       "      <th>785736</th>\n",
       "      <td>Software Engineer</td>\n",
       "      <td>DevOps Engineer</td>\n",
       "      <td>Singapura</td>\n",
       "      <td>melalui Trabajo.org</td>\n",
       "      <td>Pekerjaan tetap</td>\n",
       "      <td>False</td>\n",
       "      <td>Singapore</td>\n",
       "      <td>2023-03-13 06:16:16</td>\n",
       "      <td>False</td>\n",
       "      <td>False</td>\n",
       "      <td>Singapore</td>\n",
       "      <td>None</td>\n",
       "      <td>NaN</td>\n",
       "      <td>NaN</td>\n",
       "      <td>CAREERSTAR INTERNATIONAL PTE. LTD.</td>\n",
       "      <td>['bash', 'python', 'perl', 'linux', 'unix', 'k...</td>\n",
       "      <td>{'os': ['linux', 'unix'], 'other': ['kubernete...</td>\n",
       "    </tr>\n",
       "    <tr>\n",
       "      <th>785737</th>\n",
       "      <td>Data Analyst</td>\n",
       "      <td>CRM Data Analyst</td>\n",
       "      <td>Bad Rodach, Jerman</td>\n",
       "      <td>melalui BeBee Deutschland</td>\n",
       "      <td>Pekerjaan tetap</td>\n",
       "      <td>False</td>\n",
       "      <td>Germany</td>\n",
       "      <td>2023-03-12 06:18:18</td>\n",
       "      <td>False</td>\n",
       "      <td>False</td>\n",
       "      <td>Germany</td>\n",
       "      <td>None</td>\n",
       "      <td>NaN</td>\n",
       "      <td>NaN</td>\n",
       "      <td>HABA FAMILYGROUP</td>\n",
       "      <td>['sas', 'sas', 'sql', 'excel']</td>\n",
       "      <td>{'analyst_tools': ['sas', 'excel'], 'programmi...</td>\n",
       "    </tr>\n",
       "    <tr>\n",
       "      <th>785738</th>\n",
       "      <td>Business Analyst</td>\n",
       "      <td>Commercial Analyst - Start Now</td>\n",
       "      <td>Malaysia</td>\n",
       "      <td>melalui Ricebowl</td>\n",
       "      <td>Pekerjaan tetap</td>\n",
       "      <td>False</td>\n",
       "      <td>Malaysia</td>\n",
       "      <td>2023-03-12 06:32:36</td>\n",
       "      <td>False</td>\n",
       "      <td>False</td>\n",
       "      <td>Malaysia</td>\n",
       "      <td>None</td>\n",
       "      <td>NaN</td>\n",
       "      <td>NaN</td>\n",
       "      <td>Lendlease Corporation</td>\n",
       "      <td>['powerpoint', 'excel']</td>\n",
       "      <td>{'analyst_tools': ['powerpoint', 'excel']}</td>\n",
       "    </tr>\n",
       "    <tr>\n",
       "      <th>785739</th>\n",
       "      <td>Data Engineer</td>\n",
       "      <td>Principal Associate, Data Engineer (Remote-Eli...</td>\n",
       "      <td>Newark, New Jersey, Amerika Serikat</td>\n",
       "      <td>melalui Recruit.net</td>\n",
       "      <td>Pekerjaan tetap</td>\n",
       "      <td>False</td>\n",
       "      <td>Sudan</td>\n",
       "      <td>2023-03-12 06:32:15</td>\n",
       "      <td>False</td>\n",
       "      <td>False</td>\n",
       "      <td>Sudan</td>\n",
       "      <td>None</td>\n",
       "      <td>NaN</td>\n",
       "      <td>NaN</td>\n",
       "      <td>Capital One</td>\n",
       "      <td>['python', 'go', 'nosql', 'sql', 'mongo', 'she...</td>\n",
       "      <td>{'cloud': ['aws', 'snowflake', 'azure', 'redsh...</td>\n",
       "    </tr>\n",
       "    <tr>\n",
       "      <th>785740</th>\n",
       "      <td>Software Engineer</td>\n",
       "      <td>AWS System Analyst</td>\n",
       "      <td>India</td>\n",
       "      <td>melalui Trigyn</td>\n",
       "      <td>Pekerjaan tetap</td>\n",
       "      <td>False</td>\n",
       "      <td>India</td>\n",
       "      <td>2023-03-13 06:16:31</td>\n",
       "      <td>False</td>\n",
       "      <td>False</td>\n",
       "      <td>India</td>\n",
       "      <td>None</td>\n",
       "      <td>NaN</td>\n",
       "      <td>NaN</td>\n",
       "      <td>Trigyn</td>\n",
       "      <td>['aws', 'flow']</td>\n",
       "      <td>{'cloud': ['aws'], 'other': ['flow']}</td>\n",
       "    </tr>\n",
       "  </tbody>\n",
       "</table>\n",
       "</div>"
      ],
      "text/plain": [
       "          job_title_short                                          job_title  \\\n",
       "785736  Software Engineer                                    DevOps Engineer   \n",
       "785737       Data Analyst                                   CRM Data Analyst   \n",
       "785738   Business Analyst                     Commercial Analyst - Start Now   \n",
       "785739      Data Engineer  Principal Associate, Data Engineer (Remote-Eli...   \n",
       "785740  Software Engineer                                 AWS System Analyst   \n",
       "\n",
       "                               job_location                    job_via  \\\n",
       "785736                            Singapura        melalui Trabajo.org   \n",
       "785737                   Bad Rodach, Jerman  melalui BeBee Deutschland   \n",
       "785738                             Malaysia           melalui Ricebowl   \n",
       "785739  Newark, New Jersey, Amerika Serikat        melalui Recruit.net   \n",
       "785740                                India             melalui Trigyn   \n",
       "\n",
       "       job_schedule_type  job_work_from_home search_location  \\\n",
       "785736   Pekerjaan tetap               False       Singapore   \n",
       "785737   Pekerjaan tetap               False         Germany   \n",
       "785738   Pekerjaan tetap               False        Malaysia   \n",
       "785739   Pekerjaan tetap               False           Sudan   \n",
       "785740   Pekerjaan tetap               False           India   \n",
       "\n",
       "            job_posted_date  job_no_degree_mention  job_health_insurance  \\\n",
       "785736  2023-03-13 06:16:16                  False                 False   \n",
       "785737  2023-03-12 06:18:18                  False                 False   \n",
       "785738  2023-03-12 06:32:36                  False                 False   \n",
       "785739  2023-03-12 06:32:15                  False                 False   \n",
       "785740  2023-03-13 06:16:31                  False                 False   \n",
       "\n",
       "       job_country salary_rate  salary_year_avg  salary_hour_avg  \\\n",
       "785736   Singapore        None              NaN              NaN   \n",
       "785737     Germany        None              NaN              NaN   \n",
       "785738    Malaysia        None              NaN              NaN   \n",
       "785739       Sudan        None              NaN              NaN   \n",
       "785740       India        None              NaN              NaN   \n",
       "\n",
       "                              company_name  \\\n",
       "785736  CAREERSTAR INTERNATIONAL PTE. LTD.   \n",
       "785737                    HABA FAMILYGROUP   \n",
       "785738               Lendlease Corporation   \n",
       "785739                         Capital One   \n",
       "785740                              Trigyn   \n",
       "\n",
       "                                               job_skills  \\\n",
       "785736  ['bash', 'python', 'perl', 'linux', 'unix', 'k...   \n",
       "785737                     ['sas', 'sas', 'sql', 'excel']   \n",
       "785738                            ['powerpoint', 'excel']   \n",
       "785739  ['python', 'go', 'nosql', 'sql', 'mongo', 'she...   \n",
       "785740                                    ['aws', 'flow']   \n",
       "\n",
       "                                          job_type_skills  \n",
       "785736  {'os': ['linux', 'unix'], 'other': ['kubernete...  \n",
       "785737  {'analyst_tools': ['sas', 'excel'], 'programmi...  \n",
       "785738         {'analyst_tools': ['powerpoint', 'excel']}  \n",
       "785739  {'cloud': ['aws', 'snowflake', 'azure', 'redsh...  \n",
       "785740              {'cloud': ['aws'], 'other': ['flow']}  "
      ]
     },
     "execution_count": 4,
     "metadata": {},
     "output_type": "execute_result"
    }
   ],
   "source": [
    "# Loading Data\n",
    "dataset = load_dataset('lukebarousse/data_jobs')\n",
    "df = dataset['train'].to_pandas()\n",
    "df.tail(5)"
   ]
  },
  {
   "cell_type": "markdown",
   "id": "71ea4cdc",
   "metadata": {},
   "source": [
    "---"
   ]
  },
  {
   "cell_type": "markdown",
   "id": "b0e36442",
   "metadata": {},
   "source": [
    "## 🟩 Select Job Location Column (1.23.2)\n",
    "\n",
    "**Problem Statement:**\n",
    "Select and display the <code>job_location</code> column from the course dataset DataFrame you created in the last exercise using bracket notation.\n",
    "\n",
    "**Code Needed:**\n",
    ">import pandas as pd<br>\n",
    ">from datasets import load_dataset<br>\n",
    ">dataset = load_dataset('lukebarousse/data_jobs')<br>\n",
    ">df = dataset['train'].to_pandas()<br>\n",
    "\n",
    "**Hint:**\n",
    "Use the bracket notation to select the column."
   ]
  },
  {
   "cell_type": "code",
   "execution_count": 6,
   "id": "9062f032",
   "metadata": {},
   "outputs": [
    {
     "data": {
      "text/plain": [
       "0                               Watertown, CT\n",
       "1                Guadalajara, Jalisco, Mexico\n",
       "2                             Berlin, Germany\n",
       "3                             San Antonio, TX\n",
       "4                              Washington, DC\n",
       "                         ...                 \n",
       "785736                              Singapura\n",
       "785737                     Bad Rodach, Jerman\n",
       "785738                               Malaysia\n",
       "785739    Newark, New Jersey, Amerika Serikat\n",
       "785740                                  India\n",
       "Name: job_location, Length: 785741, dtype: object"
      ]
     },
     "execution_count": 6,
     "metadata": {},
     "output_type": "execute_result"
    }
   ],
   "source": [
    "df['job_location']"
   ]
  },
  {
   "cell_type": "markdown",
   "id": "97ef6ba5",
   "metadata": {},
   "source": [
    "---"
   ]
  },
  {
   "cell_type": "markdown",
   "id": "657854a6",
   "metadata": {},
   "source": [
    "## 🟩 Select Search Location Column (1.23.3)\n",
    "\n",
    "***Problem Statement:**\n",
    "Select and display the <code>search_location</code> column from the DataFrame using dot notation.\n",
    "\n",
    "**Code Needed:**\n",
    ">import pandas as pd<br>\n",
    ">from datasets import load_dataset<br>\n",
    "<br>\n",
    ">dataset = load_dataset('lukebarousse/data_jobs')<br>\n",
    ">df = dataset['train'].to_pandas()<br>\n",
    "\n",
    "**Hint:**\n",
    "Use the dot notation to select the column.\n"
   ]
  },
  {
   "cell_type": "code",
   "execution_count": 7,
   "id": "3b544269",
   "metadata": {},
   "outputs": [
    {
     "data": {
      "text/plain": [
       "0         Texas, United States\n",
       "1                       Mexico\n",
       "2                      Germany\n",
       "3         Texas, United States\n",
       "4                        Sudan\n",
       "                  ...         \n",
       "785736               Singapore\n",
       "785737                 Germany\n",
       "785738                Malaysia\n",
       "785739                   Sudan\n",
       "785740                   India\n",
       "Name: search_location, Length: 785741, dtype: object"
      ]
     },
     "execution_count": 7,
     "metadata": {},
     "output_type": "execute_result"
    }
   ],
   "source": [
    "df.search_location"
   ]
  },
  {
   "cell_type": "markdown",
   "id": "6cddcc08",
   "metadata": {},
   "source": [
    "---"
   ]
  },
  {
   "cell_type": "markdown",
   "id": "c18b384e",
   "metadata": {},
   "source": [
    "## 🟩 Select Job Title from 57th Row Element (1.23.4)\n",
    "\n",
    "**Problem Statement:**\n",
    "Select the <code>job_title</code> from the 57th row from the DataFrame using its index.\n",
    "\n",
    "**Code Needed:**\n",
    ">import pandas as pd<br>\n",
    ">from datasets import load_dataset<br>\n",
    "<br>\n",
    ">dataset = load_dataset('lukebarousse/data_jobs')<br>\n",
    ">df = dataset['train'].to_pandas()<br>\n",
    "\n",
    "**Hint:**\n",
    "Use the column title and index to select the specific element."
   ]
  },
  {
   "cell_type": "code",
   "execution_count": 10,
   "id": "3240778d",
   "metadata": {},
   "outputs": [
    {
     "data": {
      "text/plain": [
       "'Principal Statistical Scientist'"
      ]
     },
     "execution_count": 10,
     "metadata": {},
     "output_type": "execute_result"
    }
   ],
   "source": [
    "df['job_title'][56]"
   ]
  },
  {
   "cell_type": "markdown",
   "id": "24502846",
   "metadata": {},
   "source": [
    "---"
   ]
  }
 ],
 "metadata": {
  "kernelspec": {
   "display_name": "base",
   "language": "python",
   "name": "python3"
  },
  "language_info": {
   "codemirror_mode": {
    "name": "ipython",
    "version": 3
   },
   "file_extension": ".py",
   "mimetype": "text/x-python",
   "name": "python",
   "nbconvert_exporter": "python",
   "pygments_lexer": "ipython3",
   "version": "3.11.7"
  }
 },
 "nbformat": 4,
 "nbformat_minor": 5
}
